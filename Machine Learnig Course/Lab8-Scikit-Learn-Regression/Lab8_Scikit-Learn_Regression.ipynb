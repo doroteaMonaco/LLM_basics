{
 "cells": [
  {
   "cell_type": "markdown",
   "id": "5552bf23",
   "metadata": {},
   "source": [
    "# Lab 8: Regression with Scikit-Learn\n",
    "\n",
    "The objective of this notebook is to learn about the **Scikit-Learn** library (<a href=\"https://scikit-learn.org/stable/\" >official documentation</a>) and **regression**.\n",
    "\n",
    "In this lab, we will train a regression model that predicts the price of the house given some input features such as 'price', 'area', 'bedrooms', 'bathrooms', 'stories', 'parking'."
   ]
  },
  {
   "cell_type": "markdown",
   "id": "39915670",
   "metadata": {},
   "source": [
    "## Outline\n",
    "\n",
    "- [1. Load Dataset](#1)\n",
    "- [2. Data Exploration](#2)\n",
    "- [3. Linear Regression with 1D input features](#3)\n",
    "- [4. Regression with all input features](#4)\n"
   ]
  },
  {
   "cell_type": "markdown",
   "id": "87e004f3",
   "metadata": {},
   "source": [
    "First, run the following cell to import some useful libraries to complete this Lab. If not already done, you must install them in your virtual environment"
   ]
  },
  {
   "cell_type": "code",
   "execution_count": null,
   "id": "1ffeedcb",
   "metadata": {},
   "outputs": [],
   "source": [
    "import pandas as pd\n",
    "import numpy as np\n",
    "import matplotlib.pyplot as plt\n",
    "\n",
    "from sklearn import datasets, linear_model\n",
    "from sklearn.model_selection import train_test_split\n",
    "from sklearn import svm\n",
    "\n",
    "from sklearn.metrics import mean_squared_error, mean_absolute_error, r2_score\n"
   ]
  },
  {
   "cell_type": "markdown",
   "id": "20aa4167",
   "metadata": {},
   "source": [
    "<a id='1'></a>\n",
    "## 1. Load dataset\n",
    "\n",
    "Firstly, you will load the first dataset for this lab into a DataFrame `df`. The dataset is stored in the csv file from the following path `\"data_lab8/Housing.csv\"`. "
   ]
  },
  {
   "cell_type": "code",
   "execution_count": null,
   "id": "d8836fb6",
   "metadata": {},
   "outputs": [],
   "source": [
    "data_path = \"data_lab8/Housing.csv\"\n",
    "df = pd.read_csv(data_path)"
   ]
  },
  {
   "cell_type": "code",
   "execution_count": null,
   "id": "ec03db97",
   "metadata": {},
   "outputs": [],
   "source": [
    "df.head()"
   ]
  },
  {
   "cell_type": "code",
   "execution_count": null,
   "id": "c16c2747",
   "metadata": {},
   "outputs": [],
   "source": [
    "print(f\"There are {len(df)} samples in the dataset.\")"
   ]
  },
  {
   "cell_type": "code",
   "execution_count": null,
   "id": "c9e50d7a",
   "metadata": {},
   "outputs": [],
   "source": [
    "df.columns"
   ]
  },
  {
   "cell_type": "markdown",
   "id": "9cb0f616",
   "metadata": {},
   "source": [
    "As you can see, the dataset is composed of many columns. Some are **numerical attributes** (i.e., `price`, `area`, `bedrooms`, `bathrooms`, `stories`, and `parking`). In contrast, other columns are categorical attributes (i.e., `mainroad`, `guestroom`, `basement`, `hotwaterheating`, `airconditioning`, `prefarea`, and `furnishingstatus`). Remember that Machine Learning algorithms works only with numerical features. Therefore, categorical feature must be encoded to numbers as a pre-prcessing step. We will learn more about pre-processing in the next lectures. For now, let's focus on numerical features."
   ]
  },
  {
   "cell_type": "markdown",
   "id": "39a83d26",
   "metadata": {},
   "source": [
    "### Exercise 1.1\n",
    "\n",
    "Select the list of columns in `numerical_columns` from the DataFrame `df` and assign the selected subset DataFrame to the same variable `df`. "
   ]
  },
  {
   "cell_type": "code",
   "execution_count": null,
   "id": "39cb00ef",
   "metadata": {},
   "outputs": [],
   "source": [
    "numerical_columns = ['price', 'area', 'bedrooms', 'bathrooms', 'stories', 'parking']\n",
    "\n",
    "#### START CODE HERE ####\n",
    "#### Approximately 1 line ####\n",
    "\n",
    "df = None\n",
    "\n",
    "#### END CODE HERE ####"
   ]
  },
  {
   "cell_type": "code",
   "execution_count": null,
   "id": "f5020f0d",
   "metadata": {},
   "outputs": [],
   "source": [
    "df.head()"
   ]
  },
  {
   "cell_type": "markdown",
   "id": "6b7e9cd8",
   "metadata": {},
   "source": [
    "#### Expected output\n",
    "```           price\tarea    bedrooms   bathrooms\t stories      parking```<br>\n",
    "```0\t13300000\t7420\t       4\t   2\t       3\t    2```<br>\n",
    "```1\t12250000\t8960\t       4\t   4\t       4\t    3```<br>\n",
    "```2\t12250000\t9960\t       3\t   2\t       2\t    2```<br>\n",
    "```3\t12215000\t7500\t       4\t   2\t       2\t    3```<br>\n",
    "```4\t11410000\t7420\t       4\t   1\t       2\t    2```\n"
   ]
  },
  {
   "cell_type": "markdown",
   "id": "1087e010",
   "metadata": {},
   "source": [
    "<a id='2'></a>\n",
    "## 2. Data Exploration\n"
   ]
  },
  {
   "cell_type": "markdown",
   "id": "6b633629",
   "metadata": {},
   "source": [
    "### Exercise 2.1\n",
    "Let's start by exploring the **target column** `price`.  Compute the **mean**, the **standard deviation**, and the **variance** of the `price` column. Store the **mean**, the **standard deviation**, and the **variance** in the variables `price_mean`, `price_std`, and `price_var` respectively."
   ]
  },
  {
   "cell_type": "code",
   "execution_count": null,
   "id": "1fbe4c17",
   "metadata": {},
   "outputs": [],
   "source": [
    "#### START CODE HERE ####\n",
    "#### Approximately 2 line ####\n",
    "\n",
    "price_mean = df[\"price\"].mean()\n",
    "price_std = df[\"price\"].std()\n",
    "price_var = df[\"price\"].var()\n",
    "\n",
    "#### END CODE HERE ####"
   ]
  },
  {
   "cell_type": "code",
   "execution_count": null,
   "id": "43147bef",
   "metadata": {},
   "outputs": [],
   "source": [
    "print(f\"Price mean: {price_mean:.2f}\")\n",
    "print(f\"Price standard deviation: {price_std:.2f}\")\n",
    "print(f\"Price variance: {price_var:.2f}\")"
   ]
  },
  {
   "cell_type": "markdown",
   "id": "c3b5eecf",
   "metadata": {},
   "source": [
    "#### Expected output\n",
    "```Price mean: 4766729.25```<br>\n",
    "```Price standard deviation: 1870439.62```<br>\n",
    "```Price variance: 3498544355820.57```"
   ]
  },
  {
   "cell_type": "markdown",
   "id": "6be338a0",
   "metadata": {},
   "source": [
    "The next cell plots the distributions of the prices. Please run the following cell to show the plot."
   ]
  },
  {
   "cell_type": "code",
   "execution_count": null,
   "id": "7fbb662d",
   "metadata": {},
   "outputs": [],
   "source": [
    "ax = df[\"price\"].plot.hist(bins=20, alpha=0.8)\n",
    "ax.set_xlabel(\"Price\")\n",
    "ax.set_title(\"Prices distribution\")\n",
    "ax.grid(True)\n",
    "plt.show()"
   ]
  },
  {
   "cell_type": "markdown",
   "id": "f7bd097f",
   "metadata": {},
   "source": [
    "<a id='3'></a>\n",
    "## 3. Linear Regression with 1D input features\n",
    "\n",
    "Now you will implement a **Linear Regression** using a one-dimensional input feature (i.e., the *area* of the houses). Therefore, the task is to predict the *Price* of the houses given the *Area*.\n",
    "\n",
    "Firstly, run the next cell to plot the points in the space."
   ]
  },
  {
   "cell_type": "code",
   "execution_count": null,
   "id": "7c46c3a1",
   "metadata": {},
   "outputs": [],
   "source": [
    "df.plot(x='area', y='price', kind='scatter', c='black')\n",
    "plt.title(\"Overall distribution\")\n",
    "plt.xlabel(\"Area\")\n",
    "plt.ylabel(\"Price\")\n",
    "plt.grid(True, alpha=0.5)\n",
    "plt.show()"
   ]
  },
  {
   "cell_type": "markdown",
   "id": "1bfdeec1",
   "metadata": {},
   "source": [
    "You can see that some **noisy points** are present. **Noisy points** can affect the performance of your learning algorithms. Indeed, some points have a really big area far from the distribution of the other points. We will perform a simple pre-processing step to remove the points with *area* >= 12000.\n",
    "\n",
    "Run the next cell to perform the pre-processing."
   ]
  },
  {
   "cell_type": "code",
   "execution_count": null,
   "id": "b5e146cb",
   "metadata": {},
   "outputs": [],
   "source": [
    "df_1d = df.loc[df.area < 12000]"
   ]
  },
  {
   "cell_type": "code",
   "execution_count": null,
   "id": "d4844864",
   "metadata": {},
   "outputs": [],
   "source": [
    "print(len(df_1d))"
   ]
  },
  {
   "cell_type": "markdown",
   "id": "40a13048",
   "metadata": {},
   "source": [
    "Now, we will select only the *Area* as input feature `df_X_1d` and the *Price* as target variable `df_Y_1d`."
   ]
  },
  {
   "cell_type": "code",
   "execution_count": null,
   "id": "150b1f31",
   "metadata": {},
   "outputs": [],
   "source": [
    "df_X_1d = df_1d[[\"area\"]] \n",
    "df_Y_1d = df_1d[[\"price\"]] "
   ]
  },
  {
   "cell_type": "markdown",
   "id": "701fd7d2",
   "metadata": {},
   "source": [
    "As usual, we will split our data into training and test set."
   ]
  },
  {
   "cell_type": "code",
   "execution_count": null,
   "id": "09165796",
   "metadata": {},
   "outputs": [],
   "source": [
    "X_train_1d, X_test_1d, y_train_1d, y_test_1d = train_test_split(df_X_1d, df_Y_1d, test_size=0.2, shuffle=True, random_state=42)"
   ]
  },
  {
   "cell_type": "markdown",
   "id": "22cb9373",
   "metadata": {},
   "source": [
    "The following cell plots the distribution of the training points in the plane. Run the next cell to visualize the training points."
   ]
  },
  {
   "cell_type": "code",
   "execution_count": null,
   "id": "8d47111b",
   "metadata": {},
   "outputs": [],
   "source": [
    "fig, ax = plt.subplots()\n",
    "ax.scatter(x=X_train_1d, y=y_train_1d, c='black')\n",
    "\n",
    "ax.set_title(\"Training distribution\")\n",
    "ax.set_xlabel(\"Area\")\n",
    "ax.set_ylabel(\"Price\")\n",
    "plt.grid(True, alpha=0.5)\n",
    "plt.show()"
   ]
  },
  {
   "cell_type": "markdown",
   "id": "da1315af",
   "metadata": {},
   "source": [
    "The following cell plots the distribution of the test points in the plane. Run the next cell to visualize the test points."
   ]
  },
  {
   "cell_type": "code",
   "execution_count": null,
   "id": "cc864b12",
   "metadata": {},
   "outputs": [],
   "source": [
    "fig, ax = plt.subplots()\n",
    "ax.scatter(x=X_test_1d, y=y_test_1d ,c='black')\n",
    "\n",
    "ax.set_title(\"Test distribution\")\n",
    "ax.set_xlabel(\"Area\")\n",
    "ax.set_ylabel(\"Price\")\n",
    "plt.grid(True, alpha=0.5)\n",
    "plt.show()"
   ]
  },
  {
   "cell_type": "markdown",
   "id": "25d8a2a0",
   "metadata": {},
   "source": [
    "### Exercise 3.1\n",
    "\n",
    "Create a `LinearRegression()` object and fit the linear regression on the training data. Replace `None` with your code."
   ]
  },
  {
   "cell_type": "code",
   "execution_count": null,
   "id": "e5e3b455",
   "metadata": {},
   "outputs": [],
   "source": [
    "#### START CODE HERE ####\n",
    "#### Approximately 2 line ####\n",
    "\n",
    "regr = None\n",
    "None\n",
    "\n",
    "#### END CODE HERE ####"
   ]
  },
  {
   "cell_type": "markdown",
   "id": "45b56edb",
   "metadata": {},
   "source": [
    "### Exercise 3.2\n",
    "\n",
    "Predict the prices of the houses for your **training data** in a variable `y_pred_train_1d`."
   ]
  },
  {
   "cell_type": "code",
   "execution_count": null,
   "id": "64d9de79",
   "metadata": {},
   "outputs": [],
   "source": [
    "#### START CODE HERE ####\n",
    "#### Approximately 1 line ####\n",
    "\n",
    "y_pred_train_1d = None\n",
    "\n",
    "#### END CODE HERE ####"
   ]
  },
  {
   "cell_type": "markdown",
   "id": "83d3aaf6",
   "metadata": {},
   "source": [
    "The next cell visualize the learned straight line on your **training data**. Run the following cell to visualize the learned line."
   ]
  },
  {
   "cell_type": "code",
   "execution_count": null,
   "id": "d00c3f9f",
   "metadata": {},
   "outputs": [],
   "source": [
    "plt.scatter(X_train_1d, y_train_1d, color=\"black\")\n",
    "plt.plot(X_train_1d, y_pred_train_1d, color=\"blue\", linewidth=3)\n",
    "\n",
    "plt.xlabel(\"Area\")\n",
    "plt.ylabel(\"Price\")\n",
    "plt.xticks()\n",
    "plt.yticks()\n",
    "\n",
    "plt.grid(True)\n",
    "plt.show()"
   ]
  },
  {
   "cell_type": "markdown",
   "id": "b865eae7",
   "metadata": {},
   "source": [
    "### Exercise 3.3\n",
    "\n",
    "Predict the prices of the houses for your **test data** in a variable `y_pred_test_1d`."
   ]
  },
  {
   "cell_type": "code",
   "execution_count": null,
   "id": "95fd5c1d",
   "metadata": {},
   "outputs": [],
   "source": [
    "#### START CODE HERE ####\n",
    "#### Approximately 1 line ####\n",
    "\n",
    "y_pred_test_1d = None\n",
    "\n",
    "#### END CODE HERE ####"
   ]
  },
  {
   "cell_type": "markdown",
   "id": "37e155a0",
   "metadata": {},
   "source": [
    "The next cell visualize the learned straight line on your training data and the points of the **test data**. Run the following cell to visualize the learned line."
   ]
  },
  {
   "cell_type": "code",
   "execution_count": null,
   "id": "5497a9be",
   "metadata": {},
   "outputs": [],
   "source": [
    "plt.scatter(X_test_1d, y_test_1d, color=\"black\")\n",
    "plt.plot(X_test_1d, y_pred_test_1d, color=\"blue\", linewidth=3)\n",
    "\n",
    "plt.xlabel(\"Area\")\n",
    "plt.ylabel(\"Price\")\n",
    "plt.xticks()\n",
    "plt.yticks()\n",
    "\n",
    "plt.grid(True)\n",
    "plt.show()"
   ]
  },
  {
   "cell_type": "markdown",
   "id": "88791455",
   "metadata": {},
   "source": [
    "### Exercise 3.4\n",
    "\n",
    "Compute the **Mean Absolute Error**, the **Mean Squared Error** and the **R2** in the variables `mae_test`, `mse_test`, and `r2_test`, respectively. Replace `None` with your code.\n",
    "\n",
    "You read more on such metrics in the official documentation:\n",
    "- <a href=\"https://scikit-learn.org/stable/modules/generated/sklearn.metrics.mean_absolute_error.html\" >mean_absolute_error</a>\n",
    "- <a href=\"https://scikit-learn.org/stable/modules/generated/sklearn.metrics.mean_squared_error.html\" >mean_squared_error</a>\n",
    "- <a href=\"https://scikit-learn.org/stable/modules/generated/sklearn.metrics.r2_score.html\" >r2_score</a>"
   ]
  },
  {
   "cell_type": "code",
   "execution_count": null,
   "id": "4d117b75",
   "metadata": {},
   "outputs": [],
   "source": [
    "#### START CODE HERE ####\n",
    "#### Approximately 3 line ####\n",
    "\n",
    "mae_test = None\n",
    "mse_test = None\n",
    "r2_test = None\n",
    "\n",
    "#### END CODE HERE ####"
   ]
  },
  {
   "cell_type": "code",
   "execution_count": null,
   "id": "7184107b",
   "metadata": {},
   "outputs": [],
   "source": [
    "print(f\"Mean of the prices: {price_mean}\")\n",
    "print(f\"Std of the prices: {price_std}\")\n",
    "print(f\"Variance of the prices: {price_var}\")\n",
    "\n",
    "print(f\"\\nMean Absolute Error on test data: {mae_test}\")\n",
    "print(f\"Mean Squared Error on test data: {mse_test}\")\n",
    "print(f\"R2 score on test data: {r2_test}\")"
   ]
  },
  {
   "cell_type": "markdown",
   "id": "39b86d13",
   "metadata": {},
   "source": [
    "The model does not seem to perform very well. Let's see if we can improve by using all the input features."
   ]
  },
  {
   "cell_type": "markdown",
   "id": "4bc3806e",
   "metadata": {},
   "source": [
    "<a id='4'></a>\n",
    "## 4. Regression with all input features\n",
    "\n",
    "Now you will train and evaluate several regression models with **all the numerical input features**."
   ]
  },
  {
   "cell_type": "code",
   "execution_count": null,
   "id": "53baeb28",
   "metadata": {},
   "outputs": [],
   "source": [
    "df.head()"
   ]
  },
  {
   "cell_type": "markdown",
   "id": "8d5db5ca",
   "metadata": {},
   "source": [
    "Run the next cell to select all the numerical input features as input."
   ]
  },
  {
   "cell_type": "code",
   "execution_count": null,
   "id": "85788a96",
   "metadata": {},
   "outputs": [],
   "source": [
    "df_X = df.loc[:, \"area\":]\n",
    "df_y = df[[\"price\"]]"
   ]
  },
  {
   "cell_type": "markdown",
   "id": "e4ba6b8f",
   "metadata": {},
   "source": [
    "Run the next cell to split the data into training and test sets."
   ]
  },
  {
   "cell_type": "code",
   "execution_count": null,
   "id": "0e35c452",
   "metadata": {},
   "outputs": [],
   "source": [
    "X_train, X_test, y_train, y_test = train_test_split(df_X, df_y, test_size=0.2, shuffle=True, random_state=42)\n"
   ]
  },
  {
   "cell_type": "code",
   "execution_count": null,
   "id": "3adbb355",
   "metadata": {},
   "outputs": [],
   "source": [
    "X_train.head()"
   ]
  },
  {
   "cell_type": "code",
   "execution_count": null,
   "id": "189aad22",
   "metadata": {},
   "outputs": [],
   "source": [
    "X_test.head()"
   ]
  },
  {
   "cell_type": "markdown",
   "id": "a8f7bb48",
   "metadata": {},
   "source": [
    "As you can see, the input features have very **different scales**. As discussed in previous labs, features with different scales differentially impact the calculation of validation metrics. We must therefore perform, separately for each column, the **normalization of the input features**.\n",
    "\n",
    "However, this time we have both training and test set. When you have both training and test, you have to **calculate statistics for the normalization on the training** (i.e., with the `fit_transform()` method) and **use those statistics on the test set** (i.e., with the `transform()` method). This is because the model cannot learn on the test data. This data simulates data never seen by the model on which it will have to make predictions. Therefore, they cannot even be used to estimate some statistics about the data.\n",
    "\n",
    "In this case, we want to perform **min-max normalization** of the dataset. To achieve this in scikit-learn is simple. There is a function in the pre-processing module to do this. However, as introduced before, the min and max are calculated only on the training and are used to normalize both the training and the test.\n",
    "\n",
    "If this step is not clear to you, don't worry. We will see it in detail when we talk about data pre-processing.\n",
    "\n",
    "Run the following cell to perform the Min-Max normalization."
   ]
  },
  {
   "cell_type": "code",
   "execution_count": null,
   "id": "93f42d02",
   "metadata": {},
   "outputs": [],
   "source": [
    "from sklearn import preprocessing\n",
    "\n",
    "min_max_scaler = preprocessing.MinMaxScaler()\n",
    "\n",
    "X_train_processed = min_max_scaler.fit_transform(X_train)\n",
    "X_train_processed = pd.DataFrame(X_train_processed, columns=X_train.columns)\n",
    "\n",
    "X_test_processed = min_max_scaler.transform(X_test)\n",
    "X_test_processed = pd.DataFrame(X_test_processed, columns=X_test.columns)\n"
   ]
  },
  {
   "cell_type": "code",
   "execution_count": null,
   "id": "df47ce9f",
   "metadata": {},
   "outputs": [],
   "source": [
    "X_train_processed.head()"
   ]
  },
  {
   "cell_type": "code",
   "execution_count": null,
   "id": "2c0c4078",
   "metadata": {},
   "outputs": [],
   "source": [
    "X_test_processed.head()"
   ]
  },
  {
   "cell_type": "markdown",
   "id": "19782e4b",
   "metadata": {},
   "source": [
    "As you can see, after normalization, all features in the training set are in the range [0, 1]."
   ]
  },
  {
   "cell_type": "markdown",
   "id": "aad651de",
   "metadata": {},
   "source": [
    "### Exercise 4.1\n",
    "\n",
    "Now you will train and evalaute several regression models on the preprocessed data. Note that you should use `X_train_processed` and `X_test_processed` as input of your models.\n",
    "\n",
    "\n",
    "This exercise is open. So it's up to you to choose regression models from those available on scikit-learn, train and validate them.\n",
    "\n"
   ]
  },
  {
   "cell_type": "code",
   "execution_count": null,
   "id": "53666d55",
   "metadata": {},
   "outputs": [],
   "source": []
  }
 ],
 "metadata": {
  "kernelspec": {
   "display_name": "Python 3 (ipykernel)",
   "language": "python",
   "name": "python3"
  },
  "language_info": {
   "codemirror_mode": {
    "name": "ipython",
    "version": 3
   },
   "file_extension": ".py",
   "mimetype": "text/x-python",
   "name": "python",
   "nbconvert_exporter": "python",
   "pygments_lexer": "ipython3",
   "version": "3.8.16"
  }
 },
 "nbformat": 4,
 "nbformat_minor": 5
}
