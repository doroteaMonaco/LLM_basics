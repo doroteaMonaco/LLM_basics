{
 "cells": [
  {
   "cell_type": "markdown",
   "id": "4c7cc45c",
   "metadata": {},
   "source": [
    "# Lab 2: Numpy"
   ]
  },
  {
   "cell_type": "markdown",
   "id": "022cac18",
   "metadata": {},
   "source": [
    "The objective of this notebook is to learn about the Numpy library (<a href=\"https://numpy.org/doc/1.24/reference/index.html\" >official documentation</a>). You can find a good guide at this <a href=\"https://www.w3schools.com/python/numpy/numpy_intro.asp\" >link</a>.\n",
    "\n",
    "#### Exploit the Numpy library and avoid explicit for loops and python lists for all the exercises of this lab."
   ]
  },
  {
   "cell_type": "markdown",
   "id": "8cccb400",
   "metadata": {},
   "source": [
    "## Outline\n",
    "\n",
    "- [1. Numpy arrays creation](#1)\n",
    "- [2. Operations with Numpy arrays](#2)\n",
    "- [3. Accessing Numpy arrays](#3)\n",
    "- [4. Min-Max normalization with numpy](#4)"
   ]
  },
  {
   "cell_type": "markdown",
   "id": "b86926c8",
   "metadata": {},
   "source": [
    "First, run the following cell to import some useful libraries to complete this Lab. If not already done, you must install them in your virtual environment"
   ]
  },
  {
   "cell_type": "code",
   "execution_count": null,
   "id": "13ae8f06",
   "metadata": {},
   "outputs": [],
   "source": [
    "import numpy as np\n",
    "import matplotlib.pyplot as plt\n",
    "import random"
   ]
  },
  {
   "cell_type": "markdown",
   "id": "916afe06",
   "metadata": {},
   "source": [
    "If the previous cell outputs one of the following errors: `ModuleNotFoundError: No module named 'numpy'` or `ModuleNotFoundError: No module named 'matplotlib'`, then, you have to install the numpy or the matplotlib packages. If you don't remember how to install a Python package, please retrieve the guide on Anaconda-Navigator.\n",
    "\n",
    "To install **numpy** you can use one of the following commands from the terminal of your virtual environment: <br>\n",
    "`conda install numpy` <br>\n",
    "`pip install numpy`\n",
    "\n",
    "To install **matplotlib** you can use one of the following commands from the terminal of your virtual environment: <br>\n",
    "`conda install matplotlib` <br>\n",
    "    `pip install matplotlib`\n"
   ]
  },
  {
   "cell_type": "markdown",
   "id": "321ed870",
   "metadata": {},
   "source": [
    "Please run the following cell containing useful functions already implemented for you to plot some charts."
   ]
  },
  {
   "cell_type": "code",
   "execution_count": null,
   "id": "12d29a24",
   "metadata": {},
   "outputs": [],
   "source": [
    "def plot_distributions(my_list, names):\n",
    "    fig, ax = plt.subplots(1, len(my_list), figsize=(14, 6))\n",
    "\n",
    "    fig.suptitle(\"Frequency Histograms X, Y\", fontsize=20)\n",
    "    \n",
    "    for i, x in enumerate(my_list):\n",
    "        ax[i].hist(x, 25)   \n",
    "        ax[i].axvline(x.mean(), color='k', linestyle='dashed', linewidth=2)\n",
    "        ax[i].set_xlabel(names[i], fontsize=14)\n",
    "        ax[i].set_ylabel('Frequency', fontsize=14)\n",
    "                        \n",
    "    plt.tight_layout()\n",
    "    plt.show()\n",
    "    return    \n",
    " \n",
    "\n",
    "def plot_2d_points(X,Y, norm_flag=False):\n",
    "    fig, ax = plt.subplots(figsize=(10, 5))\n",
    "    \n",
    "    if norm_flag:\n",
    "        ax.set_xlabel('Size of the house norm', fontsize=14)\n",
    "        ax.set_ylabel('Price', fontsize=14)\n",
    "    else:\n",
    "        ax.set_xlabel('Size of the house', fontsize=14)\n",
    "        ax.set_ylabel('Price', fontsize=14)\n",
    "    ax.scatter(X, Y)\n",
    "\n",
    "    plt.show()\n",
    "    return  \n",
    "\n",
    "def plot_3d_points(X, Y, norm_flag=False):\n",
    "    fig, ax = plt.subplots(figsize=(20, 10))\n",
    "    ax = fig.add_subplot(projection='3d')\n",
    "    \n",
    "    \n",
    "    if norm_flag:\n",
    "        ax.set_xlabel('Size of the house norm', fontsize=14)\n",
    "        ax.set_ylabel('Number of rooms norm', fontsize=14)\n",
    "        ax.set_zlabel('Price', fontsize=14)\n",
    "    else:\n",
    "        ax.set_xlabel('Size of the house', fontsize=14)\n",
    "        ax.set_ylabel('Number of rooms', fontsize=14)\n",
    "        ax.set_zlabel('Price', fontsize=14)\n",
    "    \n",
    "    ax.scatter(X[:,0], X[:,1], Y)\n",
    "\n",
    "    plt.tight_layout()\n",
    "    plt.show()\n",
    "    return                     "
   ]
  },
  {
   "cell_type": "markdown",
   "id": "57052523",
   "metadata": {},
   "source": [
    "<a id='1'></a>\n",
    "## 1. Numpy arrays creation"
   ]
  },
  {
   "cell_type": "markdown",
   "id": "fabe6749",
   "metadata": {},
   "source": [
    "### Exercise 1.1\n",
    "Create a Numpy array from the following list: `[[1, 2, 3], [4, 5, 6], [7, 8, 9]]`. Print the the **values** of the **array** and the **shape**."
   ]
  },
  {
   "cell_type": "code",
   "execution_count": null,
   "id": "c2e75c47",
   "metadata": {},
   "outputs": [],
   "source": [
    "#### START CODE HERE ####\n",
    "#### Ideally 3 line ####\n",
    "\n",
    "\n",
    "\n",
    "#### END CODE HERE ####"
   ]
  },
  {
   "cell_type": "markdown",
   "id": "23241d4e",
   "metadata": {},
   "source": [
    "#### Expected output\n",
    "```[[1 2 3]``` <br>\n",
    "``` [4 5 6]```<br>\n",
    "``` [7 8 9]]```<br>\n",
    "```(3, 3)```"
   ]
  },
  {
   "cell_type": "markdown",
   "id": "8674ebcb",
   "metadata": {},
   "source": [
    "### Exercise 1.2\n",
    "Create a Numpy array `my_arr` filled with all **ones** with **3 rows** and **4 columns**.\n",
    "<details>    \n",
    "<summary>\n",
    "    <font size=\"3\" color=\"darkgreen\"><b>Hints</b></font>\n",
    "</summary>\n",
    "<p>\n",
    "<ul>\n",
    "    <li>The np.ones() function is helpful in solving this exercise.</li>\n",
    "</ul>\n",
    "</p>"
   ]
  },
  {
   "cell_type": "code",
   "execution_count": null,
   "id": "d3c99333",
   "metadata": {},
   "outputs": [],
   "source": [
    "#### START CODE HERE ####\n",
    "#### Ideally 1 line ####\n",
    "\n",
    "#### END CODE HERE ####\n",
    "\n",
    "print(my_arr)\n",
    "print(my_arr.shape)"
   ]
  },
  {
   "cell_type": "markdown",
   "id": "da827173",
   "metadata": {},
   "source": [
    "#### Expected output\n",
    "```[[1. 1. 1. 1.]``` <br>\n",
    "``` [1. 1. 1. 1.]```<br>\n",
    "``` [1. 1. 1. 1.]]```<br>\n",
    "```(3, 4)```"
   ]
  },
  {
   "cell_type": "markdown",
   "id": "a5c584dd",
   "metadata": {},
   "source": [
    "### Exercise 1.3\n",
    "Create a Numpy array `my_arr` filled with all **zeros** with **5 rows** and **2 columns**.\n",
    "<details>    \n",
    "<summary>\n",
    "    <font size=\"3\" color=\"darkgreen\"><b>Hints</b></font>\n",
    "</summary>\n",
    "<p>\n",
    "<ul>\n",
    "    <li>The np.zeros() function is helpful in solving this exercise.</li>\n",
    "</ul>\n",
    "</p>"
   ]
  },
  {
   "cell_type": "code",
   "execution_count": null,
   "id": "88bb60cd",
   "metadata": {},
   "outputs": [],
   "source": [
    "#### START CODE HERE ####\n",
    "#### Ideally 1 line ####\n",
    "\n",
    "#### END CODE HERE ####\n",
    "\n",
    "print(my_arr)\n",
    "print(my_arr.shape)"
   ]
  },
  {
   "cell_type": "markdown",
   "id": "339a30a4",
   "metadata": {},
   "source": [
    "#### Expected output\n",
    "```[[0. 0.]``` <br>\n",
    "``` [0. 0.]``` <br>\n",
    "``` [0. 0.]``` <br>\n",
    "``` [0. 0.]``` <br>\n",
    "``` [0. 0.]]``` <br>\n",
    "```(5, 2)```"
   ]
  },
  {
   "cell_type": "markdown",
   "id": "e81ac3e8",
   "metadata": {},
   "source": [
    "### Exercise 1.4\n",
    "Create a Numpy array `my_arr` filled with all **0.5** with **2 rows** and **2 columns**.\n",
    "<details>    \n",
    "<summary>\n",
    "    <font size=\"3\" color=\"darkgreen\"><b>Hints</b></font>\n",
    "</summary>\n",
    "<p>\n",
    "<ul>\n",
    "    <li>The np.full() function is helpful in solving this exercise.</li>\n",
    "</ul>\n",
    "</p>"
   ]
  },
  {
   "cell_type": "code",
   "execution_count": null,
   "id": "bccc53ed",
   "metadata": {},
   "outputs": [],
   "source": [
    "#### START CODE HERE ####\n",
    "#### Ideally 1 line ####\n",
    "\n",
    "#### END CODE HERE ####\n",
    "\n",
    "print(my_arr)\n",
    "print(my_arr.shape)"
   ]
  },
  {
   "cell_type": "markdown",
   "id": "4e51e646",
   "metadata": {},
   "source": [
    "#### Expected output\n",
    "```[[0.5 0.5]``` <br>\n",
    "``` [0.5 0.5]]``` <br>\n",
    "```(2, 2)```"
   ]
  },
  {
   "cell_type": "markdown",
   "id": "dd06abc6",
   "metadata": {},
   "source": [
    "<a id='2'></a>\n",
    "## 2. Operations with Numpy arrays"
   ]
  },
  {
   "cell_type": "markdown",
   "id": "c864b946",
   "metadata": {},
   "source": [
    "### Exercise 2.1\n",
    "Add the value 5 to **each element** of the Numpy array `my_arr`. "
   ]
  },
  {
   "cell_type": "code",
   "execution_count": null,
   "id": "90cc2ed2",
   "metadata": {},
   "outputs": [],
   "source": [
    "my_arr = np.array([[1, 2, 3], [4, 5, 6], [7, 8, 9]])\n",
    "\n",
    "#### START CODE HERE ####\n",
    "#### Ideally 1 line ####\n",
    "\n",
    "#### END CODE HERE ####\n",
    "\n",
    "print(my_arr)"
   ]
  },
  {
   "cell_type": "markdown",
   "id": "46eb4a06",
   "metadata": {},
   "source": [
    "#### Expected output\n",
    "```[[ 6  7  8]``` <br>\n",
    "``` [ 9 10 11]```<br>\n",
    "``` [12 13 14]]```"
   ]
  },
  {
   "cell_type": "markdown",
   "id": "7f5757d0",
   "metadata": {},
   "source": [
    "### Exercise 2.2\n",
    "Perform the element-wise **logarithm** of the Numpy array `my_arr`."
   ]
  },
  {
   "cell_type": "code",
   "execution_count": null,
   "id": "9c9b8b6b",
   "metadata": {},
   "outputs": [],
   "source": [
    "my_arr = np.array([[1, 2, 3], [4, 5, 6], [7, 8, 9]])\n",
    "\n",
    "#### START CODE HERE ####\n",
    "#### Ideally 1 line ####\n",
    "\n",
    "#### END CODE HERE ####\n",
    "\n",
    "print(my_arr)"
   ]
  },
  {
   "cell_type": "markdown",
   "id": "c06aad28",
   "metadata": {},
   "source": [
    "#### Expected output\n",
    "```[[0.         0.69314718 1.09861229]``` <br>\n",
    "``` [1.38629436 1.60943791 1.79175947]```<br>\n",
    "``` [1.94591015 2.07944154 2.19722458]]```"
   ]
  },
  {
   "cell_type": "markdown",
   "id": "ca6e3969",
   "metadata": {},
   "source": [
    "### Exercise 2.3\n",
    "Compute the **mean** in `arr_mean`, the **standard deviation** in `arr_std`, the **sum** in `arr_sum`, the **max** value in `arr_max`, and the **index of the max** value in `arr_max_idx` of the array `my_arr`."
   ]
  },
  {
   "cell_type": "code",
   "execution_count": null,
   "id": "379b861c",
   "metadata": {},
   "outputs": [],
   "source": [
    "my_arr = np.array([[1, 2, 3], [4, 5, 6], [7, 8, 9]])\n",
    "\n",
    "#### START CODE HERE ####\n",
    "#### Ideally 5 line ####\n",
    "\n",
    "\n",
    "\n",
    "\n",
    "\n",
    "#### END CODE HERE ####\n",
    "\n",
    "\n",
    "print(f\"mean: {arr_mean}\")\n",
    "print(f\"standard deviation: {arr_std}\")\n",
    "print(f\"sum: {arr_sum}\")\n",
    "print(f\"max value: {arr_max}\")\n",
    "print(f\"index of the max value: {arr_max_idx}\")"
   ]
  },
  {
   "cell_type": "markdown",
   "id": "2e5239ad",
   "metadata": {},
   "source": [
    "#### Expected output\n",
    "```mean: 5.0``` <br>\n",
    "```standard deviation: 2.581988897471611```<br>\n",
    "```sum: 45```<br>\n",
    "```max value: 9```<br>\n",
    "```index of the max value: 8```<br>"
   ]
  },
  {
   "cell_type": "markdown",
   "id": "5ef9defb",
   "metadata": {},
   "source": [
    "### Exercise 2.4\n",
    "Compute the **mean** along the **rows axis** in `arr_mean_rows` of the array `my_arr`.\n",
    "<details>    \n",
    "<summary>\n",
    "    <font size=\"3\" color=\"darkgreen\"><b>Hints</b></font>\n",
    "</summary>\n",
    "<p>\n",
    "<ul>\n",
    "    <li>You should specify the axis parameter in the np.mean()</li>\n",
    "</ul>\n",
    "</p>"
   ]
  },
  {
   "cell_type": "code",
   "execution_count": null,
   "id": "24bd63fd",
   "metadata": {},
   "outputs": [],
   "source": [
    "my_arr = np.array([[1, 2, 3], [4, 5, 6], [7, 8, 9]])\n",
    "print(my_arr)\n",
    "\n",
    "#### START CODE HERE ####\n",
    "#### Ideally 1 line ####\n",
    "\n",
    "#### END CODE HERE ####\n",
    "\n",
    "print(f\"\\nmean of the rows: {arr_mean_rows}\")"
   ]
  },
  {
   "cell_type": "markdown",
   "id": "b691041f",
   "metadata": {},
   "source": [
    "#### Expected output\n",
    "```[[1 2 3]``` <br>\n",
    "``` [4 5 6]``` <br>\n",
    "``` [7 8 9]]``` <br> <br>\n",
    "```mean of the rows: [2. 5. 8.]``` "
   ]
  },
  {
   "cell_type": "markdown",
   "id": "75051f2d",
   "metadata": {},
   "source": [
    "### Exercise 2.5\n",
    "Compute the **mean** along the **columns axis** in `arr_mean_cols` of the array `my_arr`.\n",
    "<details>    \n",
    "<summary>\n",
    "    <font size=\"3\" color=\"darkgreen\"><b>Hints</b></font>\n",
    "</summary>\n",
    "<p>\n",
    "<ul>\n",
    "    <li>You should specify the axis parameter in the np.mean()</li>\n",
    "</ul>\n",
    "</p>"
   ]
  },
  {
   "cell_type": "code",
   "execution_count": null,
   "id": "bc506ed3",
   "metadata": {},
   "outputs": [],
   "source": [
    "my_arr = np.array([[1, 2, 3], [4, 5, 6], [7, 8, 9]])\n",
    "print(my_arr)\n",
    "\n",
    "#### START CODE HERE ####\n",
    "#### Ideally 1 line ####\n",
    "\n",
    "#### END CODE HERE ####\n",
    "\n",
    "print(f\"\\nmean of the columns: {arr_mean_cols}\")"
   ]
  },
  {
   "cell_type": "markdown",
   "id": "64498cf3",
   "metadata": {},
   "source": [
    "#### Expected output\n",
    "```[[1 2 3]``` <br>\n",
    "``` [4 5 6]``` <br>\n",
    "``` [7 8 9]]``` <br> <br>\n",
    "```mean of the columns: [4. 5. 6.]``` "
   ]
  },
  {
   "cell_type": "markdown",
   "id": "df86553d",
   "metadata": {},
   "source": [
    "You can see that both the mean along the rows axis and the mean along the columns axis return a **row vector**."
   ]
  },
  {
   "cell_type": "markdown",
   "id": "9aed0db4",
   "metadata": {},
   "source": [
    "<a id='3'></a>\n",
    "## 3. Accessing Numpy arrays"
   ]
  },
  {
   "cell_type": "markdown",
   "id": "09cbe59c",
   "metadata": {},
   "source": [
    "### Exercise 3.1\n",
    "Assign the value of the element in the **fourth row** and the **second column** of the array `my_arr` into a variable `value`.\n",
    "<details>    \n",
    "<summary>\n",
    "    <font size=\"3\" color=\"darkgreen\"><b>Hints</b></font>\n",
    "</summary>\n",
    "<p>\n",
    "<ul>\n",
    "    <li>You should use the <strong>simple indexing</strong> access method</li>\n",
    "    <li>Remember that python is 0 initialized (i.e., the first element is in the zero position)</li>\n",
    "</ul>\n",
    "</p>"
   ]
  },
  {
   "cell_type": "code",
   "execution_count": null,
   "id": "532eef8a",
   "metadata": {},
   "outputs": [],
   "source": [
    "my_arr = np.array([[1, 2, 3, 4, 5], [6, 7, 8, 9, 10], [11, 12, 13, 14, 15], [16, 17, 18, 19, 20]])\n",
    "print(my_arr)\n",
    "\n",
    "#### START CODE HERE ####\n",
    "#### Ideally 1 line ####\n",
    "\n",
    "#### END CODE HERE ####\n",
    "\n",
    "print(f\"\\nThe element in the fourth row and second column is {value}\")"
   ]
  },
  {
   "cell_type": "markdown",
   "id": "3273fd1a",
   "metadata": {},
   "source": [
    "#### Expected output\n",
    "```[[ 1  2  3  4  5]``` <br>\n",
    "```[ 6  7  8  9 10]``` <br>\n",
    "```[11 12 13 14 15]``` <br>\n",
    "```[16 17 18 19 20]]``` <br><br>\n",
    "```The element in the fourth row and second column is 17``` <br>"
   ]
  },
  {
   "cell_type": "markdown",
   "id": "a680c606",
   "metadata": {},
   "source": [
    "### Exercise 3.2\n",
    "Assign the values of the slice corresponding to the **rows from 0 to 2 (both included)** and the **columns from 1 to 2 (both included)** into a variable `slice_arr`.\n",
    "<details>    \n",
    "<summary>\n",
    "    <font size=\"3\" color=\"darkgreen\"><b>Hints</b></font>\n",
    "</summary>\n",
    "<p>\n",
    "<ul>\n",
    "    <li>You should use the <strong>slicing</strong> access method</li>\n",
    "    <li>Remember that python is 0 initialized (i.e., the first element is in the zero position)</li>\n",
    "</ul>\n",
    "</p>"
   ]
  },
  {
   "cell_type": "code",
   "execution_count": null,
   "id": "13e9a71e",
   "metadata": {},
   "outputs": [],
   "source": [
    "my_arr = np.array([[1, 2, 3, 4, 5], [6, 7, 8, 9, 10], [11, 12, 13, 14, 15], [16, 17, 18, 19, 20]])\n",
    "print(my_arr)\n",
    "\n",
    "#### START CODE HERE ####\n",
    "#### Ideally 1 line ####\n",
    "\n",
    "#### END CODE HERE ####\n",
    "\n",
    "print(f\"\\nSlice:\")\n",
    "print(slice_arr)"
   ]
  },
  {
   "cell_type": "markdown",
   "id": "bace861b",
   "metadata": {},
   "source": [
    "#### Expected output\n",
    "```[[ 1  2  3  4  5]``` <br>\n",
    "```[ 6  7  8  9 10]``` <br>\n",
    "```[11 12 13 14 15]``` <br>\n",
    "```[16 17 18 19 20]]``` <br><br>\n",
    "```Slice:``` <br>\n",
    "```[[ 2  3]``` <br>\n",
    "```[ 7  8]``` <br>\n",
    "```[12 13]]``` "
   ]
  },
  {
   "cell_type": "markdown",
   "id": "2797228b",
   "metadata": {},
   "source": [
    "### Exercise 3.3\n",
    "Assign the values of the slice with **all the columns** of the **last 3 rows** into a variable `slice_arr`.\n",
    "<details>    \n",
    "<summary>\n",
    "    <font size=\"3\" color=\"darkgreen\"><b>Hints</b></font>\n",
    "</summary>\n",
    "<p>\n",
    "<ul>\n",
    "    <li>You should use the <strong>slicing</strong> access method.</li>\n",
    "    <li>Remember that python is 0 initialized (i.e., the first element is in the zero position).</li>\n",
    "    <li>Remember that you can omit the start and stop indices to select from the beginning or select until the end.</li>\n",
    "    <li>Remember that you can use negative indices to start counting from the end.</li>\n",
    "</ul>\n",
    "</p>"
   ]
  },
  {
   "cell_type": "code",
   "execution_count": null,
   "id": "15553f2b",
   "metadata": {},
   "outputs": [],
   "source": [
    "my_arr = np.array([[1, 2, 3, 4, 5], [6, 7, 8, 9, 10], [11, 12, 13, 14, 15], [16, 17, 18, 19, 20]])\n",
    "print(my_arr)\n",
    "\n",
    "#### START CODE HERE ####\n",
    "#### Ideally 1 line ####\n",
    "\n",
    "#### END CODE HERE ####\n",
    "\n",
    "print(f\"\\nSlice:\")\n",
    "print(slice_arr)"
   ]
  },
  {
   "cell_type": "markdown",
   "id": "0edb59fd",
   "metadata": {},
   "source": [
    "#### Expected output\n",
    "```[[ 1  2  3  4  5]``` <br>\n",
    "```[ 6  7  8  9 10]``` <br>\n",
    "```[11 12 13 14 15]``` <br>\n",
    "```[16 17 18 19 20]]``` <br><br>\n",
    "```Slice:``` <br>\n",
    "```[[ 6  7  8  9 10]``` <br>\n",
    "```[11 12 13 14 15]``` <br>\n",
    "```[16 17 18 19 20]]``` "
   ]
  },
  {
   "cell_type": "markdown",
   "id": "798d63d7",
   "metadata": {},
   "source": [
    "### Exercise 3.4\n",
    "Assign the values of the slice with **all the columns of the last 3 rows** into a variable `slice_arr`. Then assign to **all the elements** of `slice_arr` the value `-1`.\n",
    "<details>    \n",
    "<summary>\n",
    "    <font size=\"3\" color=\"darkgreen\"><b>Hints</b></font>\n",
    "</summary>\n",
    "<p>\n",
    "<ul>\n",
    "    <li>You should assign -1 to all the elements of <strong>slice_arr</strong> and not to <strong>slice_arr</strong>. If you write <strong>slice_arr=-1</strong>, <strong>slice_arr</strong> will be an integer with value -1. You must exploit the square brackets.\n",
    "     <li>You should use the <strong>slicing</strong> access method.</li>\n",
    "    <li>Remember that python is 0 initialized (i.e., the first element is in the zero position).</li>\n",
    "    <li>Remember that you can omit the start and stop indices to select from the beginning or select until the end.</li>\n",
    "    <li>Remember that you can use negative indices to start counting from the end.</li>\n",
    "</ul>\n",
    "</p>"
   ]
  },
  {
   "cell_type": "code",
   "execution_count": null,
   "id": "bb52c738",
   "metadata": {},
   "outputs": [],
   "source": [
    "my_arr = np.array([[1, 2, 3, 4, 5], [6, 7, 8, 9, 10], [11, 12, 13, 14, 15], [16, 17, 18, 19, 20]])\n",
    "print(\"original array:\")\n",
    "print(my_arr)\n",
    "\n",
    "#### START CODE HERE ####\n",
    "#### Ideally 2 line ####\n",
    "\n",
    "\n",
    "#### END CODE HERE ####\n",
    "\n",
    "print(f\"\\n array after the modification of the slice:\")\n",
    "print(my_arr)"
   ]
  },
  {
   "cell_type": "markdown",
   "id": "6f72e221",
   "metadata": {},
   "source": [
    "#### Expected output\n",
    "```original array:``` <br>\n",
    "```[[ 1  2  3  4  5]``` <br>\n",
    "```[ 6  7  8  9 10]``` <br>\n",
    "```[11 12 13 14 15]``` <br>\n",
    "```[16 17 18 19 20]]``` <br><br>\n",
    "```Slice:``` <br>\n",
    "```[[ 6  7  8  9 10]``` <br>\n",
    "```[-1 -1 -1 -1 -1]``` <br>\n",
    "```[-1 -1 -1 -1 -1]``` <br>\n",
    "```[-1 -1 -1 -1 -1]]``` "
   ]
  },
  {
   "cell_type": "markdown",
   "id": "daa291e0",
   "metadata": {},
   "source": [
    "You can see that the modifications on the slice also affect the original array."
   ]
  },
  {
   "cell_type": "markdown",
   "id": "ef2a6aaa",
   "metadata": {},
   "source": [
    "### Exercise 3.5\n",
    "Assign the values of the slice with **all the columns of the last 3 rows** into a variable `slice_arr`. This time, `slice_arr` should **not be a view but a new array** (i.e., the modification of `slice_arr` should **not affect** the original array). Then **assign to all the elements** of `slice_arr` the value `-1`.\n",
    "<details>    \n",
    "<summary>\n",
    "    <font size=\"3\" color=\"darkgreen\"><b>Hints</b></font>\n",
    "</summary>\n",
    "<p>\n",
    "<ul>\n",
    "   <li>You should use the <strong>slicing</strong> access method.</li>\n",
    "    <li>You should assign -1 to <strong>all</strong> the elements of <strong>slice_arr</strong> and not to <strong>slice_arr</strong>. If you write <strong>slice_arr=-1</strong>, <strong>slice_arr</strong> will be an integer with value -1. You must exploit the <strong>square brackets</strong>.\n",
    "    <li>You should make a <strong>hard copy</strong> of the slice.</li>\n",
    "</ul>\n",
    "</p>"
   ]
  },
  {
   "cell_type": "code",
   "execution_count": null,
   "id": "c5c6b2d1",
   "metadata": {},
   "outputs": [],
   "source": [
    "my_arr = np.array([[1, 2, 3, 4, 5], [6, 7, 8, 9, 10], [11, 12, 13, 14, 15], [16, 17, 18, 19, 20]])\n",
    "print(\"original array:\")\n",
    "print(my_arr)\n",
    "\n",
    "#### START CODE HERE ####\n",
    "#### Ideally 2 line ####\n",
    "\n",
    "\n",
    "#### END CODE HERE ####\n",
    "\n",
    "print(f\"\\n slice:\")\n",
    "print(slice_arr)\n",
    "print(f\"\\n array after the modification of the slice:\")\n",
    "print(my_arr)"
   ]
  },
  {
   "cell_type": "markdown",
   "id": "d78f12f7",
   "metadata": {},
   "source": [
    "#### Expected output\n",
    "```original array:``` <br>\n",
    "```[[ 1  2  3  4  5]``` <br>\n",
    "```[ 6  7  8  9 10]``` <br>\n",
    "```[11 12 13 14 15]``` <br>\n",
    "```[16 17 18 19 20]]``` <br><br>\n",
    "``` slice``` <br>\n",
    "```[[-1 -1 -1 -1 -1]``` <br>\n",
    "```[-1 -1 -1 -1 -1]``` <br>\n",
    "```[-1 -1 -1 -1 -1]]```  <br><br>\n",
    "```array after the modification of the slice:``` <br>\n",
    "```[[ 1  2  3  4  5]``` <br>\n",
    "```[ 6  7  8  9 10]``` <br>\n",
    "```[11 12 13 14 15]``` <br>\n",
    "```[16 17 18 19 20]]``` "
   ]
  },
  {
   "cell_type": "markdown",
   "id": "fb97549d",
   "metadata": {},
   "source": [
    "This time, the modifications of the slice do **not affect** anymore the original array."
   ]
  },
  {
   "cell_type": "markdown",
   "id": "5a05f94c",
   "metadata": {},
   "source": [
    "### Exercise 3.6\n",
    "Define a **mask** of the array into a variable `mask` with **all the elements greater or equal than 5 and less or equal than 10**. Then, assign to **all the masked elements** of the original array the value `-1`.\n",
    "<details>    \n",
    "<summary>\n",
    "    <font size=\"3\" color=\"darkgreen\"><b>Hints</b></font>\n",
    "</summary>\n",
    "<p>\n",
    "<ul>\n",
    "   <li>You should use the <strong>masking</strong> access method.</li>\n",
    "    <li>Be careful that <strong>and</strong>, <strong>or</strong>, <strong>not</strong>, are respetcively <strong>&</strong>, <strong>|</strong>, <strong>!</strong> with numpy </li>\n",
    "    <li>Be careful that multiple conditions require round brackets</li>\n",
    "</ul>\n",
    "</p>"
   ]
  },
  {
   "cell_type": "code",
   "execution_count": null,
   "id": "aa752012",
   "metadata": {},
   "outputs": [],
   "source": [
    "my_arr = np.array([[1, 2, 3, 4, 5], [6, 7, 8, 9, 10], [11, 12, 13, 14, 15], [16, 17, 18, 19, 20]])\n",
    "print(\"original array:\")\n",
    "print(my_arr)\n",
    "\n",
    "#### START CODE HERE ####\n",
    "#### Ideally 2 line ####\n",
    "\n",
    "\n",
    "#### END CODE HERE ####\n",
    "\n",
    "print(f\"\\n array after the modification of the masked elements:\")\n",
    "print(my_arr)"
   ]
  },
  {
   "cell_type": "markdown",
   "id": "d0129e6d",
   "metadata": {},
   "source": [
    "#### Expected output\n",
    "```[[ 1  2  3  4  5]``` <br>\n",
    "```[ 6  7  8  9 10]``` <br>\n",
    "```[11 12 13 14 15]``` <br>\n",
    "```[16 17 18 19 20]]``` <br><br>\n",
    "```array after the modification of the masked elements:``` <br>\n",
    "```[[ 1  2  3  4  -1]``` <br>\n",
    "```[-1  -1  -1  -1 -1]``` <br>\n",
    "```[11 12 13 14 15]``` <br>\n",
    "```[16 17 18 19 20]]``` "
   ]
  },
  {
   "cell_type": "markdown",
   "id": "eb601667",
   "metadata": {},
   "source": [
    "<a id='4'></a>\n",
    "## 4. Min-Max normalization with numpy\n",
    "In this exercise, you have to implement the **Min-Max normalization**. It is a simple method that rescales the range of features into `[0, 1]`. The formula for the **Min-Max normalization** is the following:\n",
    "\n",
    "\n",
    "$$ x\\_norm = \\frac{(x - x_{min})}{(x_{max} - x_{min})} $$\n",
    "\n",
    "Some learning algorithms require **input features** to be **normalized** or **standardized** to work correctly. In the next labs, we will learn some libraries (e.g., *scikit-learn*) that perform **normalization** or **standardization** with one single line of code. These libraries exploit *Numpy* internally. However, it is important to understand how to work with arrays."
   ]
  },
  {
   "cell_type": "markdown",
   "id": "d9a13bfc",
   "metadata": {},
   "source": [
    "### 4.1 Min-Max normalization of one-dimensional data \n",
    "We first focus on a **synthetic dataset** (i.e., artificially generated) with **one input feature** (i.e., `X` has shape `(n_samples, 1)`) and a **continuous target variable** `Y` (with shape `(n_samples, 1)`).\n",
    "\n",
    "We will use, as **one-dimensional** example, a dataset with `n_samples` (records) composed of couples containing the `size of the house` and the relative `price` (in thousands of €). We would like to train a Machine Learning model (we will learn how to train a model in the next labs) that takes as input the `size of the house` and predicts the most probable `price`. This paradigm is called **supervised learning** because you provide to the model both the **input features** `X` and the **expected output** `Y`. During learning, the model will try to predict, for each input $x_i \\in X$ the corresponding output $y_i$ (e.g., for each house, it will try to predict the price given the size). Then, the predicted output $\\hat{y_i}$ is compared with the real output $y_i$ by computing a measure that quantifies the error of the model (e.g., a distance between the predicted and real values). Then, the model will update the internal weights based on the error. For example, if the error is very low, it means that the model is good at predicting the price for that house. Therefore, it should **not** update its internal weights. If the error is high, the model is **not** good at predicting the price of that house. Therefore, it should update its internal weight. This procedure is repeated for all the samples in your dataset.\n",
    "\n",
    "This is just a simplification to understand how Machine Learning algorithms work. However, we will learn more in the next labs. So, if it is not so clear to you, don't worry. The purpose is to begin to understand why some exercises.\n",
    "\n",
    "In this example, `X` is of shape `(n_samples, 1)`. It is one-dimensional because, for each house, the model takes as input only the size of the house. For notation, we write the input `X` as a column vector (i.e., `(n_samples, 1)` is a column vector with `n_samples` rows)."
   ]
  },
  {
   "cell_type": "markdown",
   "id": "469720b5",
   "metadata": {},
   "source": [
    "#### Sythetic dataset generation: one-dimensional input features\n",
    "Firstly, you will create a vector `X` containing the size of the houses with `500` samples generated by a **normal distribution**  given a **mean** `mu` and a **standard deviation** `sigma`. This means that the sizes will have **mean** = `mu` and **standard deviation** = `sigma`. The code for generating the samples is already available to you. Please run the next cell to generate the samples."
   ]
  },
  {
   "cell_type": "code",
   "execution_count": null,
   "id": "3275c13e",
   "metadata": {},
   "outputs": [],
   "source": [
    "mu, sigma = 120, 50 # mean and standard deviation\n",
    "X = np.random.normal(mu, sigma, (500,)) # generate a gaussian distribution with mean mu and std dev sigma\n",
    "X = np.abs(X) # only positive values make sense for the size of the house\n",
    "\n",
    "print(\"X Shape\", X.shape)\n",
    "print(\"X Minimum value:\", X.min())\n",
    "print(\"X Maximum value:\", X.max())\n",
    "print(\"X mean:\", X.mean())\n",
    "print(\"X standard deviation:\", X.std())\n",
    "print(\"First ten element of x: \", X[:5])"
   ]
  },
  {
   "cell_type": "markdown",
   "id": "07d9f98d",
   "metadata": {},
   "source": [
    "Now compute the price of each house as a linear function of the input features `X` with an error term. The price of the house is computed as follows:\n",
    "\n",
    "$$ price = size * (price\\_per\\_mq \\pm error) $$\n",
    "\n",
    "Therefore:\n",
    "$$ y_i = x_i * (price\\_per\\_mq \\pm error) $$\n",
    "\n",
    "Instead of computing `Y` with **explicit for loops**, we exploit Numpy.\n",
    "\n",
    "Run the next cell to compute `Y`."
   ]
  },
  {
   "cell_type": "code",
   "execution_count": null,
   "id": "dd0c3b99",
   "metadata": {},
   "outputs": [],
   "source": [
    "price_per_mq = 3.5 # thousands of euros per square meter\n",
    "error = np.random.random((500,)) - 0.5 # generate a random number in range [-0.5, +0.5]\n",
    "Y =  X*(price_per_mq + error) # compute the price for each house. Notice that Numpy uses broadcasting for price_per_mq\n",
    "\n",
    "print(\"Y Shape\", Y.shape)\n",
    "print(\"Y Minimum value: {:.2f}\".format(Y.min()))\n",
    "print(\"Y Maximum value: {:.2f}\".format(Y.max()))\n",
    "print(\"Y mean: {:.2f}\".format(Y.mean()))\n",
    "print(\"Y standard deviation: {:.2f}\".format(Y.std()))\n",
    "print(\"First ten element of Y: \", Y[:5])"
   ]
  },
  {
   "cell_type": "markdown",
   "id": "c4db2056",
   "metadata": {},
   "source": [
    "Run the next cell to **plot the generated points in the plane**, with the size of the houses on the *x* axis and the prices on the *y* axis."
   ]
  },
  {
   "cell_type": "code",
   "execution_count": null,
   "id": "2fb7fc13",
   "metadata": {},
   "outputs": [],
   "source": [
    "plot_2d_points(X,Y)"
   ]
  },
  {
   "cell_type": "markdown",
   "id": "f71ccb0a",
   "metadata": {},
   "source": [
    "You can notice that the value of `X` are in a range `[0, 300]` (with some randomness).\n",
    "\n",
    "Run the next cell to plot the frequency histograms of the size of the houses and prices. The values follow a normal distribution."
   ]
  },
  {
   "cell_type": "code",
   "execution_count": null,
   "id": "dc6cd466",
   "metadata": {},
   "outputs": [],
   "source": [
    "plot_distributions([X,Y], [\"Size of the house\", \"price\"])"
   ]
  },
  {
   "cell_type": "markdown",
   "id": "131e75e7",
   "metadata": {},
   "source": [
    "### Exercise 4.1\n",
    "Now, you have to perform the **Min-Max normalization** of the input features. After the normalization, all the values of `X` must be in the range `[0, 1]`.\n",
    "\n",
    "Perform the **Min-Max normalization** of the vector `X` and assign the normalized vector into a variable `X_norm`. Remember that the formula for the **Min-Max normalization** is the following:\n",
    "\n",
    "$$ X\\_norm = \\frac{(x - x_{min})}{(x_{max} - x_{min})} $$\n",
    "\n",
    "#### NOTE: Exploit Numpy instead of lists or explicit for loops!\n",
    "<br>\n",
    "<details>    \n",
    "<summary>\n",
    "    <font size=\"3\" color=\"darkgreen\"><b>Hints</b></font>\n",
    "</summary>\n",
    "<p>\n",
    "<ul>\n",
    "   <li>You should exploit <strong>broadcasting</strong>.</li>\n",
    "</ul>\n",
    "</p>"
   ]
  },
  {
   "cell_type": "code",
   "execution_count": null,
   "id": "920e2a37",
   "metadata": {},
   "outputs": [],
   "source": [
    "#### START CODE HERE ####\n",
    "#### Ideally 1 line ####\n",
    "\n",
    "#### END CODE HERE ####\n",
    "\n",
    "print(\"Minimum value after norm: {:.2f}\".format(X_norm.min()))\n",
    "print(\"Maximum value after norm: {:.2f}\".format(X_norm.max()))\n",
    "print(\"Mean after norm: {:.2f}\".format(X_norm.mean()))\n",
    "print(\"Standard deviation after norm: {:.2f}\".format(X_norm.std()))\n",
    "print(\"First ten element of X_norm: \", X_norm[:5])"
   ]
  },
  {
   "cell_type": "markdown",
   "id": "4155437f",
   "metadata": {},
   "source": [
    "#### Expected output\n",
    "```Minimum value after norm: 0.0``` <br>\n",
    "```Maximum value after norm: 1.0``` <br>\n",
    "```Mean after norm: 0.5``` (with some randomness)<br>\n",
    "```Standard deviation after norm: 0.15``` (with some randomness) <br>\n",
    "```First ten element of X_norm: [list with 5 floats between 0 and 1]``` (with some randomness)"
   ]
  },
  {
   "cell_type": "markdown",
   "id": "3440ccf1",
   "metadata": {},
   "source": [
    "If you implemented the normalization correctly, the min and the max values of `X_norm` must be 0 and 1, respectively.\n",
    "Now, run the next cell to plot the **normalized** points in the plane, with the size of the houses on the *x* axis and the prices on the *y* axis."
   ]
  },
  {
   "cell_type": "code",
   "execution_count": null,
   "id": "5d4c0df6",
   "metadata": {},
   "outputs": [],
   "source": [
    "plot_2d_points(X_norm,Y,True)"
   ]
  },
  {
   "cell_type": "markdown",
   "id": "46e3e038",
   "metadata": {},
   "source": [
    "You can notice that the values in the *x* axis are now in the range `[0, 1]`. But the relations between data are preserved (i.e., the points are distributed in the same way in the plane).\n",
    "\n",
    "Run the next cell to plot the frequency histograms of the **normalized** size of the houses and prices. "
   ]
  },
  {
   "cell_type": "code",
   "execution_count": null,
   "id": "0403756d",
   "metadata": {},
   "outputs": [],
   "source": [
    "plot_distributions([X_norm,Y], [\"Size of the house norm\", \"price norm\"])"
   ]
  },
  {
   "cell_type": "markdown",
   "id": "2507e658",
   "metadata": {},
   "source": [
    "After the **Min-Max normalization**, the values of `X` are rescaled in the range [0, 1]. Again, the distribution is preserved."
   ]
  },
  {
   "cell_type": "markdown",
   "id": "d246cf1a",
   "metadata": {},
   "source": [
    "Congratulations! you have correctly normalized a one-dimensional array of features using Numpy. \n",
    "\n",
    "Now let's try a two-dimensional array."
   ]
  },
  {
   "cell_type": "markdown",
   "id": "2e6d1a27",
   "metadata": {},
   "source": [
    "### 4.2 Min-Max normalization of two-dimensional data "
   ]
  },
  {
   "cell_type": "markdown",
   "id": "8fa71ce9",
   "metadata": {},
   "source": [
    "Now we will move to a **2-dimensional case**. We create an artificial dataset `X` with 2 dimensions: the **size of the house (mq)** (in the first column of `X`) and the **number of rooms** (in the second column of `X`). The target amount that a Machine Learning algorithm would like to estimate is still the **price** (in thousands of €) (in the `Y`). In this case, the task of the algorithm is to predict the price given the size of the house and the number of rooms. Therefore, the input features `X` is a two-dimensional array. We will see how to train a Machine Learning algorithm to predict the price of the house `Y` given the size of the house and the number of rooms `X` in the next lectures. \n",
    "\n",
    "Firstly, you will create a 2-dimensional array `X` containing the size of the houses and the number of rooms for `500` synthetic generated samples. The following cells will create the dataset `X` and the target value of `Y`."
   ]
  },
  {
   "cell_type": "code",
   "execution_count": null,
   "id": "e54ec39f",
   "metadata": {},
   "outputs": [],
   "source": [
    "n_samples = 500\n",
    "\n",
    "mu, sigma = 120, 50 # mean and standard deviation\n",
    "X_size = np.random.normal(mu, sigma, (500,)) # generate a gaussian distribution with mean 120 and std dev 50\n",
    "X_size = np.abs(X_size) # only positive values make sense for the size of the house\n",
    "\n",
    "mu, sigma = 3, 2 # mean and standard deviation of the houses' number of rooms\n",
    "X_rooms = np.random.normal(mu, sigma, n_samples) # Generate 500 samples (number of rooms of the house) with mean 3 and std dev 2\n",
    "X_rooms = X_rooms.astype(int)\n",
    "X_rooms = X_rooms+np.min(X_rooms)*-1+1 # move the samples with a minumum number of rooms of 1\n",
    "\n",
    "X = np.hstack((X_size.reshape(-1, 1), X_rooms.reshape(-1, 1)))\n",
    "\n",
    "print(\"X Shape\", X.shape)\n",
    "print(\"X size of the house - Minimum value: {:.2f}\".format(X[:,0].min()))\n",
    "print(\"X size of the house - Maximum value: {:.2f}\".format(X[:,0].max()))\n",
    "print(\"X size of the house - mean: {:.2f}\".format(X[:,0].mean()))\n",
    "print(\"X size of the house - standard deviation: {:.2f}\".format(X[:,0].std()))\n",
    "print(\"First ten element of X size of the house: {}\".format(X[:5,0]))\n",
    "print(\"X n rooms - Minimum value: {:.2f}\".format(X[:,1].min()))\n",
    "print(\"X n rooms - Maximum value: {:.2f}\".format(X[:,1].max()))\n",
    "print(\"X n rooms - mean: {:.2f}\".format(X[:,1].mean()))\n",
    "print(\"X n rooms - standard deviation: {:.2f}\".format(X[:,1].std()))\n",
    "print(\"First ten element of X n rooms: {}\".format(X[:5,1]))"
   ]
  },
  {
   "cell_type": "markdown",
   "id": "56e358f5",
   "metadata": {},
   "source": [
    "Notice that the input features in `X` (i.e., the size of the house and the number of rooms) have a **different scale**. This can be **problematic** when training a learning algorithm.\n",
    "\n",
    "Now compute the price of each house as a linear function of the input features `X` with an error term. The price of the house is computed as follows:\n",
    "\n",
    "$$ price = size * (price\\_per\\_mq \\pm error\\_size) + n\\_rooms * (increment\\_per\\_room \\pm error\\_rooms)  $$\n",
    "\n",
    "Therefore:\n",
    "$$ y_i = x_i[0] * (price\\_per\\_mq \\pm error\\_size) + x_i[1] * (increment\\_per\\_room \\pm error\\_rooms) $$\n",
    "\n",
    "Instead of computing `Y` with **explicit for loops**, we exploit Numpy.\n",
    "\n",
    "Run the next cell to compute `Y`."
   ]
  },
  {
   "cell_type": "code",
   "execution_count": null,
   "id": "293eb28c",
   "metadata": {},
   "outputs": [],
   "source": [
    "price_per_mq = 3.5 # tousands of euros per square metre\n",
    "increment_per_room = 0.05\n",
    "error_size = np.random.random((500,)) - 0.5 # generate a random number in range [-0.5, +0.5]\n",
    "error_rooms = (np.random.random((500,)) - 0.5)/10 # generate a random number in range [-0.05, +0.05]\n",
    "Y =  X[:,0]*(price_per_mq + error_size) + X[:,1]*(increment_per_room + error_rooms)\n",
    "\n",
    "print(\"Y Shape\", Y.shape)\n",
    "print(\"Y Minimum value: {:.2f}\".format(Y.min()))\n",
    "print(\"Y Maximum value: {:.2f}\".format(Y.max()))\n",
    "print(\"Y mean: {:.2f}\".format(Y.mean()))\n",
    "print(\"Y standard deviation: {:.2f}\".format(Y.std()))\n",
    "print(\"First ten element of Y: \", Y[:5])"
   ]
  },
  {
   "cell_type": "markdown",
   "id": "f11af86c",
   "metadata": {},
   "source": [
    "Run the next cell to **plot the generated points in the space**, with the size of the houses on the *x* axis, the number of rooms on the *y* axis, and the prices on the *z* axis."
   ]
  },
  {
   "cell_type": "code",
   "execution_count": null,
   "id": "e1d41c43",
   "metadata": {},
   "outputs": [],
   "source": [
    "plot_3d_points(X, Y)"
   ]
  },
  {
   "cell_type": "markdown",
   "id": "ef9daf47",
   "metadata": {},
   "source": [
    "Run the next cell to plot the frequency histograms of the size of the houses, the number of rooms, and the prices. The values follow a normal distribution."
   ]
  },
  {
   "cell_type": "code",
   "execution_count": null,
   "id": "bd5e9839",
   "metadata": {},
   "outputs": [],
   "source": [
    "plot_distributions([X[:,0], X[:,1], Y], [\"Size of the house\", \"Number of rooms\", \"price\"])"
   ]
  },
  {
   "cell_type": "markdown",
   "id": "430a1850",
   "metadata": {},
   "source": [
    "### Exercise 4.2\n",
    "Now, you have to perform the **Min-Max normalization** of the input features. After the normalization, all the values of `X` (in both dimensions) must be in the range `[0, 1]`.\n",
    "\n",
    "Perform the **Min-Max normalization** of the vector `X` and assign the normalized vector into a variable `X_norm`. Remember that the formula for the **Min-Max normalization** is the following:\n",
    "\n",
    "$$ X\\_norm = \\frac{(x - x_{min})}{(x_{max} - x_{min})} $$\n",
    "\n",
    "*Important*: **this time, you should normalize each column separately** (i.e., the column with the size of the houses must be normalized with the mean and the standard deviation of the size of the houses in the dataset, while the column with the number of rooms must be normalized with the mean and the standard deviation of the number of rooms in the dataset).  \n",
    "\n",
    "#### NOTE: Exploit Numpy instead of lists or explicit for loops!\n",
    "<br>\n",
    "<details>    \n",
    "<summary>\n",
    "    <font size=\"3\" color=\"darkgreen\"><b>Hints</b></font>\n",
    "</summary>\n",
    "<p>\n",
    "<ul>\n",
    "   <li>You should exploit <strong>broadcasting</strong>.</li>\n",
    "    <li>You should specify the <strong>axis</strong>.</li>\n",
    "</ul>\n",
    "</p>"
   ]
  },
  {
   "cell_type": "code",
   "execution_count": null,
   "id": "a50cd40b",
   "metadata": {},
   "outputs": [],
   "source": [
    "#### START CODE HERE ####\n",
    "#### Ideally 1 line ####\n",
    "\n",
    "#### END CODE HERE ####\n",
    "\n",
    "print(\"X_norm Shape\", X.shape)\n",
    "print(\"X_norm size of the house - Minimum value: {:.2f}\".format(X_norm[:,0].min()))\n",
    "print(\"X_norm size of the house - Maximum value: {:.2f}\".format(X_norm[:,0].max()))\n",
    "print(\"X_norm size of the house - mean: {:.2f}\".format(X_norm[:,0].mean()))\n",
    "print(\"X_norm size of the house - standard deviation: {:.2f}\".format(X_norm[:,0].std()))\n",
    "print(\"First ten element of X_norm size of the house: {}\".format(X_norm[:5,0]))\n",
    "print(\"X_norm n rooms - Minimum value: {:.2f}\".format(X_norm[:,1].min()))\n",
    "print(\"X_norm n rooms - Maximum value: {:.2f}\".format(X_norm[:,1].max()))\n",
    "print(\"X_norm n rooms - mean: {:.2f}\".format(X_norm[:,1].mean()))\n",
    "print(\"X_norm n rooms - standard deviation: {:.2f}\".format(X_norm[:,1].std()))\n",
    "print(\"First ten element of X_norm n rooms: {}\".format(X_norm[:5,1]))"
   ]
  },
  {
   "cell_type": "markdown",
   "id": "9237bc33",
   "metadata": {},
   "source": [
    "If you implemented the normalization correctly, the min and the max values of `X_norm` must be 0 and 1, respectively, for both dimensions (i.e., the size of the houses and the number of rooms).\n",
    "\n",
    "Now, run the next cell to plot the **normalized** points in the space, with the size of the houses on the *x* axis, the number of rooms on the *y* axis, and the prices on the *z* axis."
   ]
  },
  {
   "cell_type": "code",
   "execution_count": null,
   "id": "a62fbfa2",
   "metadata": {},
   "outputs": [],
   "source": [
    "plot_3d_points(X_norm, Y, True)"
   ]
  },
  {
   "cell_type": "markdown",
   "id": "a0c49521",
   "metadata": {},
   "source": [
    "You can notice that the values in the *X* axis are now in the range `[0, 1]` (i.e., *x* and *y* in the space). But the relations between data are preserved (i.e., the points are distributed in the same way in the plane).\n",
    "\n",
    "Run the next cell to plot the frequency histograms of the **normalized** size of the houses, number of rooms, and prices. "
   ]
  },
  {
   "cell_type": "code",
   "execution_count": null,
   "id": "30a42590",
   "metadata": {},
   "outputs": [],
   "source": [
    "plot_distributions([X_norm[:,0], X_norm[:,1], Y], [\"Size of the house norm\", \"Number of rooms norm\", \"price\"])"
   ]
  },
  {
   "cell_type": "markdown",
   "id": "3811ef87",
   "metadata": {},
   "source": [
    "After the **Min-Max normalization**, the values of `X` in both axis (i.e., size of the house and number of rooms) are rescaled in the range [0, 1]. Again, the distributions are preserved."
   ]
  },
  {
   "cell_type": "markdown",
   "id": "27202acf",
   "metadata": {},
   "source": [
    "Congratulations! you have also correctly normalized a two-dimensional array of features using Numpy. "
   ]
  }
 ],
 "metadata": {
  "kernelspec": {
   "display_name": "Python 3 (ipykernel)",
   "language": "python",
   "name": "python3"
  },
  "language_info": {
   "codemirror_mode": {
    "name": "ipython",
    "version": 3
   },
   "file_extension": ".py",
   "mimetype": "text/x-python",
   "name": "python",
   "nbconvert_exporter": "python",
   "pygments_lexer": "ipython3",
   "version": "3.8.16"
  }
 },
 "nbformat": 4,
 "nbformat_minor": 5
}
