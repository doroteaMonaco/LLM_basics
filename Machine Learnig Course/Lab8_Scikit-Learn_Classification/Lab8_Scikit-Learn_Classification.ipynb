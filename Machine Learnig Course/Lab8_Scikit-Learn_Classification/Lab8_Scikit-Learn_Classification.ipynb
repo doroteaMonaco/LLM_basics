{
 "cells": [
  {
   "cell_type": "markdown",
   "id": "69b353cd",
   "metadata": {},
   "source": [
    "# Lab 7: Classification with Scikit-Learn\n",
    "\n",
    "The objective of this notebook is to learn about the **Scikit-Learn** library (<a href=\"https://scikit-learn.org/stable/\" >official documentation</a>) and **classification models**.\n",
    "\n"
   ]
  },
  {
   "cell_type": "markdown",
   "id": "563eebd6",
   "metadata": {},
   "source": [
    "## A Fast Tutorial\n",
    "First of all import all the useful libraries to run this tutorial"
   ]
  },
  {
   "cell_type": "code",
   "execution_count": null,
   "id": "dff2dfee",
   "metadata": {},
   "outputs": [],
   "source": [
    "# Plotting and data manipulation libraries\n",
    "%matplotlib inline\n",
    "import matplotlib.pyplot as plt\n",
    "import numpy as np\n",
    "import pandas as pd\n",
    "import seaborn as sns\n",
    "\n",
    "# Classification models and utilities\n",
    "from sklearn.model_selection import train_test_split\n",
    "from sklearn.naive_bayes import GaussianNB\n",
    "from sklearn import tree\n",
    "from sklearn.tree import DecisionTreeClassifier\n",
    "\n",
    "# Evaluation metrics to assess classification performance\n",
    "from sklearn.metrics import accuracy_score, precision_recall_fscore_support, confusion_matrix, f1_score\n",
    "\n",
    "# Set seed for reproducibility\n",
    "seed = 1234\n"
   ]
  },
  {
   "cell_type": "markdown",
   "id": "6c801a3d",
   "metadata": {},
   "source": [
    "### 1. Load 'abalone' dataset \n"
   ]
  },
  {
   "cell_type": "code",
   "execution_count": 12,
   "id": "37e3e45d",
   "metadata": {},
   "outputs": [
    {
     "name": "stdout",
     "output_type": "stream",
     "text": [
      "Class distribution: (array([0., 1., 2.]), array([1306, 1342,  416]))\n"
     ]
    }
   ],
   "source": [
    "# Load dataset and separate features from labels\n",
    "ds = np.loadtxt('data_lab8/abalone.csv')\n",
    "X = ds[:, :-1]\n",
    "y_truth = ds[:, -1]\n",
    "\n",
    "# Display class distribution\n",
    "print(\"Class distribution:\", np.unique(y_truth, return_counts=True))\n"
   ]
  },
  {
   "cell_type": "code",
   "execution_count": 7,
   "id": "893402c8",
   "metadata": {},
   "outputs": [
    {
     "name": "stdout",
     "output_type": "stream",
     "text": [
      "Feature matrix shape: (3064, 8)\n",
      "Label vector shape: (3064,)\n",
      "First few samples:\n",
      " [[ 0.365   0.255   0.08    0.1985  0.0785  0.0345  0.053   5.    ]\n",
      " [ 0.465   0.38    0.135   0.579   0.208   0.1095  0.22   14.    ]\n",
      " [ 0.365   0.27    0.085   0.1875  0.081   0.042   0.058   6.    ]\n",
      " [ 0.575   0.43    0.155   0.7955  0.3485  0.1925  0.22    9.    ]\n",
      " [ 0.385   0.29    0.095   0.312   0.143   0.0635  0.086   6.    ]]\n"
     ]
    }
   ],
   "source": [
    "print(\"Feature matrix shape:\", X.shape)\n",
    "print(\"Label vector shape:\", y_truth.shape)\n",
    "print(\"First few samples:\\n\", X[:5])"
   ]
  },
  {
   "cell_type": "markdown",
   "id": "676d872f",
   "metadata": {},
   "source": [
    "#### 2. Create train and test splits\n",
    "- Use the train_test_split() method\n",
    "- Random state to make results repeatable"
   ]
  },
  {
   "cell_type": "code",
   "execution_count": 8,
   "id": "2e5dfb9c",
   "metadata": {},
   "outputs": [],
   "source": [
    "# Separate data into training and test set\n",
    "# Default test_size = 0.25\n",
    "X_train, X_test, y_train, y_test = train_test_split(X, y_truth, \n",
    "                                                    test_size=0.2, random_state=42)\n"
   ]
  },
  {
   "cell_type": "code",
   "execution_count": 13,
   "id": "e85e946d",
   "metadata": {},
   "outputs": [
    {
     "name": "stdout",
     "output_type": "stream",
     "text": [
      "Training features shape: (2451, 8)\n",
      "Test features shape: (613, 8)\n",
      "Training labels shape: (2451,)\n"
     ]
    }
   ],
   "source": [
    "print(\"Training features shape:\", X_train.shape)\n",
    "print(\"Test features shape:\", X_test.shape)\n",
    "print(\"Training labels shape:\", y_train.shape)"
   ]
  },
  {
   "cell_type": "markdown",
   "id": "705f7eb3",
   "metadata": {},
   "source": [
    "### 3 Train classifier and make predictions\n",
    "- Use Decision Tree classifier"
   ]
  },
  {
   "cell_type": "code",
   "execution_count": 14,
   "id": "e6cfd251",
   "metadata": {},
   "outputs": [],
   "source": [
    "# Initialize Decision Tree classifier with limited depth to prevent overfitting\n",
    "clf = DecisionTreeClassifier(max_depth=2)\n",
    "\n",
    "# Note: if max_depth=None, the tree grows without limit, increasing the risk of overfitting\n"
   ]
  },
  {
   "cell_type": "code",
   "execution_count": 15,
   "id": "64f94df3",
   "metadata": {},
   "outputs": [
    {
     "data": {
      "text/html": [
       "<style>#sk-container-id-1 {\n",
       "  /* Definition of color scheme common for light and dark mode */\n",
       "  --sklearn-color-text: #000;\n",
       "  --sklearn-color-text-muted: #666;\n",
       "  --sklearn-color-line: gray;\n",
       "  /* Definition of color scheme for unfitted estimators */\n",
       "  --sklearn-color-unfitted-level-0: #fff5e6;\n",
       "  --sklearn-color-unfitted-level-1: #f6e4d2;\n",
       "  --sklearn-color-unfitted-level-2: #ffe0b3;\n",
       "  --sklearn-color-unfitted-level-3: chocolate;\n",
       "  /* Definition of color scheme for fitted estimators */\n",
       "  --sklearn-color-fitted-level-0: #f0f8ff;\n",
       "  --sklearn-color-fitted-level-1: #d4ebff;\n",
       "  --sklearn-color-fitted-level-2: #b3dbfd;\n",
       "  --sklearn-color-fitted-level-3: cornflowerblue;\n",
       "\n",
       "  /* Specific color for light theme */\n",
       "  --sklearn-color-text-on-default-background: var(--sg-text-color, var(--theme-code-foreground, var(--jp-content-font-color1, black)));\n",
       "  --sklearn-color-background: var(--sg-background-color, var(--theme-background, var(--jp-layout-color0, white)));\n",
       "  --sklearn-color-border-box: var(--sg-text-color, var(--theme-code-foreground, var(--jp-content-font-color1, black)));\n",
       "  --sklearn-color-icon: #696969;\n",
       "\n",
       "  @media (prefers-color-scheme: dark) {\n",
       "    /* Redefinition of color scheme for dark theme */\n",
       "    --sklearn-color-text-on-default-background: var(--sg-text-color, var(--theme-code-foreground, var(--jp-content-font-color1, white)));\n",
       "    --sklearn-color-background: var(--sg-background-color, var(--theme-background, var(--jp-layout-color0, #111)));\n",
       "    --sklearn-color-border-box: var(--sg-text-color, var(--theme-code-foreground, var(--jp-content-font-color1, white)));\n",
       "    --sklearn-color-icon: #878787;\n",
       "  }\n",
       "}\n",
       "\n",
       "#sk-container-id-1 {\n",
       "  color: var(--sklearn-color-text);\n",
       "}\n",
       "\n",
       "#sk-container-id-1 pre {\n",
       "  padding: 0;\n",
       "}\n",
       "\n",
       "#sk-container-id-1 input.sk-hidden--visually {\n",
       "  border: 0;\n",
       "  clip: rect(1px 1px 1px 1px);\n",
       "  clip: rect(1px, 1px, 1px, 1px);\n",
       "  height: 1px;\n",
       "  margin: -1px;\n",
       "  overflow: hidden;\n",
       "  padding: 0;\n",
       "  position: absolute;\n",
       "  width: 1px;\n",
       "}\n",
       "\n",
       "#sk-container-id-1 div.sk-dashed-wrapped {\n",
       "  border: 1px dashed var(--sklearn-color-line);\n",
       "  margin: 0 0.4em 0.5em 0.4em;\n",
       "  box-sizing: border-box;\n",
       "  padding-bottom: 0.4em;\n",
       "  background-color: var(--sklearn-color-background);\n",
       "}\n",
       "\n",
       "#sk-container-id-1 div.sk-container {\n",
       "  /* jupyter's `normalize.less` sets `[hidden] { display: none; }`\n",
       "     but bootstrap.min.css set `[hidden] { display: none !important; }`\n",
       "     so we also need the `!important` here to be able to override the\n",
       "     default hidden behavior on the sphinx rendered scikit-learn.org.\n",
       "     See: https://github.com/scikit-learn/scikit-learn/issues/21755 */\n",
       "  display: inline-block !important;\n",
       "  position: relative;\n",
       "}\n",
       "\n",
       "#sk-container-id-1 div.sk-text-repr-fallback {\n",
       "  display: none;\n",
       "}\n",
       "\n",
       "div.sk-parallel-item,\n",
       "div.sk-serial,\n",
       "div.sk-item {\n",
       "  /* draw centered vertical line to link estimators */\n",
       "  background-image: linear-gradient(var(--sklearn-color-text-on-default-background), var(--sklearn-color-text-on-default-background));\n",
       "  background-size: 2px 100%;\n",
       "  background-repeat: no-repeat;\n",
       "  background-position: center center;\n",
       "}\n",
       "\n",
       "/* Parallel-specific style estimator block */\n",
       "\n",
       "#sk-container-id-1 div.sk-parallel-item::after {\n",
       "  content: \"\";\n",
       "  width: 100%;\n",
       "  border-bottom: 2px solid var(--sklearn-color-text-on-default-background);\n",
       "  flex-grow: 1;\n",
       "}\n",
       "\n",
       "#sk-container-id-1 div.sk-parallel {\n",
       "  display: flex;\n",
       "  align-items: stretch;\n",
       "  justify-content: center;\n",
       "  background-color: var(--sklearn-color-background);\n",
       "  position: relative;\n",
       "}\n",
       "\n",
       "#sk-container-id-1 div.sk-parallel-item {\n",
       "  display: flex;\n",
       "  flex-direction: column;\n",
       "}\n",
       "\n",
       "#sk-container-id-1 div.sk-parallel-item:first-child::after {\n",
       "  align-self: flex-end;\n",
       "  width: 50%;\n",
       "}\n",
       "\n",
       "#sk-container-id-1 div.sk-parallel-item:last-child::after {\n",
       "  align-self: flex-start;\n",
       "  width: 50%;\n",
       "}\n",
       "\n",
       "#sk-container-id-1 div.sk-parallel-item:only-child::after {\n",
       "  width: 0;\n",
       "}\n",
       "\n",
       "/* Serial-specific style estimator block */\n",
       "\n",
       "#sk-container-id-1 div.sk-serial {\n",
       "  display: flex;\n",
       "  flex-direction: column;\n",
       "  align-items: center;\n",
       "  background-color: var(--sklearn-color-background);\n",
       "  padding-right: 1em;\n",
       "  padding-left: 1em;\n",
       "}\n",
       "\n",
       "\n",
       "/* Toggleable style: style used for estimator/Pipeline/ColumnTransformer box that is\n",
       "clickable and can be expanded/collapsed.\n",
       "- Pipeline and ColumnTransformer use this feature and define the default style\n",
       "- Estimators will overwrite some part of the style using the `sk-estimator` class\n",
       "*/\n",
       "\n",
       "/* Pipeline and ColumnTransformer style (default) */\n",
       "\n",
       "#sk-container-id-1 div.sk-toggleable {\n",
       "  /* Default theme specific background. It is overwritten whether we have a\n",
       "  specific estimator or a Pipeline/ColumnTransformer */\n",
       "  background-color: var(--sklearn-color-background);\n",
       "}\n",
       "\n",
       "/* Toggleable label */\n",
       "#sk-container-id-1 label.sk-toggleable__label {\n",
       "  cursor: pointer;\n",
       "  display: flex;\n",
       "  width: 100%;\n",
       "  margin-bottom: 0;\n",
       "  padding: 0.5em;\n",
       "  box-sizing: border-box;\n",
       "  text-align: center;\n",
       "  align-items: start;\n",
       "  justify-content: space-between;\n",
       "  gap: 0.5em;\n",
       "}\n",
       "\n",
       "#sk-container-id-1 label.sk-toggleable__label .caption {\n",
       "  font-size: 0.6rem;\n",
       "  font-weight: lighter;\n",
       "  color: var(--sklearn-color-text-muted);\n",
       "}\n",
       "\n",
       "#sk-container-id-1 label.sk-toggleable__label-arrow:before {\n",
       "  /* Arrow on the left of the label */\n",
       "  content: \"▸\";\n",
       "  float: left;\n",
       "  margin-right: 0.25em;\n",
       "  color: var(--sklearn-color-icon);\n",
       "}\n",
       "\n",
       "#sk-container-id-1 label.sk-toggleable__label-arrow:hover:before {\n",
       "  color: var(--sklearn-color-text);\n",
       "}\n",
       "\n",
       "/* Toggleable content - dropdown */\n",
       "\n",
       "#sk-container-id-1 div.sk-toggleable__content {\n",
       "  max-height: 0;\n",
       "  max-width: 0;\n",
       "  overflow: hidden;\n",
       "  text-align: left;\n",
       "  /* unfitted */\n",
       "  background-color: var(--sklearn-color-unfitted-level-0);\n",
       "}\n",
       "\n",
       "#sk-container-id-1 div.sk-toggleable__content.fitted {\n",
       "  /* fitted */\n",
       "  background-color: var(--sklearn-color-fitted-level-0);\n",
       "}\n",
       "\n",
       "#sk-container-id-1 div.sk-toggleable__content pre {\n",
       "  margin: 0.2em;\n",
       "  border-radius: 0.25em;\n",
       "  color: var(--sklearn-color-text);\n",
       "  /* unfitted */\n",
       "  background-color: var(--sklearn-color-unfitted-level-0);\n",
       "}\n",
       "\n",
       "#sk-container-id-1 div.sk-toggleable__content.fitted pre {\n",
       "  /* unfitted */\n",
       "  background-color: var(--sklearn-color-fitted-level-0);\n",
       "}\n",
       "\n",
       "#sk-container-id-1 input.sk-toggleable__control:checked~div.sk-toggleable__content {\n",
       "  /* Expand drop-down */\n",
       "  max-height: 200px;\n",
       "  max-width: 100%;\n",
       "  overflow: auto;\n",
       "}\n",
       "\n",
       "#sk-container-id-1 input.sk-toggleable__control:checked~label.sk-toggleable__label-arrow:before {\n",
       "  content: \"▾\";\n",
       "}\n",
       "\n",
       "/* Pipeline/ColumnTransformer-specific style */\n",
       "\n",
       "#sk-container-id-1 div.sk-label input.sk-toggleable__control:checked~label.sk-toggleable__label {\n",
       "  color: var(--sklearn-color-text);\n",
       "  background-color: var(--sklearn-color-unfitted-level-2);\n",
       "}\n",
       "\n",
       "#sk-container-id-1 div.sk-label.fitted input.sk-toggleable__control:checked~label.sk-toggleable__label {\n",
       "  background-color: var(--sklearn-color-fitted-level-2);\n",
       "}\n",
       "\n",
       "/* Estimator-specific style */\n",
       "\n",
       "/* Colorize estimator box */\n",
       "#sk-container-id-1 div.sk-estimator input.sk-toggleable__control:checked~label.sk-toggleable__label {\n",
       "  /* unfitted */\n",
       "  background-color: var(--sklearn-color-unfitted-level-2);\n",
       "}\n",
       "\n",
       "#sk-container-id-1 div.sk-estimator.fitted input.sk-toggleable__control:checked~label.sk-toggleable__label {\n",
       "  /* fitted */\n",
       "  background-color: var(--sklearn-color-fitted-level-2);\n",
       "}\n",
       "\n",
       "#sk-container-id-1 div.sk-label label.sk-toggleable__label,\n",
       "#sk-container-id-1 div.sk-label label {\n",
       "  /* The background is the default theme color */\n",
       "  color: var(--sklearn-color-text-on-default-background);\n",
       "}\n",
       "\n",
       "/* On hover, darken the color of the background */\n",
       "#sk-container-id-1 div.sk-label:hover label.sk-toggleable__label {\n",
       "  color: var(--sklearn-color-text);\n",
       "  background-color: var(--sklearn-color-unfitted-level-2);\n",
       "}\n",
       "\n",
       "/* Label box, darken color on hover, fitted */\n",
       "#sk-container-id-1 div.sk-label.fitted:hover label.sk-toggleable__label.fitted {\n",
       "  color: var(--sklearn-color-text);\n",
       "  background-color: var(--sklearn-color-fitted-level-2);\n",
       "}\n",
       "\n",
       "/* Estimator label */\n",
       "\n",
       "#sk-container-id-1 div.sk-label label {\n",
       "  font-family: monospace;\n",
       "  font-weight: bold;\n",
       "  display: inline-block;\n",
       "  line-height: 1.2em;\n",
       "}\n",
       "\n",
       "#sk-container-id-1 div.sk-label-container {\n",
       "  text-align: center;\n",
       "}\n",
       "\n",
       "/* Estimator-specific */\n",
       "#sk-container-id-1 div.sk-estimator {\n",
       "  font-family: monospace;\n",
       "  border: 1px dotted var(--sklearn-color-border-box);\n",
       "  border-radius: 0.25em;\n",
       "  box-sizing: border-box;\n",
       "  margin-bottom: 0.5em;\n",
       "  /* unfitted */\n",
       "  background-color: var(--sklearn-color-unfitted-level-0);\n",
       "}\n",
       "\n",
       "#sk-container-id-1 div.sk-estimator.fitted {\n",
       "  /* fitted */\n",
       "  background-color: var(--sklearn-color-fitted-level-0);\n",
       "}\n",
       "\n",
       "/* on hover */\n",
       "#sk-container-id-1 div.sk-estimator:hover {\n",
       "  /* unfitted */\n",
       "  background-color: var(--sklearn-color-unfitted-level-2);\n",
       "}\n",
       "\n",
       "#sk-container-id-1 div.sk-estimator.fitted:hover {\n",
       "  /* fitted */\n",
       "  background-color: var(--sklearn-color-fitted-level-2);\n",
       "}\n",
       "\n",
       "/* Specification for estimator info (e.g. \"i\" and \"?\") */\n",
       "\n",
       "/* Common style for \"i\" and \"?\" */\n",
       "\n",
       ".sk-estimator-doc-link,\n",
       "a:link.sk-estimator-doc-link,\n",
       "a:visited.sk-estimator-doc-link {\n",
       "  float: right;\n",
       "  font-size: smaller;\n",
       "  line-height: 1em;\n",
       "  font-family: monospace;\n",
       "  background-color: var(--sklearn-color-background);\n",
       "  border-radius: 1em;\n",
       "  height: 1em;\n",
       "  width: 1em;\n",
       "  text-decoration: none !important;\n",
       "  margin-left: 0.5em;\n",
       "  text-align: center;\n",
       "  /* unfitted */\n",
       "  border: var(--sklearn-color-unfitted-level-1) 1pt solid;\n",
       "  color: var(--sklearn-color-unfitted-level-1);\n",
       "}\n",
       "\n",
       ".sk-estimator-doc-link.fitted,\n",
       "a:link.sk-estimator-doc-link.fitted,\n",
       "a:visited.sk-estimator-doc-link.fitted {\n",
       "  /* fitted */\n",
       "  border: var(--sklearn-color-fitted-level-1) 1pt solid;\n",
       "  color: var(--sklearn-color-fitted-level-1);\n",
       "}\n",
       "\n",
       "/* On hover */\n",
       "div.sk-estimator:hover .sk-estimator-doc-link:hover,\n",
       ".sk-estimator-doc-link:hover,\n",
       "div.sk-label-container:hover .sk-estimator-doc-link:hover,\n",
       ".sk-estimator-doc-link:hover {\n",
       "  /* unfitted */\n",
       "  background-color: var(--sklearn-color-unfitted-level-3);\n",
       "  color: var(--sklearn-color-background);\n",
       "  text-decoration: none;\n",
       "}\n",
       "\n",
       "div.sk-estimator.fitted:hover .sk-estimator-doc-link.fitted:hover,\n",
       ".sk-estimator-doc-link.fitted:hover,\n",
       "div.sk-label-container:hover .sk-estimator-doc-link.fitted:hover,\n",
       ".sk-estimator-doc-link.fitted:hover {\n",
       "  /* fitted */\n",
       "  background-color: var(--sklearn-color-fitted-level-3);\n",
       "  color: var(--sklearn-color-background);\n",
       "  text-decoration: none;\n",
       "}\n",
       "\n",
       "/* Span, style for the box shown on hovering the info icon */\n",
       ".sk-estimator-doc-link span {\n",
       "  display: none;\n",
       "  z-index: 9999;\n",
       "  position: relative;\n",
       "  font-weight: normal;\n",
       "  right: .2ex;\n",
       "  padding: .5ex;\n",
       "  margin: .5ex;\n",
       "  width: min-content;\n",
       "  min-width: 20ex;\n",
       "  max-width: 50ex;\n",
       "  color: var(--sklearn-color-text);\n",
       "  box-shadow: 2pt 2pt 4pt #999;\n",
       "  /* unfitted */\n",
       "  background: var(--sklearn-color-unfitted-level-0);\n",
       "  border: .5pt solid var(--sklearn-color-unfitted-level-3);\n",
       "}\n",
       "\n",
       ".sk-estimator-doc-link.fitted span {\n",
       "  /* fitted */\n",
       "  background: var(--sklearn-color-fitted-level-0);\n",
       "  border: var(--sklearn-color-fitted-level-3);\n",
       "}\n",
       "\n",
       ".sk-estimator-doc-link:hover span {\n",
       "  display: block;\n",
       "}\n",
       "\n",
       "/* \"?\"-specific style due to the `<a>` HTML tag */\n",
       "\n",
       "#sk-container-id-1 a.estimator_doc_link {\n",
       "  float: right;\n",
       "  font-size: 1rem;\n",
       "  line-height: 1em;\n",
       "  font-family: monospace;\n",
       "  background-color: var(--sklearn-color-background);\n",
       "  border-radius: 1rem;\n",
       "  height: 1rem;\n",
       "  width: 1rem;\n",
       "  text-decoration: none;\n",
       "  /* unfitted */\n",
       "  color: var(--sklearn-color-unfitted-level-1);\n",
       "  border: var(--sklearn-color-unfitted-level-1) 1pt solid;\n",
       "}\n",
       "\n",
       "#sk-container-id-1 a.estimator_doc_link.fitted {\n",
       "  /* fitted */\n",
       "  border: var(--sklearn-color-fitted-level-1) 1pt solid;\n",
       "  color: var(--sklearn-color-fitted-level-1);\n",
       "}\n",
       "\n",
       "/* On hover */\n",
       "#sk-container-id-1 a.estimator_doc_link:hover {\n",
       "  /* unfitted */\n",
       "  background-color: var(--sklearn-color-unfitted-level-3);\n",
       "  color: var(--sklearn-color-background);\n",
       "  text-decoration: none;\n",
       "}\n",
       "\n",
       "#sk-container-id-1 a.estimator_doc_link.fitted:hover {\n",
       "  /* fitted */\n",
       "  background-color: var(--sklearn-color-fitted-level-3);\n",
       "}\n",
       "</style><div id=\"sk-container-id-1\" class=\"sk-top-container\"><div class=\"sk-text-repr-fallback\"><pre>DecisionTreeClassifier(max_depth=2)</pre><b>In a Jupyter environment, please rerun this cell to show the HTML representation or trust the notebook. <br />On GitHub, the HTML representation is unable to render, please try loading this page with nbviewer.org.</b></div><div class=\"sk-container\" hidden><div class=\"sk-item\"><div class=\"sk-estimator fitted sk-toggleable\"><input class=\"sk-toggleable__control sk-hidden--visually\" id=\"sk-estimator-id-1\" type=\"checkbox\" checked><label for=\"sk-estimator-id-1\" class=\"sk-toggleable__label fitted sk-toggleable__label-arrow\"><div><div>DecisionTreeClassifier</div></div><div><a class=\"sk-estimator-doc-link fitted\" rel=\"noreferrer\" target=\"_blank\" href=\"https://scikit-learn.org/1.6/modules/generated/sklearn.tree.DecisionTreeClassifier.html\">?<span>Documentation for DecisionTreeClassifier</span></a><span class=\"sk-estimator-doc-link fitted\">i<span>Fitted</span></span></div></label><div class=\"sk-toggleable__content fitted\"><pre>DecisionTreeClassifier(max_depth=2)</pre></div> </div></div></div></div>"
      ],
      "text/plain": [
       "DecisionTreeClassifier(max_depth=2)"
      ]
     },
     "execution_count": 15,
     "metadata": {},
     "output_type": "execute_result"
    }
   ],
   "source": [
    "# Fit the classifier using only the training data\n",
    "clf.fit(X_train, y_train)\n",
    "\n",
    "# !!!! Note: Always fit the model on the training data only — never include test data during training\n"
   ]
  },
  {
   "cell_type": "code",
   "execution_count": 16,
   "id": "96c23155",
   "metadata": {},
   "outputs": [],
   "source": [
    "# Predict labels for the test set using the trained classifier\n",
    "y_test_pred = clf.predict(X_test)\n"
   ]
  },
  {
   "cell_type": "code",
   "execution_count": 18,
   "id": "45e954c7",
   "metadata": {},
   "outputs": [
    {
     "name": "stdout",
     "output_type": "stream",
     "text": [
      "True labels:      [0. 0. 2. 1. 0. 1. 1. 2. 2. 0. 1. 2. 1. 1. 1. 0. 1. 0. 0. 1. 0. 0. 0. 2.\n",
      " 0. 1. 1. 1. 0. 1. 2. 1. 0. 0. 1. 1. 2. 1. 1. 0. 2. 2. 1. 1. 1. 0. 1. 1.\n",
      " 0. 0.]\n",
      "Predicted labels: [0. 0. 0. 1. 0. 1. 1. 0. 1. 0. 1. 1. 1. 1. 1. 0. 1. 0. 0. 1. 0. 0. 0. 1.\n",
      " 0. 1. 1. 1. 1. 1. 1. 1. 0. 0. 0. 1. 0. 0. 1. 0. 1. 0. 1. 1. 1. 0. 1. 1.\n",
      " 0. 0.]\n"
     ]
    }
   ],
   "source": [
    "# Display first 50 true vs. predicted labels for the test set\n",
    "print(\"True labels:     \", y_test[:50])\n",
    "print(\"Predicted labels:\", y_test_pred[:50])\n"
   ]
  },
  {
   "cell_type": "markdown",
   "id": "2af61cfe",
   "metadata": {},
   "source": [
    "Visualiza Decision Tree"
   ]
  },
  {
   "cell_type": "code",
   "execution_count": 19,
   "id": "a5985fb0",
   "metadata": {},
   "outputs": [
    {
     "data": {
      "image/png": "[encoded data removed]",
      "text/plain": [
       "<Figure size 640x480 with 1 Axes>"
      ]
     },
     "metadata": {},
     "output_type": "display_data"
    }
   ],
   "source": [
    "tree.plot_tree(clf)\n",
    "plt.show()"
   ]
  },
  {
   "cell_type": "markdown",
   "id": "8d704a11",
   "metadata": {},
   "source": [
    "### 4 Evaluate the results\n",
    "- Evaluation using accuracy score"
   ]
  },
  {
   "cell_type": "code",
   "execution_count": 20,
   "id": "2921f7a7",
   "metadata": {},
   "outputs": [
    {
     "name": "stdout",
     "output_type": "stream",
     "text": [
      "Accuracy = 0.68\n"
     ]
    }
   ],
   "source": [
    "# Compute accuracy\n",
    "acc = accuracy_score(y_test, y_test_pred)\n",
    "print(f\"Accuracy = {acc:.2f}\")"
   ]
  },
  {
   "cell_type": "markdown",
   "id": "6debd861",
   "metadata": {},
   "source": [
    "- **Accuracy** seems good, but if we look at the scores separately for each class..."
   ]
  },
  {
   "cell_type": "code",
   "execution_count": 21,
   "id": "b2daa17e",
   "metadata": {},
   "outputs": [
    {
     "name": "stdout",
     "output_type": "stream",
     "text": [
      "\n",
      "Class 0:\n",
      "number of items: 270\n",
      "p = 0.71\n",
      "r = 0.74\n",
      "f1 = 0.73\n",
      "\n",
      "Class 1:\n",
      "number of items: 239\n",
      "p = 0.65\n",
      "r = 0.90\n",
      "f1 = 0.75\n",
      "\n",
      "Class 2:\n",
      "number of items: 104\n",
      "p = 0.00\n",
      "r = 0.00\n",
      "f1 = 0.00\n",
      "\n",
      "F1, macro-average: 0.493006\n"
     ]
    },
    {
     "name": "stderr",
     "output_type": "stream",
     "text": [
      "/opt/homebrew/Caskroom/miniconda/base/envs/ML4Engineering/lib/python3.13/site-packages/sklearn/metrics/_classification.py:1565: UndefinedMetricWarning: Precision is ill-defined and being set to 0.0 in labels with no predicted samples. Use `zero_division` parameter to control this behavior.\n",
      "  _warn_prf(average, modifier, f\"{metric.capitalize()} is\", len(result))\n"
     ]
    }
   ],
   "source": [
    "# Precision, recall, f1, support: for each class\n",
    "p, r, f1, support = precision_recall_fscore_support(y_test, y_test_pred)\n",
    "\n",
    "for c in range(p.shape[0]):\n",
    "    print(f\"\\nClass {c}:\")\n",
    "    print(f\"number of items: {support[c]}\")\n",
    "    print(f\"p = {p[c]:.2f}\")\n",
    "    print(f\"r = {r[c]:.2f}\")\n",
    "    print(f\"f1 = {f1[c]:.2f}\")\n",
    "\n",
    "# Macro average f1\n",
    "macro_f1 = f1.mean()    \n",
    "    \n",
    "# This score is important when you have class imbalancing\n",
    "print(f\"\\nF1, macro-average: {macro_f1:2f}\")"
   ]
  },
  {
   "cell_type": "markdown",
   "id": "eac459a2",
   "metadata": {},
   "source": [
    "- Accuracy was good because of class imbalancing\n",
    "- The **minority class** (c2) has a very low recall\n",
    "- Indeed, the **macro-averaged** F1 is quite low.\n",
    "\n",
    "### Let's verify this with a confusion matrix:"
   ]
  },
  {
   "cell_type": "code",
   "execution_count": 22,
   "id": "3167ad87",
   "metadata": {},
   "outputs": [
    {
     "data": {
      "image/png": "[encoded data removed]",
      "text/plain": [
       "<Figure size 640x480 with 1 Axes>"
      ]
     },
     "metadata": {},
     "output_type": "display_data"
    }
   ],
   "source": [
    "# Build the confusion matrix\n",
    "conf_mat = confusion_matrix(y_test, y_test_pred)\n",
    "\n",
    "# Plot the result\n",
    "label_names = np.arange(p.shape[0])\n",
    "conf_mat_df = pd.DataFrame(conf_mat, index = label_names, columns = label_names)\n",
    "conf_mat_df.index.name = 'Actual'\n",
    "conf_mat_df.columns.name = 'Predicted'\n",
    "sns.heatmap(conf_mat_df, annot=True, cmap='GnBu', \n",
    "            annot_kws={\"size\": 16}, fmt='g', cbar=False)\n",
    "plt.show()"
   ]
  },
  {
   "cell_type": "markdown",
   "id": "b8988d1f",
   "metadata": {},
   "source": [
    "**💡 Try changing the hyperparameters (e.g., `max_depth`, `criterion`, `min_samples_split`) to see how they affect model performance.**\n"
   ]
  },
  {
   "cell_type": "markdown",
   "id": "2c8e52c1",
   "metadata": {},
   "source": [
    "# Exercises: Now it's your turn!"
   ]
  },
  {
   "cell_type": "markdown",
   "id": "e0dddc86",
   "metadata": {},
   "source": [
    "Firstly, run the next cell to import useful libraries to complete this lab."
   ]
  },
  {
   "cell_type": "code",
   "execution_count": null,
   "id": "40a889b9",
   "metadata": {},
   "outputs": [],
   "source": [
    "import pandas as pd\n",
    "import numpy as np\n",
    "from sklearn.datasets import load_iris\n",
    "from sklearn.svm import SVC\n",
    "from sklearn.inspection import DecisionBoundaryDisplay\n",
    "from sklearn import tree, neighbors\n",
    "from sklearn.model_selection import train_test_split\n",
    "from sklearn.metrics import confusion_matrix, classification_report, accuracy_score\n",
    "from sklearn.ensemble import RandomForestClassifier\n",
    "from sklearn.tree import DecisionTreeClassifier\n",
    "from sklearn.neighbors import KNeighborsClassifier\n",
    "from sklearn.metrics import f1_score\n",
    "\n",
    "import matplotlib.pyplot as plt\n",
    "import warnings\n",
    "warnings.filterwarnings(\"ignore\")"
   ]
  },
  {
   "cell_type": "markdown",
   "id": "e7443c26",
   "metadata": {},
   "source": [
    "## 1. Load dataset\n",
    "\n",
    "We will use the **Iris** dataset as our first classification problem. *Iris* is a genus of flowering plants that contains several species, including **Iris setosa**, **Iris versicolor**, and **Iris virginica**.\n",
    "\n",
    "The dataset consists of:\n",
    "- 150 samples\n",
    "- 3 labels: species of Iris (*Iris setosa*, *Iris versicolor*, and *Iris virginica*)\n",
    "- 4 features: *Sepal length*, *Sepal width*, *Petal length*, and *Petal width* in centimeters\n",
    "\n",
    "Your objective is to build a **multiclass classifier** that can predict the target class (i.e., the species of Iris) given the feature values (i.e., Sepal length, Sepal width, Petal length, and Petal width).\n",
    "\n",
    "You can find an **exploratory analysis of the dataset** <a href=\"https://www.geeksforgeeks.org/exploratory-data-analysis-on-iris-dataset/\" >here</a>.\n",
    "\n",
    "**Scikit-Learn** comes with built-in datasets for the **Iris** classification problem. The next cell loads the iris dataset from Scikit-Learn and stores it in a Pandas DataFrame."
   ]
  },
  {
   "cell_type": "code",
   "execution_count": null,
   "id": "011df167",
   "metadata": {},
   "outputs": [],
   "source": [
    "iris = load_iris() # Load Data\n",
    "\n",
    "df = pd.DataFrame(iris.data, columns = iris.feature_names) # Create a dataframe\n",
    "df['target'] = iris.target\n",
    "df['target name'] = df['target'].apply(lambda x: 'sentosa' if x == 0 else ('versicolor' if x == 1 else 'virginica'))"
   ]
  },
  {
   "cell_type": "code",
   "execution_count": null,
   "id": "42426d75",
   "metadata": {},
   "outputs": [],
   "source": [
    "df"
   ]
  },
  {
   "cell_type": "code",
   "execution_count": null,
   "id": "680ff367",
   "metadata": {},
   "outputs": [],
   "source": [
    "n_labels = len(set(df['target']))\n",
    "print(f'Number of labels: {n_labels}')\n",
    "print(f\"labels: {set(df['target name'])}\")"
   ]
  },
  {
   "cell_type": "code",
   "execution_count": null,
   "id": "15fbabbf",
   "metadata": {},
   "outputs": [],
   "source": [
    "labels = [\"sentosa\", \"versicolor\", \"virginica\"]\n",
    "label2id = {\"sentosa\":0, \"versicolor\":1, \"virginica\":2}"
   ]
  },
  {
   "cell_type": "markdown",
   "id": "f7e4e024",
   "metadata": {},
   "source": [
    "The following cell describes the dataset by computing the *mean*, *std*, *min*, *max*, and *quantiles* of each column."
   ]
  },
  {
   "cell_type": "code",
   "execution_count": null,
   "id": "70e37320",
   "metadata": {},
   "outputs": [],
   "source": [
    "df.describe()"
   ]
  },
  {
   "cell_type": "markdown",
   "id": "64aaae72",
   "metadata": {},
   "source": [
    "The following cell counts the number of *null* values in each column."
   ]
  },
  {
   "cell_type": "code",
   "execution_count": null,
   "id": "bfa811d4",
   "metadata": {},
   "outputs": [],
   "source": [
    "nan_count = df.isna().sum()\n",
    "print(nan_count )"
   ]
  },
  {
   "cell_type": "markdown",
   "id": "6042ee0d",
   "metadata": {},
   "source": [
    "As you can see, there are no *null* values (i.e., **missing values**) in the dataset."
   ]
  },
  {
   "cell_type": "markdown",
   "id": "94f9f79d",
   "metadata": {},
   "source": [
    "The next cell **counts the number of examples for each class label**."
   ]
  },
  {
   "cell_type": "code",
   "execution_count": null,
   "id": "d6bff013",
   "metadata": {},
   "outputs": [],
   "source": [
    "df.value_counts(\"target\")"
   ]
  },
  {
   "cell_type": "markdown",
   "id": "5ae2ddc7",
   "metadata": {},
   "source": [
    "As you can see, the labels are **equally represented** in the dataset. Therefore, it is a **balanced** dataset."
   ]
  },
  {
   "cell_type": "markdown",
   "id": "b47ab148",
   "metadata": {},
   "source": [
    "## 2. Classification with 2D input features\n",
    "\n",
    "Now, you will perform the classification task (i.e., predict the species of Iris) using the first **two input features** of the dataset (i.e., *sepal length* and *sepal width*).\n",
    "\n",
    "#### Exercise 2.1\n",
    "Select the **first two columns** of the dataset and store them in a variable `X_2d`."
   ]
  },
  {
   "cell_type": "code",
   "execution_count": null,
   "id": "2b602832",
   "metadata": {},
   "outputs": [],
   "source": [
    "y = df.target\n",
    "y_names = df[\"target name\"]\n",
    "\n",
    "#### START CODE HERE (~1 line) ####\n",
    "X_2d = None  \n",
    "#### END CODE HERE ####"
   ]
  },
  {
   "cell_type": "code",
   "execution_count": null,
   "id": "3f3687b7",
   "metadata": {},
   "outputs": [],
   "source": [
    "X_2d.head()"
   ]
  },
  {
   "cell_type": "markdown",
   "id": "e70f6aef",
   "metadata": {},
   "source": [
    "#### Expected output\n",
    "\n",
    "```      sepal length (cm)\tsepal width (cm)```<br>\n",
    "```0\t            5.1          \t    3.5```<br>\n",
    "```1\t            4.9\t                    3.0```<br>\n",
    "```2\t            4.7\t                    3.2```<br>\n",
    "```3\t            4.6\t                    3.1```<br>\n",
    "```4\t            5.0\t                    3.6```"
   ]
  },
  {
   "cell_type": "code",
   "execution_count": null,
   "id": "e0449f9f",
   "metadata": {},
   "outputs": [],
   "source": [
    "y"
   ]
  },
  {
   "cell_type": "code",
   "execution_count": null,
   "id": "4070bd55",
   "metadata": {},
   "outputs": [],
   "source": [
    "y_names"
   ]
  },
  {
   "cell_type": "markdown",
   "id": "abfc8e51",
   "metadata": {},
   "source": [
    "#### Exercise 2.2\n",
    "Split the dataset `X_2d` into **training** and **test** sets using the <a href=\"https://scikit-learn.org/stable/modules/generated/sklearn.model_selection.train_test_split.html\" >train_test_split</a> function provided by the Scikit-Learn library. Store the features of the training set in `X_train_2d`, the features of the test `X_test_2d`, the labels of the training set in `y_train`, and  the labels of the test set in `y_test`. Split the dataset with 80% of samples for training and 20% of samples for testing. **Shuffle** the data and set the **random state** to 42.\n"
   ]
  },
  {
   "cell_type": "code",
   "execution_count": null,
   "id": "63df49ed",
   "metadata": {},
   "outputs": [],
   "source": [
    "#### START CODE HERE (~1 line) ####\n",
    "\n",
    "X_train_2d, X_test_2d, y_train, y_test = None\n",
    "\n",
    "#### END CODE HERE ####"
   ]
  },
  {
   "cell_type": "code",
   "execution_count": null,
   "id": "6b185c37",
   "metadata": {},
   "outputs": [],
   "source": [
    "print(f\"{len(X_train_2d)} training examples\")\n",
    "print(f\"{len(X_test_2d)} test examples\")"
   ]
  },
  {
   "cell_type": "markdown",
   "id": "e7e53441",
   "metadata": {},
   "source": [
    "#### Expected output\n",
    "```120 training examples```<br>\n",
    "```30 test examples```<br>"
   ]
  },
  {
   "cell_type": "markdown",
   "id": "bc3d8126",
   "metadata": {},
   "source": [
    "The following cell **plots** the examples of the **training set** in the **plane**, with a different color based on the target label."
   ]
  },
  {
   "cell_type": "code",
   "execution_count": null,
   "id": "fb3d66a8",
   "metadata": {},
   "outputs": [],
   "source": [
    "plt.figure(2, figsize=(8, 6))\n",
    "plt.clf()\n",
    "\n",
    "for label_id, label in enumerate(labels):\n",
    "    X_temp = X_train_2d.loc[y_train == label_id]\n",
    "    plt.scatter(X_temp.iloc[:, 0], X_temp.iloc[:, 1], cmap=plt.cm.Set1, edgecolor=\"k\", label=label)\n",
    "\n",
    "plt.xlabel(\"Sepal length\")\n",
    "plt.ylabel(\"Sepal width\")\n",
    "\n",
    "plt.xticks()\n",
    "plt.yticks()\n",
    "plt.legend()"
   ]
  },
  {
   "cell_type": "markdown",
   "id": "0932429b",
   "metadata": {},
   "source": [
    "### Train a Support Vector Machine SVM classifier\n",
    "\n",
    "Here, you will train a **Support Vector Machine SVM** Classifier using the *Scikit-Learn* library. You can learn more about **Support Vector Machines** <a href=\"https://towardsdatascience.com/https-medium-com-pupalerushikesh-svm-f4b42800e989\" >here</a>. You can find the official Scikit-Learn documentation for **SVM** for classification\n",
    "<a href=\"https://scikit-learn.org/stable/modules/svm.html\" >here</a>. For this exercise, you can use the **SVC** implementation <a href=\"https://scikit-learn.org/stable/modules/generated/sklearn.svm.SVC.html#sklearn.svm.SVC\" >here</a>.\n",
    "\n",
    "#### Exercise 2.3\n",
    "Create an **SVC object** with the following parameters `gamma=0.1`, `kernel=\"rbf\"`,  `probability=True` in a variable `svm_model`.\n",
    "\n",
    "Feel free to change the parameters and see how it affects the results."
   ]
  },
  {
   "cell_type": "code",
   "execution_count": null,
   "id": "91eaa1d7",
   "metadata": {},
   "outputs": [],
   "source": [
    "#### START CODE HERE (~1 line) ####\n",
    "\n",
    "svm_model = None\n",
    "\n",
    "#### END CODE HERE ####"
   ]
  },
  {
   "cell_type": "markdown",
   "id": "2f1fd329",
   "metadata": {},
   "source": [
    "#### Exercise 2.4\n",
    "\n",
    "**Fit** (i.e., train) the `svm_model` with the training data. You should pass the input features and the targets of the training set. Please refer to the documentation for the parameters of the **fit()** method."
   ]
  },
  {
   "cell_type": "code",
   "execution_count": null,
   "id": "33a55d78",
   "metadata": {},
   "outputs": [],
   "source": [
    "#### START CODE HERE (~1 line) ####\n",
    "\n",
    "\n",
    "#### END CODE HERE ####"
   ]
  },
  {
   "cell_type": "markdown",
   "id": "ab8c83f4",
   "metadata": {},
   "source": [
    "#### Exercise 2.5\n",
    "\n",
    "**Predict** the labels for the **test dataset** and store them in a variable `y_test_pred_svm`. You should pass the input features of the test data. Please refer to the documentation for the parameters of the **predict()** method."
   ]
  },
  {
   "cell_type": "code",
   "execution_count": null,
   "id": "75fbb8ef",
   "metadata": {},
   "outputs": [],
   "source": [
    "#### START CODE HERE (~1 line) ####\n",
    "\n",
    "y_test_pred_svm = None\n",
    "\n",
    "#### END CODE HERE ####"
   ]
  },
  {
   "cell_type": "markdown",
   "id": "898e4f42",
   "metadata": {},
   "source": [
    "### Confusion Matrix\n",
    "\n",
    "#### Exercise 2.6\n",
    "\n",
    "Compute the **confusion matrix** for the predictions on the test set in a variable `cm`. You should pass the **real labels** (i.e., ground-truth labels) and the **predicted labels** by the classifier. Use the `confusion_matrix` function of the Scikit-Learn library. You can find the documentation <a href=\"https://scikit-learn.org/stable/modules/generated/sklearn.metrics.confusion_matrix.html\" >here</a>.\n",
    "\n",
    "You can learn how to interpret a **confusion matrix** <a href=\"https://www.dataschool.io/simple-guide-to-confusion-matrix-terminology/\" >here</a>. "
   ]
  },
  {
   "cell_type": "code",
   "execution_count": null,
   "id": "4bc05946",
   "metadata": {},
   "outputs": [],
   "source": [
    "#### START CODE HERE (~1 line) ####\n",
    "\n",
    "cm = None\n",
    "\n",
    "#### END CODE HERE ####\n",
    "print(cm)"
   ]
  },
  {
   "cell_type": "markdown",
   "id": "b042c150",
   "metadata": {},
   "source": [
    "The following cell **plots the confusion matrix**."
   ]
  },
  {
   "cell_type": "code",
   "execution_count": null,
   "id": "2ad681fc",
   "metadata": {},
   "outputs": [],
   "source": [
    "from sklearn.metrics import ConfusionMatrixDisplay\n",
    "\n",
    "cmd = ConfusionMatrixDisplay.from_predictions(y_test, y_test_pred_svm, cmap=plt.cm.Blues)\n",
    "ax = cmd.ax_\n",
    "ax.set_title('Confusion Matrix')\n",
    "ax.set_xticklabels(labels)\n",
    "ax.set_yticklabels(labels)\n",
    "plt.show()"
   ]
  },
  {
   "cell_type": "markdown",
   "id": "ff7b2642",
   "metadata": {},
   "source": [
    "### Accuracy and F1 Score\n",
    "\n",
    "#### Exercise 2.7\n",
    "\n",
    "Compute the **accuracy** and the **F1 score** for the predictions on the **test set**, and store the results in the variables `acc_svm` and `f1_svm`, respectively. To compute the **accuracy**, you can use the <a href=\"https://scikit-learn.org/stable/modules/generated/sklearn.metrics.accuracy_score.html\" >accuracy_score</a> function of the Scikit-Learn library. Instead, to compute the **F1 score**, you can use the <a href=\"https://scikit-learn.org/stable/modules/generated/sklearn.metrics.f1_score.html\" >f1_score</a> function of the Scikit-Learn library. For the **F1**, compute the `macro` score (you can specify it in the parameters)."
   ]
  },
  {
   "cell_type": "code",
   "execution_count": null,
   "id": "eb912c82",
   "metadata": {},
   "outputs": [],
   "source": [
    "#### START CODE HERE (~2 lines) ####\n",
    "\n",
    "acc_svm = None\n",
    "f1_svm = None\n",
    "\n",
    "#### END CODE HERE ####"
   ]
  },
  {
   "cell_type": "code",
   "execution_count": null,
   "id": "fcd68fe1",
   "metadata": {},
   "outputs": [],
   "source": [
    "print(f\"Accuracy: {acc_svm:.2}\")\n",
    "print(f\"F1: {f1_svm:.2}\")"
   ]
  },
  {
   "cell_type": "markdown",
   "id": "e4f5efad",
   "metadata": {},
   "source": [
    "Congratulations. You have trained a very good classifier! It predicts the correct class 9 times out of 10!"
   ]
  },
  {
   "cell_type": "markdown",
   "id": "30f1dfef",
   "metadata": {},
   "source": [
    "### Train a Decision Tree Classifier\n",
    "Here, you will train a **Decision Tree DT** Classifier using the *Scikit-Learn* library. You can learn more about **Decision Trees** <a href=\"https://towardsdatascience.com/decision-trees-explained-3ec41632ceb6\" >here</a>. You can find the official Scikit-Learn documentation for **Decision Tree**\n",
    "<a href=\"https://scikit-learn.org/stable/modules/tree.html\" >here</a>. For this exercise, you should use the **DT Classifier**  <a href=\"https://scikit-learn.org/stable/modules/generated/sklearn.tree.DecisionTreeClassifier.html#sklearn.tree.DecisionTreeClassifier\" >here</a>.\n",
    "\n",
    "#### Exercise 2.6\n",
    "- Create an `DecisionTreeClassifier` object with the following parameters `max_depth=4` in a variable `dt_model`.\n",
    "- Fit (i.e., train) the `dt_model` with the training data. You should pass the input features and the targets. Please refer to the documentation.\n",
    "- Predict the labels for the test dataset and store them in a variable `y_test_pred_dt`. You should pass the input features of the test data.\n",
    "\n",
    "Feel free to change the parameters and see how it affects the results.\n"
   ]
  },
  {
   "cell_type": "code",
   "execution_count": null,
   "id": "2ea02eef",
   "metadata": {},
   "outputs": [],
   "source": [
    "#### START CODE HERE (~3 lines) ####\n",
    "\n",
    "dt_model = None\n",
    "None\n",
    "y_test_pred_dt = None\n",
    "\n",
    "#### END CODE HERE ####"
   ]
  },
  {
   "cell_type": "markdown",
   "id": "b01548b7",
   "metadata": {},
   "source": [
    "### Train a K-Nearest-Neighbors Classifier\n",
    "\n",
    "Here, you will train a **K-Nearest-Neighbors** Classifier using the *Scikit-Learn* library. You can learn more about **K-Nearest-Neighbors** <a href=\"https://medium.com/swlh/k-nearest-neighbor-ca2593d7a3c4\" >here</a>. You can find the official Scikit-Learn documentation for **K-Nearest-Neighbors**\n",
    "<a href=\"https://scikit-learn.org/stable/modules/generated/sklearn.neighbors.KNeighborsClassifier.html\" >here</a>. For this exercise, you should use the **KNeighborsClassifier**  <a href=\"https://scikit-learn.org/stable/modules/generated/sklearn.neighbors.KNeighborsClassifier.html\" >here</a>.\n",
    "\n",
    "#### Exercise 2.7\n",
    "\n",
    "- Create an `KNeighborsClassifier` object with the following parameters `n_neighbors=7` in a variable `knn_model`.\n",
    "- Fit (i.e., train) the `knn_model` with the training data. You should pass the input features and the targets. Please refer to the documentation.\n",
    "- Predict the labels for the test dataset and store them in a variable `y_test_pred_knn`. You should pass the input features of the test data.\n",
    "\n",
    "Feel free to change the parameters and see how it affects the results."
   ]
  },
  {
   "cell_type": "code",
   "execution_count": null,
   "id": "dfbedcb0",
   "metadata": {},
   "outputs": [],
   "source": [
    "#### START CODE HERE (~3 lines) ####\n",
    "\n",
    "knn_model = None\n",
    "None\n",
    "y_test_pred_knn = None\n",
    "\n",
    "#### END CODE HERE ####"
   ]
  },
  {
   "cell_type": "markdown",
   "id": "0e5e1366",
   "metadata": {},
   "source": [
    "### Train a Random Forest Classifier\n",
    "\n",
    "Here, you will train a **Random Forest** Classifier using the *Scikit-Learn* library. You can learn more about **Random Forests** <a href=\"https://www.ibm.com/topics/random-forest\" >here</a>. You can find the official Scikit-Learn documentation for **Random Forest Classifiers**\n",
    "<a href=\"https://scikit-learn.org/stable/modules/generated/sklearn.ensemble.RandomForestClassifier.html#\" >here</a>. For this exercise, you should use the **Random Forest Classifier**  <a href=\"https://scikit-learn.org/stable/modules/generated/sklearn.ensemble.RandomForestClassifier.html#\" >here</a>.\n",
    "\n",
    "#### Exercise 2.8\n",
    "\n",
    "- Create an `RandomForestClassifier` object with the following parameters `max_depth=2` in a variable `rf_model`.\n",
    "- Fit (i.e., train) the `rf_model` with the training data. You should pass the input features and the targets. Please refer to the documentation.\n",
    "- Predict the labels for the test dataset and store them in a variable `y_test_pred_rf`. You should pass the input features of the test data.\n",
    "\n",
    "Feel free to change the parameters and see how it affects the results."
   ]
  },
  {
   "cell_type": "code",
   "execution_count": null,
   "id": "a2c1823f",
   "metadata": {},
   "outputs": [],
   "source": [
    "#### START CODE HERE (~3 lines) ####\n",
    "\n",
    "rf_model = None\n",
    "None\n",
    "y_test_pred_rf = None\n",
    "\n",
    "#### END CODE HERE ####"
   ]
  },
  {
   "cell_type": "markdown",
   "id": "257c0629",
   "metadata": {},
   "source": [
    "### Plot Decision Boundaries\n",
    "The next cell plots the **decision boundaries** for the SVM, the Decision Tree, the KNN, and the Random Forest. To run this cell, ensure that you correctly named the variables `svm_model`, `dt_model`, `knn_model`, and `rf_model`. You can learn more about **decision boundaries** <a href=\"https://medium.com/analytics-vidhya/decision-boundary-for-classifiers-an-introduction-cc67c6d3da0e\" >here</a>.\n",
    "\n"
   ]
  },
  {
   "cell_type": "code",
   "execution_count": null,
   "id": "aaa71a04",
   "metadata": {},
   "outputs": [],
   "source": [
    "# Plotting decision regions\n",
    "from itertools import product\n",
    "\n",
    "f, axarr = plt.subplots(2, 2, sharex=\"col\", sharey=\"row\", figsize=(10, 8))\n",
    "for idx, clf, tt in zip(product([0, 1], [0, 1]), \n",
    "                        [svm_model, dt_model, knn_model, rf_model],\n",
    "                        [\"SVM\", \"Decision Tree\", \"KNN\", \"Random Forest\"]):\n",
    "    DecisionBoundaryDisplay.from_estimator(\n",
    "        clf, X_train_2d, alpha=0.4, ax=axarr[idx[0], idx[1]], response_method=\"predict\"\n",
    "    )\n",
    "    axarr[idx[0], idx[1]].scatter(X_train_2d.iloc[:, 0], X_train_2d.iloc[:, 1], c=y_train, s=20, edgecolor=\"k\")\n",
    "    axarr[idx[0], idx[1]].set_title(tt)\n",
    "\n",
    "plt.show()"
   ]
  },
  {
   "cell_type": "markdown",
   "id": "2fc4a2d1",
   "metadata": {},
   "source": [
    "### Compare the Classifiers with Quantitative Evaluation Metrics\n",
    "\n",
    "So far, you have trained 4 different classifiers on the same training data. To assess which performs better, you will calculate **quantitative evaluation** metrics such as **F1**, **Precision**, and **Recall**. Metrics will be calculated either separately for each class or aggregated as a whole.\n",
    "\n",
    "You can learn more about such quantitative metrics <a href=\"https://medium.com/analytics-vidhya/confusion-matrix-accuracy-precision-recall-f1-score-ade299cf63cd\" >here</a> and <a href=\"https://towardsdatascience.com/accuracy-precision-recall-or-f1-331fb37c5cb9\" >here</a>.\n",
    "\n",
    "#### Exercise 2.9\n",
    "\n",
    "Compute the **quantitative metrics** for the **SVM** model in a variable `classification_report_svm`, for the **Decision Tree** in a variable `classification_report_dt`, for the **KNN** in a variable `classification_report_knn`, and for the **Random Forest** in a variable `classification_report_rf`. Use the <a href=\"https://scikit-learn.org/stable/modules/generated/sklearn.metrics.classification_report.html\" >classification_report</a> function of the Scikit-Learn library. It computes all the metrics for each class and overal at once. Remember that the names of your target labels are stored in the variable `labels`.\n",
    "\n",
    "\n"
   ]
  },
  {
   "cell_type": "code",
   "execution_count": null,
   "id": "a81ea217",
   "metadata": {},
   "outputs": [],
   "source": [
    "print(labels)"
   ]
  },
  {
   "cell_type": "code",
   "execution_count": null,
   "id": "437bde06",
   "metadata": {},
   "outputs": [],
   "source": [
    "#### START CODE HERE (~4 lines) ####\n",
    "\n",
    "classification_report_svm = None\n",
    "classification_report_dt = None\n",
    "classification_report_knn = None\n",
    "classification_report_rf = None\n",
    "\n",
    "#### END CODE HERE ####"
   ]
  },
  {
   "cell_type": "code",
   "execution_count": null,
   "id": "0ac06830",
   "metadata": {},
   "outputs": [],
   "source": [
    "print(\"SVM\")\n",
    "print(classification_report_svm)\n",
    "\n",
    "print(\"\\n\\nDecision Tree\")\n",
    "print(classification_report_dt)\n",
    "\n",
    "print(\"\\n\\nKNN\")\n",
    "print(classification_report_knn)\n",
    "\n",
    "print(\"\\n\\nRandom Forest\")\n",
    "print(classification_report_rf)"
   ]
  },
  {
   "cell_type": "markdown",
   "id": "cb1b0904",
   "metadata": {},
   "source": [
    "What do you think is the best classifier? Why?"
   ]
  },
  {
   "cell_type": "markdown",
   "id": "92b64aff",
   "metadata": {},
   "source": [
    "## 3. Classification with all features\n",
    "\n",
    "Now you will perform the same procedure but using **all the features** in the dataset. Remember that the original dataset contains 4 features but in the previous exercise you used only 2 features."
   ]
  },
  {
   "cell_type": "markdown",
   "id": "c5e81ac5",
   "metadata": {},
   "source": [
    "#### Exercise 3.1\n",
    "\n",
    "Select **all the feature columns** of the dataset and store them in a variable `X`. The features are stored in the first 4 columns of the DataFrame `df` (i.e., *sepal length (cm)*, *sepal width (cm)*, *petal length (cm)*, and *petal width (cm)*)."
   ]
  },
  {
   "cell_type": "code",
   "execution_count": null,
   "id": "e06587a4",
   "metadata": {},
   "outputs": [],
   "source": [
    "y = df.target\n",
    "y_names = df[\"target name\"]\n",
    "\n",
    "#### START CODE HERE (~1 line) ####\n",
    "X = None\n",
    "#### END CODE HERE ####"
   ]
  },
  {
   "cell_type": "code",
   "execution_count": null,
   "id": "68f1b0d4",
   "metadata": {},
   "outputs": [],
   "source": [
    "X.head()"
   ]
  },
  {
   "cell_type": "markdown",
   "id": "2bff958b",
   "metadata": {},
   "source": [
    "#### Expected output\n",
    "\n",
    "```    sepal length (cm)\tsepal width (cm)\tpetal length (cm)\tpetal width (cm)```<br>\n",
    "```0\t          5.1\t            3.5\t                     1.4\t            0.2```<br>\n",
    "```1\t          4.9\t            3.0\t                     1.4\t            0.2```<br>\n",
    "```2\t          4.7\t            3.2\t                     1.3\t            0.2```<br>\n",
    "```3\t          4.6\t            3.1\t                     1.5\t            0.2```<br>\n",
    "```4\t          5.0\t            3.6\t                     1.4\t            0.2```"
   ]
  },
  {
   "cell_type": "markdown",
   "id": "79d05524",
   "metadata": {},
   "source": [
    "This time the input array have 4 features. Therefore you can't visualize it in the plane.\n",
    "\n",
    "The following cell **splits the dataset into train and test**."
   ]
  },
  {
   "cell_type": "code",
   "execution_count": null,
   "id": "cbe4504e",
   "metadata": {},
   "outputs": [],
   "source": [
    "X_train, X_test, y_train, y_test = train_test_split(X, y, test_size=0.2, shuffle=True)"
   ]
  },
  {
   "cell_type": "code",
   "execution_count": null,
   "id": "315bbf09",
   "metadata": {},
   "outputs": [],
   "source": [
    "print(f\"Number of training examples {len(X_train)}\")\n",
    "print(f\"Number of test examples {len(X_test)}\")"
   ]
  },
  {
   "cell_type": "markdown",
   "id": "2adf020c",
   "metadata": {},
   "source": [
    "#### Exercise 3.2\n",
    "\n",
    "Now **train different classifiers using all input features** `X`. You can also use other classifiers in the *Scikit-Learn* library and different hyperparameters. Can you outperform the best model obtained using only 2 input features?\n",
    "\n",
    "You can find the list of all implemented classification models <a href=\"https://scikit-learn.org/stable/supervised_learning.html\" >here</a>. \n",
    "\n",
    "Remember that the steps are always the same:\n",
    "1. **Instantiate the model object** you want to use.\n",
    "2. **Train the model** on the training data using the **fit()** method.\n",
    "3. **Predict labels for test data** using the **predict()** method.\n",
    "4. Repeat training and testing **for different models** (and also different hyperparameters of the models).\n",
    "5. Compute **quantitative evaluation metrics** to identify the best model."
   ]
  },
  {
   "cell_type": "code",
   "execution_count": null,
   "id": "c0648f2f",
   "metadata": {},
   "outputs": [],
   "source": []
  }
 ],
 "metadata": {
  "kernelspec": {
   "display_name": "ML4Engineering",
   "language": "python",
   "name": "python3"
  },
  "language_info": {
   "codemirror_mode": {
    "name": "ipython",
    "version": 3
   },
   "file_extension": ".py",
   "mimetype": "text/x-python",
   "name": "python",
   "nbconvert_exporter": "python",
   "pygments_lexer": "ipython3",
   "version": "3.13.2"
  }
 },
 "nbformat": 4,
 "nbformat_minor": 5
}
