{
 "cells": [
  {
   "cell_type": "markdown",
   "id": "5bc4ba9a",
   "metadata": {},
   "source": [
    "# Lab 1: Python Basics"
   ]
  },
  {
   "cell_type": "markdown",
   "id": "2c3d7366",
   "metadata": {},
   "source": [
    "The objective of this notebook is to learn how to use Jupyter Notebook and to start writing simple Python code. You can find a Python guide at this <a href=\"https://www.w3schools.com/python/default.asp\" >link</a>"
   ]
  },
  {
   "cell_type": "markdown",
   "id": "ffdb8e50",
   "metadata": {},
   "source": [
    "## Outline\n",
    "\n",
    "- [1. Variables and Basic Data Types](#1)\n",
    "- [2. Basic Math operands](#2)\n",
    "- [3. String manipulation](#3)\n",
    "- [4. List manipulation](#4)\n",
    "- [5. Functions](#5)\n",
    "- [6. Tuples](#6)\n",
    "- [7. Sets](#7)\n",
    "- [8. Dictionaries](#8)\n",
    "- [9. Conditions and If statements](#9)\n",
    "- [10. For Loops](#10)"
   ]
  },
  {
   "cell_type": "markdown",
   "id": "bf9dfbf1",
   "metadata": {},
   "source": [
    "<a id='1'></a>\n",
    "## 1. Variables and Basic Data Types"
   ]
  },
  {
   "cell_type": "markdown",
   "id": "2580f808",
   "metadata": {},
   "source": [
    "### Exercise 1.1\n",
    "Print as output the following text: `\"Hello World\"`."
   ]
  },
  {
   "cell_type": "code",
   "execution_count": 2,
   "id": "7a97299a",
   "metadata": {},
   "outputs": [
    {
     "name": "stdout",
     "output_type": "stream",
     "text": [
      "Hello, World!\n"
     ]
    }
   ],
   "source": [
    "#### START CODE HERE ####\n",
    "#### Ideally 1 line ####\n",
    "print(\"Hello, World!\")\n",
    "#### END CODE HERE ####"
   ]
  },
  {
   "cell_type": "markdown",
   "id": "31ce6e74",
   "metadata": {},
   "source": [
    "#### Expected output\n",
    "```Hello World```"
   ]
  },
  {
   "cell_type": "markdown",
   "id": "80672e08",
   "metadata": {},
   "source": [
    "Now print as output the number 100."
   ]
  },
  {
   "cell_type": "code",
   "execution_count": 3,
   "id": "6c1f1a94",
   "metadata": {},
   "outputs": [
    {
     "name": "stdout",
     "output_type": "stream",
     "text": [
      "100\n"
     ]
    }
   ],
   "source": [
    "#### START CODE HERE ####\n",
    "#### Ideally 1 line ####\n",
    "print(100)\n",
    "#### END CODE HERE ####"
   ]
  },
  {
   "cell_type": "markdown",
   "id": "9abcba53",
   "metadata": {},
   "source": [
    "#### Expected output\n",
    "```100```"
   ]
  },
  {
   "cell_type": "markdown",
   "id": "2e0f43bf",
   "metadata": {},
   "source": [
    "### Exercise 1.2\n",
    "Define a variable `x` with the value 100, then print the value of `x`. \n",
    "Remember that variable names should:\n",
    "<ul>\n",
    "    <li>start with a letter or an underscore</li>\n",
    "    <li>only contain letters, numbers, and some special characters (e.g., underscores )</li>\n",
    "</ul>"
   ]
  },
  {
   "cell_type": "code",
   "execution_count": 1,
   "id": "dde55f7e",
   "metadata": {},
   "outputs": [
    {
     "name": "stdout",
     "output_type": "stream",
     "text": [
      "100\n"
     ]
    }
   ],
   "source": [
    "#### START CODE HERE ####\n",
    "#### Ideally 2 line ####\n",
    "x = 100\n",
    "print(x)\n",
    "#### END CODE HERE ####"
   ]
  },
  {
   "cell_type": "markdown",
   "id": "591e5d35",
   "metadata": {},
   "source": [
    "#### Expected output\n",
    "```100```"
   ]
  },
  {
   "cell_type": "markdown",
   "id": "042d75d1",
   "metadata": {},
   "source": [
    "### Exercise 1.3\n",
    "Now, print the **type** of the variable `x`.\n",
    "<details>    \n",
    "<summary>\n",
    "    <font size=\"3\" color=\"darkgreen\"><b>Hints</b></font>\n",
    "</summary>\n",
    "<p>\n",
    "<ul>\n",
    "    <li>You should find helpful the <strong>type</strong> function. <a href=\"https://www.geeksforgeeks.org/python-type-function/\" > link </a> </li>\n",
    "</ul>\n",
    "</p>\n"
   ]
  },
  {
   "cell_type": "code",
   "execution_count": 2,
   "id": "bf9f43d4",
   "metadata": {},
   "outputs": [
    {
     "name": "stdout",
     "output_type": "stream",
     "text": [
      "<class 'int'>\n"
     ]
    }
   ],
   "source": [
    "#### START CODE HERE ####\n",
    "#### Ideally 1 line ####\n",
    "print(type(x))\n",
    "#### END CODE HERE ####"
   ]
  },
  {
   "cell_type": "markdown",
   "id": "6e933794",
   "metadata": {},
   "source": [
    "#### Expected output\n",
    "```<class 'int'>```"
   ]
  },
  {
   "cell_type": "markdown",
   "id": "99ec5183",
   "metadata": {},
   "source": [
    "### Exercise 1.4\n",
    "Define a variable `s` containing the string `\"hello world\"`, and print the **value** of `s` and its **type**.\n",
    "<details>    \n",
    "<summary>\n",
    "    <font size=\"3\" color=\"darkgreen\"><b>Hints</b></font>\n",
    "</summary>\n",
    "<p>\n",
    "<ul>\n",
    "    <li>You should find helpful the <strong>type</strong> function. <a href=\"https://www.geeksforgeeks.org/python-type-function/\" > link </a> </li>\n",
    "</ul>\n",
    "</p>\n"
   ]
  },
  {
   "cell_type": "code",
   "execution_count": 4,
   "id": "79415c85",
   "metadata": {},
   "outputs": [
    {
     "name": "stdout",
     "output_type": "stream",
     "text": [
      "hello world\n",
      "<class 'str'>\n"
     ]
    }
   ],
   "source": [
    "#### START CODE HERE ####\n",
    "#### Ideally 3 line ####\n",
    "s = \"hello world\"\n",
    "print(s)\n",
    "print(type(s))\n",
    "#### END CODE HERE ####"
   ]
  },
  {
   "cell_type": "markdown",
   "id": "ca1c8bd4",
   "metadata": {},
   "source": [
    "#### Expected output\n",
    "```hello world``` <br>\n",
    "```<class 'str'>```"
   ]
  },
  {
   "cell_type": "markdown",
   "id": "ff6f77fd",
   "metadata": {},
   "source": [
    "### Exercise 1.5\n",
    "Define a variable `pi` containing the number 3.14, then:\n",
    "<ul>\n",
    "    <li>Print the <strong>value</strong> and the <strong>type</strong> of $pi$ </li>\n",
    "    <li>Cast the type of $pi$ into <strong>int</strong></li>\n",
    "    <li>Print the <strong>value</strong> and the <strong>type</strong> of $pi$ again</li>\n",
    "</ul>"
   ]
  },
  {
   "cell_type": "code",
   "execution_count": 1,
   "id": "10345b75",
   "metadata": {},
   "outputs": [
    {
     "name": "stdout",
     "output_type": "stream",
     "text": [
      "3.14\n",
      "<class 'float'>\n",
      "3\n",
      "<class 'int'>\n"
     ]
    }
   ],
   "source": [
    "#### START CODE HERE ####\n",
    "#### Ideally 6 line ####\n",
    "pi = 3.14\n",
    "print(pi)\n",
    "print(type(pi))\n",
    "num = int(pi)\n",
    "print(num)\n",
    "print(type(num))\n",
    "#### END CODE HERE ####"
   ]
  },
  {
   "cell_type": "markdown",
   "id": "cc32a1a2",
   "metadata": {},
   "source": [
    "#### Expected output\n",
    "```3.14``` <br>\n",
    "```<class 'float'>``` <br>\n",
    "```3``` <br>\n",
    "```<class 'int'>``` "
   ]
  },
  {
   "cell_type": "markdown",
   "id": "2bb069e3",
   "metadata": {},
   "source": [
    "Notice that the **int() cast** function converts the float number 3.14 into 3 when casting the variable to int."
   ]
  },
  {
   "cell_type": "markdown",
   "id": "46ff53e8",
   "metadata": {},
   "source": [
    "### Exercise 1.6\n",
    "Define a variable `x` containing the number 10, then:\n",
    "<ul>\n",
    "    <li>Create a new variable $y$ and assign to it the value of $x$ </li>\n",
    "    <li>Print the values of $x$ and $y$</li>\n",
    "    <li>Assign to $x$ the value 100 </li>\n",
    "    <li>Print the values of $x$ and $y$</li>\n",
    "</ul>"
   ]
  },
  {
   "cell_type": "code",
   "execution_count": 2,
   "id": "6317898b",
   "metadata": {},
   "outputs": [
    {
     "name": "stdout",
     "output_type": "stream",
     "text": [
      "10\n",
      "10\n",
      "100\n",
      "10\n"
     ]
    }
   ],
   "source": [
    "#### START CODE HERE ####\n",
    "#### Ideally 7 line ####\n",
    "x = 10\n",
    "y = x\n",
    "print(x)\n",
    "print(y)\n",
    "x = 100\n",
    "print(x)\n",
    "print(y)\n",
    "#### END CODE HERE ####"
   ]
  },
  {
   "cell_type": "markdown",
   "id": "04b61710",
   "metadata": {},
   "source": [
    "Notice that when it assigns the value of $x$ to $y$. But they are **two distinct variables** that point to different memory spaces. Therefore, when we change the value of $x$, the value of $y$ is not affected."
   ]
  },
  {
   "cell_type": "markdown",
   "id": "9e6c74f6",
   "metadata": {},
   "source": [
    "<a id='2'></a>\n",
    "## 2. Basic Math operands"
   ]
  },
  {
   "cell_type": "markdown",
   "id": "d9ee82ce",
   "metadata": {},
   "source": [
    "### Exercise 2.1\n",
    "Define a variable `x` containing the number 10, then:\n",
    "<ul>\n",
    "    <li>Print the <strong>value</strong> of $x$ </li>\n",
    "    <li><strong>Increment</strong> the value of $x$ by 100</li>\n",
    "    <li>Print the new <strong>value</strong> of $x$ </li>\n",
    "    <li><strong>Decrement</strong> the value of $x$ by 1</li>\n",
    "    <li>Print the new <strong>value</strong> of $x$ </li>\n",
    "</ul>\n",
    "<details>    \n",
    "<summary>\n",
    "    <font size=\"3\" color=\"darkgreen\"><b>Hints</b></font>\n",
    "</summary>\n",
    "<p>\n",
    "<ul>\n",
    "    <li>Python defines also a special operand for the <strong>increment</strong> and <strong>decrement</strong> operations: += and -=</li>\n",
    "</ul>\n",
    "</p>\n"
   ]
  },
  {
   "cell_type": "code",
   "execution_count": 3,
   "id": "29f9c1be",
   "metadata": {},
   "outputs": [
    {
     "name": "stdout",
     "output_type": "stream",
     "text": [
      "10\n",
      "110\n",
      "109\n"
     ]
    }
   ],
   "source": [
    "#### START CODE HERE ####\n",
    "#### Ideally 6 line ####\n",
    "x = 10\n",
    "print(x)\n",
    "x += 100\n",
    "print(x)\n",
    "x -= 1\n",
    "print(x)\n",
    "#### END CODE HERE ####"
   ]
  },
  {
   "cell_type": "markdown",
   "id": "cf067991",
   "metadata": {},
   "source": [
    "#### Expected output\n",
    "```10``` <br>\n",
    "```110``` <br>\n",
    "```109``` "
   ]
  },
  {
   "cell_type": "markdown",
   "id": "b7baabdb",
   "metadata": {},
   "source": [
    "### Exercise 2.2\n",
    "Define a variable `x` containing the number 10 and a variable `y` containing the number 200, then:\n",
    "<ul>\n",
    "    <li>Create a new variable $z$ containing the value of $x + y$ </li>\n",
    "    <li>Print the <strong>value</strong> and the <strong>type</strong> of $z$</li>\n",
    "</ul>"
   ]
  },
  {
   "cell_type": "code",
   "execution_count": 4,
   "id": "1bf90172",
   "metadata": {},
   "outputs": [
    {
     "name": "stdout",
     "output_type": "stream",
     "text": [
      "210\n",
      "<class 'int'>\n"
     ]
    }
   ],
   "source": [
    "#### START CODE HERE ####\n",
    "#### Ideally 5 line ####\n",
    "x = 10\n",
    "y = 200\n",
    "z = x + y\n",
    "print(z)\n",
    "print(type(z))\n",
    "#### END CODE HERE ####"
   ]
  },
  {
   "cell_type": "markdown",
   "id": "fa4150a9",
   "metadata": {},
   "source": [
    "#### Expected output\n",
    "```210``` <br>\n",
    "```<class 'int'>```"
   ]
  },
  {
   "cell_type": "markdown",
   "id": "5e040236",
   "metadata": {},
   "source": [
    "### Exercise 2.3\n",
    "Define a variable `x` containing the number 10 and a variable `y` containing the number 200, then:\n",
    "<ul>\n",
    "    <li>Create a new variable $z$ containing the <strong>average</strong> of $x$ and $y$ </li>\n",
    "    <li>Print the <strong>value</strong> and the <strong>type</strong> of $z$</li>\n",
    "</ul>\n",
    "<details>    \n",
    "<summary>\n",
    "    <font size=\"3\" color=\"darkgreen\"><b>Hints</b></font>\n",
    "</summary>\n",
    "<p>\n",
    "<ul>\n",
    "    <li>The <strong>division operand</strong> in python is $/$ </li>\n",
    "</ul>\n",
    "</p>"
   ]
  },
  {
   "cell_type": "code",
   "execution_count": 6,
   "id": "276c0217",
   "metadata": {},
   "outputs": [
    {
     "name": "stdout",
     "output_type": "stream",
     "text": [
      "105.0\n",
      "<class 'float'>\n"
     ]
    }
   ],
   "source": [
    "#### START CODE HERE ####\n",
    "#### Ideally 5 line ####\n",
    "x = 10\n",
    "y = 200\n",
    "z = (x + y) / 2\n",
    "print(z)\n",
    "print(type(z))\n",
    "\n",
    "#### END CODE HERE ####"
   ]
  },
  {
   "cell_type": "markdown",
   "id": "86cb9b5e",
   "metadata": {},
   "source": [
    "#### Expected output\n",
    "```105``` <br>\n",
    "```<class 'float'>```"
   ]
  },
  {
   "cell_type": "markdown",
   "id": "16ddf85c",
   "metadata": {},
   "source": [
    "Notice that the <strong>type</strong> of the variable `z` is changed to <strong>float</strong>."
   ]
  },
  {
   "cell_type": "markdown",
   "id": "0b42afb4",
   "metadata": {},
   "source": [
    "<a id='3'></a>\n",
    "## 3. String manipulation"
   ]
  },
  {
   "cell_type": "code",
   "execution_count": 7,
   "id": "455efd6f",
   "metadata": {},
   "outputs": [
    {
     "name": "stdout",
     "output_type": "stream",
     "text": [
      "This is a simple string\n",
      "This is another string, but using quote instead of double quote\n"
     ]
    }
   ],
   "source": [
    "s1 = \"This is a simple string\"\n",
    "print(s1)\n",
    "s2 = 'This is another string, but using quote instead of double quote'\n",
    "print(s2)"
   ]
  },
  {
   "cell_type": "code",
   "execution_count": 8,
   "id": "00ad455d",
   "metadata": {},
   "outputs": [
    {
     "name": "stdout",
     "output_type": "stream",
     "text": [
      "This is a \n",
      "multiline\n",
      "string\n"
     ]
    }
   ],
   "source": [
    "s = \"\"\"This is a \n",
    "multiline\n",
    "string\"\"\"\n",
    "\n",
    "print(s)"
   ]
  },
  {
   "cell_type": "code",
   "execution_count": 10,
   "id": "ed6fa8a1",
   "metadata": {},
   "outputs": [
    {
     "name": "stdout",
     "output_type": "stream",
     "text": [
      "5 <class 'int'>\n",
      "5 <class 'str'>\n",
      "6\n",
      "6\n"
     ]
    }
   ],
   "source": [
    "i=5\n",
    "s=\"5\"\n",
    "print(i, type(i))\n",
    "print(s, type(s))\n",
    "print(i + 1)\n",
    "num = int(s)\n",
    "print(num + 1)"
   ]
  },
  {
   "cell_type": "markdown",
   "id": "3b2588b4",
   "metadata": {},
   "source": [
    "`5` is the number 5 (int). In contrast, `\"5\"` is the character 5 (string). If you want to use `\"5\"` for math operations, you must convert `\"5\"` to int or float."
   ]
  },
  {
   "cell_type": "code",
   "execution_count": 11,
   "id": "d9371ccd",
   "metadata": {},
   "outputs": [
    {
     "name": "stdout",
     "output_type": "stream",
     "text": [
      "5 <class 'int'>\n",
      "5 <class 'str'>\n",
      "6\n",
      "6\n"
     ]
    }
   ],
   "source": [
    "i=5\n",
    "s=\"5\"\n",
    "print(i, type(i))\n",
    "print(s, type(s))\n",
    "print(i + 1)\n",
    "print(int(s) + 1) # cast the character \"5\" to int"
   ]
  },
  {
   "cell_type": "markdown",
   "id": "99fa1b56",
   "metadata": {},
   "source": [
    "### Exercise 3.1\n",
    "Define a variable `s1` containing the string `\"this is a string\"` and a variable `s2` containing `\", this is another string\"`. Then, create a third variable `s3` by **concatenating** `s1` and `s2`. Print the value of `s3`.\n",
    "<details>    \n",
    "<summary>\n",
    "    <font size=\"3\" color=\"darkgreen\"><b>Hints</b></font>\n",
    "</summary>\n",
    "<p>\n",
    "<ul>\n",
    "    <li>Strings <strong>concatenation</strong> can be done with the $+$ operator (<a href=\"https://www.w3schools.com/python/gloss_python_string_concatenation.asp\" >link</a>). </li>\n",
    "</ul>\n",
    "</p>"
   ]
  },
  {
   "cell_type": "code",
   "execution_count": 12,
   "id": "d525eca2",
   "metadata": {},
   "outputs": [
    {
     "name": "stdout",
     "output_type": "stream",
     "text": [
      "this is a string, this is another string\n"
     ]
    }
   ],
   "source": [
    "#### START CODE HERE ####\n",
    "#### Ideally 4 line ####\n",
    "s1 = \"this is a string\"\n",
    "s2 = \", this is another string\"\n",
    "s3 = s1 + s2\n",
    "print(s3)\n",
    "#### END CODE HERE ####"
   ]
  },
  {
   "cell_type": "markdown",
   "id": "93b606f8",
   "metadata": {},
   "source": [
    "#### Expected output\n",
    "```this is a string, this is another string``` "
   ]
  },
  {
   "cell_type": "markdown",
   "id": "bc13cfde",
   "metadata": {},
   "source": [
    "### Exercise 3.2\n",
    "Replace each occurrence of the substring `\"four\"` with the other substring `\"three\"` from the variable `s`, and assign the resulting string to the same variable. Then, print the new value of `s`.\n",
    "\n",
    "<details>    \n",
    "<summary>\n",
    "    <font size=\"3\" color=\"darkgreen\"><b>Hints</b></font>\n",
    "</summary>\n",
    "<p>\n",
    "<ul>\n",
    "    <li>You can find useful the string <strong>replace()</strong> method (<a href=\"https://www.w3schools.com/python/ref_string_replace.asp\" >link</a>). </li>\n",
    "</ul>\n",
    "</p>"
   ]
  },
  {
   "cell_type": "code",
   "execution_count": 13,
   "id": "5896025c",
   "metadata": {},
   "outputs": [
    {
     "name": "stdout",
     "output_type": "stream",
     "text": [
      "I bought four apples, two bananas, and four oranges\n",
      "I threeought four apples, two threeananas, and four oranges\n"
     ]
    }
   ],
   "source": [
    "s = \"I bought four apples, two bananas, and four oranges\"\n",
    "print(s)\n",
    "#### START CODE HERE ####\n",
    "#### Ideally 2 line ####\n",
    "s1 = s.replace(s[2], \"three\")\n",
    "print(s1)\n",
    "#### END CODE HERE ####"
   ]
  },
  {
   "cell_type": "markdown",
   "id": "8ae2fe69",
   "metadata": {},
   "source": [
    "#### Expected output\n",
    "```I bought four apples, two bananas, and four oranges``` <br>\n",
    "```I bought three apples, two bananas, and three orange```"
   ]
  },
  {
   "cell_type": "markdown",
   "id": "c7ee50dc",
   "metadata": {},
   "source": [
    "<a id='4'></a>\n",
    "## 4. List manipulation\n",
    "**Lists** are sequences of any type of value. They are defined by **square brackets**, and the elements are separated by **commas**. The elements in a list are **ordered**."
   ]
  },
  {
   "cell_type": "markdown",
   "id": "8c4cf5ab",
   "metadata": {},
   "source": [
    "### Exercise 4.1\n",
    "Create a **list** named `my_list` containing the following elements: 1, 3, 5 (as integer). Then, print tha values of the list.\n"
   ]
  },
  {
   "cell_type": "code",
   "execution_count": 14,
   "id": "9ad4e1e5",
   "metadata": {},
   "outputs": [
    {
     "name": "stdout",
     "output_type": "stream",
     "text": [
      "[1, 3, 5]\n"
     ]
    }
   ],
   "source": [
    "#### START CODE HERE ####\n",
    "#### Ideally 2 line ####\n",
    "my_list = [1, 3, 5]\n",
    "print(my_list)\n",
    "#### END CODE HERE ####"
   ]
  },
  {
   "cell_type": "markdown",
   "id": "4ee54757",
   "metadata": {},
   "source": [
    "#### Expected output\n",
    "```[1, 2, 3]``` "
   ]
  },
  {
   "cell_type": "markdown",
   "id": "37d6b3f8",
   "metadata": {},
   "source": [
    "### Exercise 4.2\n",
    "Change the first element of `my_list` with the value 10. Then, print the new values of the list.\n",
    "<details>    \n",
    "<summary>\n",
    "    <font size=\"3\" color=\"darkgreen\"><b>Hints</b></font>\n",
    "</summary>\n",
    "<p>\n",
    "<ul>\n",
    "    <li>In python string are 0 initialized. This means that the first element of the list is in position 0.</li>\n",
    "    <li>You can find more about access list items <a href=\"https://www.w3schools.com/python/python_lists_access.asp\" >here</a></li>\n",
    "</ul>\n",
    "</p>"
   ]
  },
  {
   "cell_type": "code",
   "execution_count": 15,
   "id": "4339fe64",
   "metadata": {},
   "outputs": [
    {
     "name": "stdout",
     "output_type": "stream",
     "text": [
      "[1, 2, 3]\n",
      "[10, 2, 3]\n"
     ]
    }
   ],
   "source": [
    "my_list = [1, 2, 3]\n",
    "print(my_list)\n",
    "\n",
    "#### START CODE HERE ####\n",
    "#### Ideally 1 line ####\n",
    "my_list[0] = 10\n",
    "#### END CODE HERE ####\n",
    "print(my_list)"
   ]
  },
  {
   "cell_type": "markdown",
   "id": "2c8e3787",
   "metadata": {},
   "source": [
    "#### Expected output\n",
    "```[1, 2, 3]``` <br>\n",
    "```[10, 2, 3]``` "
   ]
  },
  {
   "cell_type": "markdown",
   "id": "f09b4d2e",
   "metadata": {},
   "source": [
    "### Exercise 4.3\n",
    "Print the **first 10 elements** of the following list. Then, print the **last two elements**. Finally, print the elements from **5 to 10** (both included).\n",
    "<details>    \n",
    "<summary>\n",
    "    <font size=\"3\" color=\"darkgreen\"><b>Hints</b></font>\n",
    "</summary>\n",
    "<p>\n",
    "<ul>\n",
    "    <li>You can find more about <strong>slicing</strong> <a href=\"https://www.w3schools.com/python/python_lists_access.asp\" >here</a></li>\n",
    "</ul>\n",
    "</p>"
   ]
  },
  {
   "cell_type": "code",
   "execution_count": 21,
   "id": "891353c9",
   "metadata": {},
   "outputs": [
    {
     "name": "stdout",
     "output_type": "stream",
     "text": [
      "[1, 2, 3, 4, 5, 6, 7, 8, 9, 10]\n",
      "[14, 15]\n",
      "[5, 6, 7, 8, 9, 10]\n"
     ]
    }
   ],
   "source": [
    "my_list = [1, 2, 3, 4, 5, 6, 7, 8, 9 , 10, 11, 12, 13, 14, 15]\n",
    "\n",
    "#### START CODE HERE ####\n",
    "#### Ideally 3 line ####\n",
    "print(my_list[:10])\n",
    "print(my_list[13:15])\n",
    "print(my_list[4:10])\n",
    "#### END CODE HERE ####"
   ]
  },
  {
   "cell_type": "markdown",
   "id": "2ba944ac",
   "metadata": {},
   "source": [
    "#### Expected output\n",
    "```[1, 2, 3, 4, 5, 6, 7, 8, 9, 10]``` <br>\n",
    "```[14, 15]``` <br>\n",
    "```[5, 6, 7, 8, 9, 10]``` "
   ]
  },
  {
   "cell_type": "markdown",
   "id": "36e684a9",
   "metadata": {},
   "source": [
    "### Exercise 4.4\n",
    "**Concatenate** the two lists `l1` and `l2` into a new variable `my_list`. Then, print the **length** of the new list (i.e., the number of elements).\n",
    "<details>    \n",
    "<summary>\n",
    "    <font size=\"3\" color=\"darkgreen\"><b>Hints</b></font>\n",
    "</summary>\n",
    "<p>\n",
    "<ul>\n",
    "    <li>The operator for <strong>list concatenation</strong> is +.</li>\n",
    "    <li>To compute the <strong>length</strong> of a list use the len() function.</li>\n",
    "</ul>\n",
    "</p>"
   ]
  },
  {
   "cell_type": "code",
   "execution_count": 22,
   "id": "13aa4e7b",
   "metadata": {},
   "outputs": [
    {
     "name": "stdout",
     "output_type": "stream",
     "text": [
      "['one', 'two', 1, 2]\n",
      "4\n"
     ]
    }
   ],
   "source": [
    "l1 = [\"one\", \"two\"]\n",
    "l2 = [1, 2]\n",
    "\n",
    "#### START CODE HERE ####\n",
    "#### Ideally 1 line ####\n",
    "my_list = l1 + l2\n",
    "#### END CODE HERE ####\n",
    "print(my_list)\n",
    "print(len(my_list))"
   ]
  },
  {
   "cell_type": "markdown",
   "id": "21d529e4",
   "metadata": {},
   "source": [
    "#### Expected output\n",
    "```4``` <br>\n",
    "```['one', 'two', 1, 2]``` <br>"
   ]
  },
  {
   "cell_type": "markdown",
   "id": "12ab3c8c",
   "metadata": {},
   "source": [
    "### Exercise 4.5\n",
    "**Add at the end** of `my_list` a new element 5 (int).\n",
    "<details>    \n",
    "<summary>\n",
    "    <font size=\"3\" color=\"darkgreen\"><b>Hints</b></font>\n",
    "</summary>\n",
    "<p>\n",
    "<ul>\n",
    "    <li>You could find useful the <strong>append</strong> method (<a href=\"https://www.w3schools.com/python/python_lists_add.asp\" >link</a>).</li>\n",
    "</ul>\n",
    "</p>"
   ]
  },
  {
   "cell_type": "code",
   "execution_count": 23,
   "id": "e81fcd7f",
   "metadata": {},
   "outputs": [
    {
     "name": "stdout",
     "output_type": "stream",
     "text": [
      "[1, 2, 3, 4]\n",
      "[1, 2, 3, 4, 5]\n"
     ]
    }
   ],
   "source": [
    "my_list = [1, 2, 3, 4]\n",
    "print(my_list)\n",
    "#### START CODE HERE ####\n",
    "#### Ideally 1 line ####\n",
    "my_list.append(5)\n",
    "#### END CODE HERE ####\n",
    "print(my_list)"
   ]
  },
  {
   "cell_type": "markdown",
   "id": "aba514a4",
   "metadata": {},
   "source": [
    "#### Expected output\n",
    "```[1, 2, 3, 4]``` <br>\n",
    "```[1, 2, 3, 4, 5]``` <br>"
   ]
  },
  {
   "cell_type": "markdown",
   "id": "2be12c68",
   "metadata": {},
   "source": [
    "### Exercise 4.6\n",
    "**Order** the following list `my_list` in <b>ascending</b> order.\n",
    "<details>    \n",
    "<summary>\n",
    "    <font size=\"3\" color=\"darkgreen\"><b>Hints</b></font>\n",
    "</summary>\n",
    "<p>\n",
    "<ul>\n",
    "    <li>You could find useful the <strong>sort()</strong> method or the <strong>sorted()</strong> function (<a href=\"https://www.programiz.com/python-programming/methods/list/sort\" >link</a>).</li>\n",
    "</ul>\n",
    "<b>Note:</b> There are two possibilities: sorted() and sort(). The simplest difference between sort() and sorted() is: sort() changes the list directly and doesn't return any value, while sorted() doesn't change the list and returns the sorted list.\n",
    "</p>"
   ]
  },
  {
   "cell_type": "code",
   "execution_count": 24,
   "id": "9d7ab636",
   "metadata": {},
   "outputs": [
    {
     "name": "stdout",
     "output_type": "stream",
     "text": [
      "[100, 12, 72, 33, 99, 24, 49, 1, 15, 50]\n",
      "[1, 12, 15, 24, 33, 49, 50, 72, 99, 100]\n"
     ]
    }
   ],
   "source": [
    "my_list = [100, 12, 72, 33, 99, 24, 49, 1, 15, 50]\n",
    "print(my_list)\n",
    "      \n",
    "#### START CODE HERE ####\n",
    "#### Ideally 1 line ####\n",
    "my_list.sort()\n",
    "#### END CODE HERE ####\n",
    "      \n",
    "print(my_list)"
   ]
  },
  {
   "cell_type": "markdown",
   "id": "da78ce6d",
   "metadata": {},
   "source": [
    "#### Expected output\n",
    "```[100, 12, 72, 33, 99, 24, 49, 1, 15, 50]``` <br>\n",
    "```[1, 12, 15, 24, 33, 49, 50, 72, 99, 100]``` <br>"
   ]
  },
  {
   "cell_type": "markdown",
   "id": "e0ad932a",
   "metadata": {},
   "source": [
    "Now **order** the list `my_list` in <b>descending</b> order."
   ]
  },
  {
   "cell_type": "code",
   "execution_count": 25,
   "id": "49784f66",
   "metadata": {},
   "outputs": [
    {
     "name": "stdout",
     "output_type": "stream",
     "text": [
      "[100, 12, 72, 33, 99, 24, 49, 1, 15, 50]\n",
      "[100, 99, 72, 50, 49, 33, 24, 15, 12, 1]\n"
     ]
    }
   ],
   "source": [
    "my_list = [100, 12, 72, 33, 99, 24, 49, 1, 15, 50]\n",
    "print(my_list)\n",
    "#### START CODE HERE ####\n",
    "#### Ideally 1 line ####\n",
    "my_list.sort(reverse=True)\n",
    "#### END CODE HERE ####\n",
    "\n",
    "print(my_list)"
   ]
  },
  {
   "cell_type": "markdown",
   "id": "cb90f3dd",
   "metadata": {},
   "source": [
    "#### Expected output\n",
    "```[100, 12, 72, 33, 99, 24, 49, 1, 15, 50]``` <br>\n",
    "```[100, 99, 72, 50, 49, 33, 24, 15, 12, 1]``` <br>"
   ]
  },
  {
   "cell_type": "markdown",
   "id": "7e609837",
   "metadata": {},
   "source": [
    "### Exercise 4.7"
   ]
  },
  {
   "cell_type": "markdown",
   "id": "5bed420d",
   "metadata": {},
   "source": [
    "Lists in Python are **mutable**. If you define a list variable, it is only a **reference** to its items. If you define a new variable with `l1 = l2` it is only a new reference to the same items. If you change the value of an item from one list, the changed item is also viewed from the other reference."
   ]
  },
  {
   "cell_type": "code",
   "execution_count": 26,
   "id": "043c1722",
   "metadata": {},
   "outputs": [
    {
     "name": "stdout",
     "output_type": "stream",
     "text": [
      "l1:  [1, 2, 3]\n",
      "l2:  [1, 2, 3]\n",
      "\n",
      "\n",
      "l1:  [4, 2, 3]\n",
      "l2:  [4, 2, 3]\n"
     ]
    }
   ],
   "source": [
    "l1 = [1, 2, 3]\n",
    "l2 = l1\n",
    "print(\"l1: \", l1)\n",
    "print(\"l2: \", l2)\n",
    "l1[0] = 4\n",
    "print(\"\\n\")\n",
    "print(\"l1: \", l1)\n",
    "print(\"l2: \", l2)"
   ]
  },
  {
   "cell_type": "markdown",
   "id": "19494aa7",
   "metadata": {},
   "source": [
    "Define a new list variable by making a **hard copy** (i.e., the two lists have the same values but point at different memory spaces). Copy the list `l1` into a new list `l2`.\n",
    "<details>    \n",
    "<summary>\n",
    "    <font size=\"3\" color=\"darkgreen\"><b>Hints</b></font>\n",
    "</summary>\n",
    "<p>\n",
    "<ul>\n",
    "    <li>You could find useful the <strong>copy()</strong> method to create an hard copy of the list (<a href=\"https://www.w3schools.com/python/python_lists_copy.asp\" >link</a>).</li>\n",
    "</ul>\n",
    "<b>Note:</b> Copy the value of $l2$ into $l1$. Notice that $l2 = l1$ only creates a reference to $l1$. They both point at the same memory space..\n",
    "</p>"
   ]
  },
  {
   "cell_type": "code",
   "execution_count": 27,
   "id": "f62384ff",
   "metadata": {},
   "outputs": [
    {
     "name": "stdout",
     "output_type": "stream",
     "text": [
      "l1:  [1, 2, 3]\n",
      "l2:  [1, 2, 3]\n",
      "\n",
      "\n",
      "l1:  [4, 2, 3]\n",
      "l2:  [1, 2, 3]\n"
     ]
    }
   ],
   "source": [
    "l1 = [1, 2, 3]\n",
    "#### START CODE HERE ####\n",
    "#### Ideally 1 line ####\n",
    "l2 = l1.copy()\n",
    "#### END CODE HERE ####\n",
    "print(\"l1: \", l1)\n",
    "print(\"l2: \", l2)\n",
    "l1[0] = 4\n",
    "print(\"\\n\")\n",
    "print(\"l1: \", l1)\n",
    "print(\"l2: \", l2)"
   ]
  },
  {
   "cell_type": "markdown",
   "id": "92880342",
   "metadata": {},
   "source": [
    "#### Expected output\n",
    "```l1:  [1, 2, 3]``` <br>\n",
    "```l2:  [1, 2, 3]``` <br><br>\n",
    "```l1:  [4, 2, 3]``` <br>\n",
    "```l2:  [1, 2, 3]```"
   ]
  },
  {
   "cell_type": "markdown",
   "id": "1230ba86",
   "metadata": {},
   "source": [
    "<a id='5'></a>\n",
    "## 5. Functions\n",
    "A **function** is a block of code that only runs when it is called. A function can take some **input parameters** and return some **output** data as a result. You can learn more about python functions <a href=\"https://www.w3schools.com/python/python_functions.asp\" >here</a>."
   ]
  },
  {
   "cell_type": "markdown",
   "id": "ffefedb0",
   "metadata": {},
   "source": [
    "### Exercise 5.1\n",
    "Create a function called `my_add_fn`. It takes two values as input `(x, y)`, and returns their **sum**."
   ]
  },
  {
   "cell_type": "code",
   "execution_count": 29,
   "id": "96f71b0b",
   "metadata": {},
   "outputs": [],
   "source": [
    "def my_add_fn(x, y):\n",
    "#### START CODE HERE ####\n",
    "#### Ideally 1 line ####\n",
    "    print(x + y)\n",
    "#### END CODE HERE ####"
   ]
  },
  {
   "cell_type": "code",
   "execution_count": 30,
   "id": "07bb11ce",
   "metadata": {},
   "outputs": [
    {
     "name": "stdout",
     "output_type": "stream",
     "text": [
      "30\n"
     ]
    }
   ],
   "source": [
    "my_add_fn(10, 20)"
   ]
  },
  {
   "cell_type": "markdown",
   "id": "e1e8fff4",
   "metadata": {},
   "source": [
    "#### Expected output\n",
    "```30```"
   ]
  },
  {
   "cell_type": "markdown",
   "id": "8fb407c6",
   "metadata": {},
   "source": [
    "### Exercise 5.2\n",
    "Create a function called `my_avg_fn`. It takes two values as input `(x, y)`, and returns their **average**."
   ]
  },
  {
   "cell_type": "code",
   "execution_count": 31,
   "id": "d8344694",
   "metadata": {},
   "outputs": [],
   "source": [
    "#### START CODE HERE ####\n",
    "#### Ideally 2 line ####\n",
    "def my_avg_fn(x, y):\n",
    "    avg = (x + y) / 2\n",
    "    print(avg)\n",
    "#### END CODE HERE ####"
   ]
  },
  {
   "cell_type": "code",
   "execution_count": 32,
   "id": "15fcc0b4",
   "metadata": {},
   "outputs": [
    {
     "name": "stdout",
     "output_type": "stream",
     "text": [
      "15.0\n"
     ]
    }
   ],
   "source": [
    "my_avg_fn(10, 20)"
   ]
  },
  {
   "cell_type": "markdown",
   "id": "35e706fc",
   "metadata": {},
   "source": [
    "#### Expected output\n",
    "```15.0```"
   ]
  },
  {
   "cell_type": "markdown",
   "id": "0fa9acb3",
   "metadata": {},
   "source": [
    "### Exercise 5.3\n",
    "Create a function called `my_replace_fn`. It takes three strings as input `s1`, `s2`, and `s3`, and it returns the value of `s1` by replacing each occurrence of the string `s2` from the string `s1` with a new string `s3`.\n",
    "<details>    \n",
    "<summary>\n",
    "    <font size=\"3\" color=\"darkgreen\"><b>Hints</b></font>\n",
    "</summary>\n",
    "<p>\n",
    "<ul>\n",
    "    <li>You can find useful the string <strong>replace()</strong> method (<a href=\"https://www.w3schools.com/python/ref_string_replace.asp\" >link</a>). </li>\n",
    "</ul>\n",
    "</p>"
   ]
  },
  {
   "cell_type": "code",
   "execution_count": 54,
   "id": "ce5f2083",
   "metadata": {},
   "outputs": [],
   "source": [
    "def my_replace_fn(s1, s2, s3):\n",
    "#### START CODE HERE ####\n",
    "#### Ideally 1 line ####\n",
    "    newStr = s1.replace(s2, s3)\n",
    "    print(newStr)\n",
    "#### END CODE HERE ####"
   ]
  },
  {
   "cell_type": "code",
   "execution_count": 55,
   "id": "48f3dc73",
   "metadata": {},
   "outputs": [
    {
     "name": "stdout",
     "output_type": "stream",
     "text": [
      "I am learning how to code in python\n"
     ]
    }
   ],
   "source": [
    "s1 = \"I don't know how to code in python\"\n",
    "s2 = \"don't know\"\n",
    "s3 = \"am learning\"\n",
    "my_replace_fn(s1, s2, s3)"
   ]
  },
  {
   "cell_type": "markdown",
   "id": "a814a9d9",
   "metadata": {},
   "source": [
    "#### Expected output\n",
    "```'I am learning how to code in python'```"
   ]
  },
  {
   "cell_type": "markdown",
   "id": "5c8b90e1",
   "metadata": {},
   "source": [
    "<a id='6'></a>\n",
    "## 6. Tuples\n",
    "A tuple is a collection that is ordered and <b>unchangeable</b>. They are defined by **round brackets**, and the elements are separated by **commas**. Different from lists that are mutable.\n",
    "You can find more about python tuples <a href=\"https://www.w3schools.com/python/python_tuples.asp\" >here</a>."
   ]
  },
  {
   "cell_type": "markdown",
   "id": "050111a0",
   "metadata": {},
   "source": [
    "### Exercise 6.1\n",
    "Print: \n",
    "<ul>\n",
    "    <li><strong>all</strong> the elements of the tuple</li>\n",
    "    <li>the <strong>second</strong> element of the tuple</li>\n",
    "    <li>the <strong>last</strong> element of the tuple</li>\n",
    "    <li>the <strong>length</strong> of the tuple</li>\n",
    "</ul>\n",
    "<details>    \n",
    "<summary>\n",
    "    <font size=\"3\" color=\"darkgreen\"><b>Hints</b></font>\n",
    "</summary>\n",
    "<p>\n",
    "<ul>\n",
    "    <li>Remember that sequences in Python are 0 initialized.</li>\n",
    "</ul>\n",
    "</p>"
   ]
  },
  {
   "cell_type": "code",
   "execution_count": 61,
   "id": "228c6325",
   "metadata": {},
   "outputs": [
    {
     "name": "stdout",
     "output_type": "stream",
     "text": [
      "('math', 'science', 'art', 'history')\n",
      "science\n",
      "history\n",
      "4\n"
     ]
    }
   ],
   "source": [
    "my_tuple = (\"math\", \"science\", \"art\", \"history\")\n",
    "#### START CODE HERE ####\n",
    "#### Ideally 4 line ####\n",
    "print(my_tuple)\n",
    "print(my_tuple[1])\n",
    "print(my_tuple[3])\n",
    "print(len(my_tuple))\n",
    "#### END CODE HERE ####"
   ]
  },
  {
   "cell_type": "markdown",
   "id": "fc9900c7",
   "metadata": {},
   "source": [
    "#### Expected output\n",
    "```('math', 'science', 'art', 'history')```<br>\n",
    "```science```<br>\n",
    "```history```<br>\n",
    "```4```"
   ]
  },
  {
   "cell_type": "markdown",
   "id": "128a2b97",
   "metadata": {},
   "source": [
    "Python tuples are <b>unchangeable</b>. What do you think will happen if I try to change the first element of the tuple?"
   ]
  },
  {
   "cell_type": "code",
   "execution_count": 62,
   "id": "0bef55a0",
   "metadata": {},
   "outputs": [
    {
     "ename": "TypeError",
     "evalue": "'tuple' object does not support item assignment",
     "output_type": "error",
     "traceback": [
      "\u001b[1;31m---------------------------------------------------------------------------\u001b[0m",
      "\u001b[1;31mTypeError\u001b[0m                                 Traceback (most recent call last)",
      "Cell \u001b[1;32mIn[62], line 1\u001b[0m\n\u001b[1;32m----> 1\u001b[0m \u001b[43mmy_tuple\u001b[49m\u001b[43m[\u001b[49m\u001b[38;5;241;43m0\u001b[39;49m\u001b[43m]\u001b[49m \u001b[38;5;241m=\u001b[39m \u001b[38;5;124m\"\u001b[39m\u001b[38;5;124mnew_subject\u001b[39m\u001b[38;5;124m\"\u001b[39m\n\u001b[0;32m      2\u001b[0m \u001b[38;5;28mprint\u001b[39m(my_tuple)\n",
      "\u001b[1;31mTypeError\u001b[0m: 'tuple' object does not support item assignment"
     ]
    }
   ],
   "source": [
    "my_tuple[0] = \"new_subject\"\n",
    "print(my_tuple)"
   ]
  },
  {
   "cell_type": "markdown",
   "id": "7a45cb6d",
   "metadata": {},
   "source": [
    "It will raise a TypeError"
   ]
  },
  {
   "cell_type": "markdown",
   "id": "6478ea25",
   "metadata": {},
   "source": [
    "<a id='7'></a>\n",
    "## 7. Sets\n",
    "A set is a collection which is <b>unordered</b>, <b>unchangeable</b>, and <b>unindexed</b>. They are defined by **curly brackets**, and the elements are separated by **commas**.\n",
    "You can't change values in a set, but you can remove items or add new items. Sets do not allow duplicate values.\n",
    "You can find more about python sets <a href=\"https://www.w3schools.com/python/python_sets.asp\" >here</a>."
   ]
  },
  {
   "cell_type": "markdown",
   "id": "3fb197ea",
   "metadata": {},
   "source": [
    "### Exercise 7.1\n",
    "Create a set named `my_set` with the following items: `'math'`, `'science'`, `'art'`, `'history'`. Then:\n",
    "<ul>\n",
    "    <li>print the <strong>items</strong> of the set</li>\n",
    "    <li>print the <strong>length</strong> of the set</li>\n",
    "    <li><strong>remove</strong> \"math\" from the set</li>\n",
    "    <li><strong>add</strong> \"computer science\" to the set</li>\n",
    "</ul>"
   ]
  },
  {
   "cell_type": "code",
   "execution_count": 67,
   "id": "60b47a30",
   "metadata": {},
   "outputs": [
    {
     "name": "stdout",
     "output_type": "stream",
     "text": [
      "{'art', 'history', 'science', 'math'}\n",
      "4\n",
      "{'science', 'computer science', 'art', 'history'}\n"
     ]
    }
   ],
   "source": [
    "#### START CODE HERE ####\n",
    "#### Ideally 5 line ####\n",
    "my_set = {'math', 'science', 'art', 'history'}\n",
    "#### END CODE HERE ####\n",
    "print(my_set)\n",
    "print(len(my_set))\n",
    "my_set.remove(\"math\")\n",
    "my_set.add(\"computer science\")\n",
    "print(my_set)"
   ]
  },
  {
   "cell_type": "markdown",
   "id": "2017926a",
   "metadata": {},
   "source": [
    "#### Expected output\n",
    "```{'science', 'history', 'math', 'art'}```<br>\n",
    "```4```<br>\n",
    "```{'computer science', 'science', 'art', 'history'}```"
   ]
  },
  {
   "cell_type": "markdown",
   "id": "5fc0ee97",
   "metadata": {},
   "source": [
    "### Exercise 7.2\n",
    "Get the list of the **distinct elements** in `my_list`, save the distinct elements into a new list named `my_distinct_list`. The distinct elements are a list without the repetitions of elements.\n",
    "<details>    \n",
    "<summary>\n",
    "    <font size=\"3\" color=\"darkgreen\"><b>Hints</b></font>\n",
    "</summary>\n",
    "<p>\n",
    "<ul>\n",
    "    <li>You could exploit the <strong>set</strong> function to get the <strong>distinct items</strong></li>\n",
    "</ul>\n",
    "<b>Note:</b> You should also cast to list to get a new list <a href=\"https://www.w3schools.com/python/python_casting.asp\" >here</a>."
   ]
  },
  {
   "cell_type": "code",
   "execution_count": 68,
   "id": "a9dd67f2",
   "metadata": {},
   "outputs": [
    {
     "name": "stdout",
     "output_type": "stream",
     "text": [
      "original list: ['math', 'science', 'science', 'art', 'history', 'history', 'art', 'art']\n",
      "distinct list: ['art', 'history', 'science', 'math']\n"
     ]
    }
   ],
   "source": [
    "my_list = [\"math\", \"science\", \"science\", \"art\", \"history\", \"history\", \"art\", \"art\"]\n",
    "my_distinct_list = None\n",
    "#### START CODE HERE ####\n",
    "#### Ideally 1 line ####\n",
    "#### END CODE HERE ####\n",
    "my_distinct_list = list(set(my_list))\n",
    "# Don't change this code!\n",
    "print(\"original list:\", my_list)\n",
    "print(\"distinct list:\", my_distinct_list)"
   ]
  },
  {
   "cell_type": "markdown",
   "id": "825e01a2",
   "metadata": {},
   "source": [
    "#### Expected output\n",
    "```original list: ['math', 'science', 'science', 'art', 'history', 'history', 'art', 'art']```<br>\n",
    "```distinct list: ['science', 'history', 'math', 'art']```"
   ]
  },
  {
   "cell_type": "markdown",
   "id": "b13d64ee",
   "metadata": {},
   "source": [
    "<a id='8'></a>\n",
    "## 8. Dictionaries\n",
    "A dictionary is a collection that is <b>ordered</b>, <b>changeable</b>, and does <b>not allow duplicates</b>. Dictionaries are written with **curly brackets**, and have **keys** and **values**. You can find more about python dictionaries <a href=\"https://www.w3schools.com/python/python_dictionaries.asp\" >here</a>."
   ]
  },
  {
   "cell_type": "markdown",
   "id": "6dc76379",
   "metadata": {},
   "source": [
    "### Exercise 8.1\n",
    "You have a dictionary `my_dict` with the **subjects** as **keys** and **marks** as **values**. Print the mark of the subject `\"art\"`.\n",
    "<details>    \n",
    "<summary>\n",
    "    <font size=\"3\" color=\"darkgreen\"><b>Hints</b></font>\n",
    "</summary>\n",
    "<p>\n",
    "<ul>\n",
    "    <li>You can access the <strong>value</strong> by <strong>key</strong> with <strong>square brackets</strong>.</li>\n",
    "</ul>\n",
    "</p>"
   ]
  },
  {
   "cell_type": "code",
   "execution_count": 69,
   "id": "2aa1bfed",
   "metadata": {},
   "outputs": [
    {
     "name": "stdout",
     "output_type": "stream",
     "text": [
      "18\n"
     ]
    }
   ],
   "source": [
    "my_dict = {\"math\":20, \n",
    "           \"science\":30, \n",
    "           \"art\":18, \n",
    "           \"history\":20}\n",
    "#### START CODE HERE ####\n",
    "#### Ideally 1 line ####\n",
    "print(my_dict[\"art\"])\n",
    "#### END CODE HERE ####"
   ]
  },
  {
   "cell_type": "markdown",
   "id": "652a3381",
   "metadata": {},
   "source": [
    "#### Expected output\n",
    "```18```"
   ]
  },
  {
   "cell_type": "markdown",
   "id": "14896679",
   "metadata": {},
   "source": [
    "### Exercise 8.2\n",
    "Change the mark of the subject `math` with a value of 30.\n",
    "<details>    \n",
    "<summary>\n",
    "    <font size=\"3\" color=\"darkgreen\"><b>Hints</b></font>\n",
    "</summary>\n",
    "<p>\n",
    "<ul>\n",
    "    <li>You can access the <strong>value</strong> by <strong>key</strong> with <strong>square brackets</strong>.</li>\n",
    "</ul>\n",
    "</p>"
   ]
  },
  {
   "cell_type": "code",
   "execution_count": 70,
   "id": "083a9b03",
   "metadata": {},
   "outputs": [
    {
     "name": "stdout",
     "output_type": "stream",
     "text": [
      "{'math': 20, 'science': 30, 'art': 18, 'history': 20}\n",
      "{'math': 30, 'science': 30, 'art': 18, 'history': 20}\n"
     ]
    }
   ],
   "source": [
    "my_dict = {\"math\":20, \n",
    "           \"science\":30, \n",
    "           \"art\":18, \n",
    "           \"history\":20}\n",
    "print(my_dict)\n",
    "#### START CODE HERE ####\n",
    "#### Ideally 1 line ####\n",
    "my_dict[\"math\"] = 30\n",
    "#### END CODE HERE ####\n",
    "\n",
    "# Don't change this code!\n",
    "print(my_dict)"
   ]
  },
  {
   "cell_type": "markdown",
   "id": "4862f6d2",
   "metadata": {},
   "source": [
    "#### Expected output\n",
    "```{'math': 20, 'science': 30, 'art': 18, 'history': 20}``` <br>\n",
    "```{'math': 30, 'science': 30, 'art': 18, 'history': 20}```"
   ]
  },
  {
   "cell_type": "markdown",
   "id": "914f4e95",
   "metadata": {},
   "source": [
    "### Exercise 8.3\n",
    "Define a function that takes three parameters as input `my_dict`, `my_key`, and `my_value`. If `my_key` is already present in `my_dict`, it changes the old value with `my_value`. Otherwise, it adds the new key-value pair. The function returns the new dictionary.\n",
    "<details>    \n",
    "<summary>\n",
    "    <font size=\"3\" color=\"darkgreen\"><b>Hints</b></font>\n",
    "</summary>\n",
    "<p>\n",
    "<ul>\n",
    "    <li>You can access the <strong>value</strong> by <strong>key</strong> with <strong>square brackets</strong>.</li>\n",
    "    <li>Like for lists, you must make an hard-copy with the <strong>copy()</strong> method.</li>\n",
    "</ul>\n",
    "</p>"
   ]
  },
  {
   "cell_type": "code",
   "execution_count": 75,
   "id": "52ed352b",
   "metadata": {},
   "outputs": [],
   "source": [
    "my_dict = {\"math\":20, \n",
    "           \"science\":30, \n",
    "           \"art\":18, \n",
    "           \"history\":20}\n",
    "\n",
    "def my_add_dict_fn(my_dict, my_key, my_value):\n",
    "    #### START CODE HERE ####\n",
    "    #### Ideally 3 line ####\n",
    "    my_dict_copy = my_dict.copy()\n",
    "    my_dict_copy[my_key] = my_value\n",
    "    return my_dict_copy\n",
    "    #### END CODE HERE ####"
   ]
  },
  {
   "cell_type": "code",
   "execution_count": 76,
   "id": "b063381d",
   "metadata": {},
   "outputs": [
    {
     "name": "stdout",
     "output_type": "stream",
     "text": [
      "{'math': 20, 'science': 30, 'art': 18, 'history': 20}\n",
      "{'math': 20, 'science': 30, 'art': 30, 'history': 20}\n",
      "{'math': 20, 'science': 30, 'art': 18, 'history': 20, 'english': 22}\n"
     ]
    }
   ],
   "source": [
    "# Don't change this code!\n",
    "my_new_dict_1 = my_add_dict_fn(my_dict, \"art\", 30)\n",
    "my_new_dict_2 = my_add_dict_fn(my_dict, \"english\", 22)\n",
    "print(my_dict)\n",
    "print(my_new_dict_1)\n",
    "print(my_new_dict_2)"
   ]
  },
  {
   "cell_type": "markdown",
   "id": "0543705b",
   "metadata": {},
   "source": [
    "#### Expected output\n",
    "```{'math': 20, 'science': 30, 'art': 18, 'history': 20}``` <br>\n",
    "```{'math': 20, 'science': 30, 'art': 30, 'history': 20}``` <br>\n",
    "```{'math': 20, 'science': 30, 'art': 18, 'history': 20, 'english': 22}```"
   ]
  },
  {
   "cell_type": "markdown",
   "id": "bd0daa0b",
   "metadata": {},
   "source": [
    "<a id='9'></a>\n",
    "## 9. Conditions and If statements\n",
    "You can find more about python conditions and if statements <a href=\"https://www.w3schools.com/python/python_conditions.asp\" >here</a>."
   ]
  },
  {
   "cell_type": "markdown",
   "id": "3b2d48e0",
   "metadata": {},
   "source": [
    "### Exercise 9.1\n",
    "Define a function that takes a variable `x` as input and prints `\"Greater or equal than zero\"` if the variable is greater or equal to zero and `\"Less than zero\"` if negative. Be careful about python indentation."
   ]
  },
  {
   "cell_type": "code",
   "execution_count": 77,
   "id": "8f1210bf",
   "metadata": {},
   "outputs": [
    {
     "name": "stdout",
     "output_type": "stream",
     "text": [
      "Greater or equal tham zero\n",
      "Greater or equal tham zero\n",
      "Less than zero\n"
     ]
    }
   ],
   "source": [
    "def my_positive_check_fn(x):\n",
    "#### START CODE HERE ####\n",
    "#### Ideally 5 line ####\n",
    "    if x > 0 or x == 0:\n",
    "        print(\"Greater or equal tham zero\")\n",
    "    else:\n",
    "        print(\"Less than zero\")\n",
    "#### END CODE HERE ####\n",
    "\n",
    "# Don't change this code!\n",
    "my_positive_check_fn(100)\n",
    "my_positive_check_fn(0)\n",
    "my_positive_check_fn(-1)"
   ]
  },
  {
   "cell_type": "markdown",
   "id": "0906bcc4",
   "metadata": {},
   "source": [
    "#### Expected output\n",
    "```Greater or equal than zero```<br>\n",
    "```Greater or equal than zero```<br>\n",
    "```Less than zero```"
   ]
  },
  {
   "cell_type": "markdown",
   "id": "4825ecc8",
   "metadata": {},
   "source": [
    "### Exercise 9.2\n",
    "Define a function that takes a variable `x` as input and prints `\"Odd\"` if the the variable is odd and `\"Even\"` if even. Be careful about python indentation.\n",
    "<details>    \n",
    "<summary>\n",
    "    <font size=\"3\" color=\"darkgreen\"><b>Hints</b></font>\n",
    "</summary>\n",
    "<p>\n",
    "<ul>\n",
    "    <li>If you divide by 2 an odd number the remainder should be 0</li>\n",
    "    <li>You could find useful the <strong>modulus operator</strong>. <a href=\"https://www.w3schools.com/python/python_operators.asp\" > link </a> </li>\n",
    "</ul>\n",
    "</p>"
   ]
  },
  {
   "cell_type": "code",
   "execution_count": 78,
   "id": "bb3e1edc",
   "metadata": {},
   "outputs": [
    {
     "name": "stdout",
     "output_type": "stream",
     "text": [
      "Odd\n",
      "Even\n",
      "Odd\n",
      "Even\n"
     ]
    }
   ],
   "source": [
    "def my_odd_even_check_fn(x):\n",
    "#### START CODE HERE ####\n",
    "#### Ideally 5/6 lines ####\n",
    "    if x % 2 == 0:\n",
    "        print(\"Even\")\n",
    "    else:\n",
    "        print(\"Odd\")\n",
    "#### END CODE HERE ####\n",
    "\n",
    "# Don't change this code!\n",
    "my_odd_even_check_fn(1)\n",
    "my_odd_even_check_fn(2)\n",
    "my_odd_even_check_fn(5)\n",
    "my_odd_even_check_fn(10)"
   ]
  },
  {
   "cell_type": "markdown",
   "id": "6f257051",
   "metadata": {},
   "source": [
    "#### Expected output\n",
    "```Odd```<br>\n",
    "```Even```<br>\n",
    "```Odd```<br>\n",
    "```Even```"
   ]
  },
  {
   "cell_type": "markdown",
   "id": "5e0d0992",
   "metadata": {},
   "source": [
    "### Exercise 9.3\n",
    "Define a function that takes two strings `my_str` and `my_sub_str` as input. Then, it prints `\"Found {my_sub_str} into {my_str}\"` if `my_str` contains `my_sub_str`, and `\"Not found {my_sub_str} into {my_str}\"` otherwise. The printed string should substitute `my_sub_str` and `my_str` with their values. It returns the `True` boolean if `my_str` contains `my_sub_str`, `False` otherwise.\n",
    "<details>    \n",
    "<summary>\n",
    "    <font size=\"3\" color=\"darkgreen\"><b>Hints</b></font>\n",
    "</summary>\n",
    "<p>\n",
    "<ul>\n",
    "    <li>You can learn more about string formatting <a href=\"https://www.w3schools.com/python/python_string_formatting.asp\" > here </a></li>\n",
    "    <li>You can learn more about python Booleans <a href=\"https://www.w3schools.com/python/python_booleans.asp\" > here </a></li>\n",
    "    <li>You could find useful the <strong>in</strong> operator. <a href=\"https://www.w3schools.com/python/python_operators.asp\" > link </a> </li>\n",
    "</ul>\n",
    "</p>"
   ]
  },
  {
   "cell_type": "code",
   "execution_count": 79,
   "id": "8292fc06",
   "metadata": {},
   "outputs": [
    {
     "name": "stdout",
     "output_type": "stream",
     "text": [
      "Found {my_sub_str} into {my_str}\n",
      "True\n",
      "Not Found {my_sub_str} into {my_str}\n",
      "False\n"
     ]
    }
   ],
   "source": [
    "def my_subtring_check_fn(my_str, my_sub_str):\n",
    "#### START CODE HERE ####\n",
    "#### Ideally 5/6 lines ####\n",
    "    if my_sub_str in my_str:\n",
    "        print(\"Found {my_sub_str} into {my_str}\")\n",
    "        return True\n",
    "    else:\n",
    "        print(\"Not Found {my_sub_str} into {my_str}\")\n",
    "        return False\n",
    "\n",
    "#### END CODE HERE ####\n",
    "\n",
    "# Don't change this code!\n",
    "str_flag = my_subtring_check_fn(\"hello world\", \"hello\")\n",
    "print(str_flag)\n",
    "str_flag = my_subtring_check_fn(\"hello world\", \"bye\")\n",
    "print(str_flag)"
   ]
  },
  {
   "cell_type": "markdown",
   "id": "81c2e5eb",
   "metadata": {},
   "source": [
    "#### Expected output\n",
    "```Found hello into hello world```<br>\n",
    "```True```<br>\n",
    "```Not found bye into hello world```<br>\n",
    "```False```"
   ]
  },
  {
   "cell_type": "markdown",
   "id": "2fbc1274",
   "metadata": {},
   "source": [
    "### Exercise 9.4\n",
    "Define a function that takes a list of numbers named `my_list` and a number `x` input. Then, it returns the `True` boolean if `my_list` contains `x`, `False` otherwise.\n",
    "\n",
    "<details>    \n",
    "<summary>\n",
    "    <font size=\"3\" color=\"darkgreen\"><b>Hints</b></font>\n",
    "</summary>\n",
    "<p>\n",
    "<ul>\n",
    "    <li>You can learn more about python Booleans <a href=\"https://www.w3schools.com/python/python_booleans.asp\" > here </a></li>\n",
    "    <li>You could find useful the in operator. <a href=\"https://www.w3schools.com/python/python_operators.asp\" > link </a> </li>\n",
    "</ul>\n",
    "</p>"
   ]
  },
  {
   "cell_type": "code",
   "execution_count": 80,
   "id": "545ea7ad",
   "metadata": {},
   "outputs": [
    {
     "name": "stdout",
     "output_type": "stream",
     "text": [
      "False\n",
      "True\n"
     ]
    }
   ],
   "source": [
    "def my_list_check_fn(my_list, x):\n",
    "#### START CODE HERE ####\n",
    "#### Ideally 4 lines ####\n",
    "    if x in my_list:\n",
    "        return True\n",
    "    else:\n",
    "        return False\n",
    "#### END CODE HERE ####\n",
    "\n",
    "# Don't change this code!\n",
    "my_flag = my_list_check_fn([0, 4, 2, 5], 1)\n",
    "print(my_flag)\n",
    "my_flag = my_list_check_fn([0, 4, 2, 5], 4)\n",
    "print(my_flag)"
   ]
  },
  {
   "cell_type": "markdown",
   "id": "1a1edec2",
   "metadata": {},
   "source": [
    "#### Expected output\n",
    "```False```<br>\n",
    "```True```"
   ]
  },
  {
   "cell_type": "markdown",
   "id": "a5f0945c",
   "metadata": {},
   "source": [
    "### Exercise 9.5\n",
    "Create a function called `my_sum_avg_fn`. It takes three numbers as input `x`, `y`, and `z`, and it returns their **sum**, their **average**, and the boolean `True` if **all** the inputs parameters are **postiive** (>= 0). Otherwise, it returns `False`. Please respect the order of the returned parameters."
   ]
  },
  {
   "cell_type": "code",
   "execution_count": 81,
   "id": "75a4efcd",
   "metadata": {},
   "outputs": [],
   "source": [
    "def my_sum_avg_fn(x, y, z):\n",
    "#### START CODE HERE ####\n",
    "#### Ideally 6/7 line ####\n",
    "    sum = x + y + z\n",
    "    avg = sum / 3\n",
    "    flag = False\n",
    "    if x >= 0 and y >=0 and z >= 0:\n",
    "        flag = True\n",
    "    return (sum, avg, flag)\n",
    "#### END CODE HERE ####"
   ]
  },
  {
   "cell_type": "code",
   "execution_count": 82,
   "id": "8d6372ac",
   "metadata": {},
   "outputs": [
    {
     "name": "stdout",
     "output_type": "stream",
     "text": [
      "Sum: 0. Avg: 0.0. All Positive: True\n",
      "Sum: 12. Avg: 4.0. All Positive: False\n",
      "Sum: 60. Avg: 20.0. All Positive: True\n",
      "Sum: 30. Avg: 10.0. All Positive: True\n"
     ]
    }
   ],
   "source": [
    "my_sum, my_avg, my_flag = my_sum_avg_fn(0, 0, 0)\n",
    "print(\"Sum: {}. Avg: {}. All Positive: {}\".format(my_sum, my_avg, my_flag))\n",
    "my_sum, my_avg, my_flag = my_sum_avg_fn(10, -1, 3)\n",
    "print(\"Sum: {}. Avg: {}. All Positive: {}\".format(my_sum, my_avg, my_flag))\n",
    "my_sum, my_avg, my_flag = my_sum_avg_fn(10, 20, 30)\n",
    "print(\"Sum: {}. Avg: {}. All Positive: {}\".format(my_sum, my_avg, my_flag))\n",
    "my_sum, my_avg, my_flag = my_sum_avg_fn(10, 0, 20)\n",
    "print(\"Sum: {}. Avg: {}. All Positive: {}\".format(my_sum, my_avg, my_flag))"
   ]
  },
  {
   "cell_type": "markdown",
   "id": "9feb814b",
   "metadata": {},
   "source": [
    "#### Expected output\n",
    "```Sum: 0. Avg: 0.0. All Positive: True``` <br>\n",
    "```Sum: 12. Avg: 4.0. All Positive: False``` <br>\n",
    "```Sum: 60. Avg: 20.0. All Positive: True``` <br>\n",
    "```Sum: 30. Avg: 10.0. All Positive: True``` "
   ]
  },
  {
   "cell_type": "markdown",
   "id": "6a690760",
   "metadata": {},
   "source": [
    "### Exercise 9.6\n",
    "Define a function that takes three parameters as input `my_dict`, `my_key`, and `my_value`. It changes the value of `my_key` with `my_value` **only if it is already present** in `my_dict`. Otherwise, it will print: `\"The key {my_key} is not in the dictionary\"`. You should not make a hard-copy of the dictionary.\n",
    "<details>    \n",
    "<summary>\n",
    "    <font size=\"3\" color=\"darkgreen\"><b>Hints</b></font>\n",
    "</summary>\n",
    "<p>\n",
    "<ul>\n",
    "    <li>You can access the <strong>value</strong> by <strong>key</strong> with <strong>square brackets</strong>.</li>\n",
    "    <li>To check if a key is in a dictionary you can use the  <strong>in</strong> operator.</li>\n",
    "</ul>\n",
    "</p>"
   ]
  },
  {
   "cell_type": "code",
   "execution_count": 83,
   "id": "6dd69ce1",
   "metadata": {},
   "outputs": [],
   "source": [
    "my_dict = {\"math\":20, \n",
    "           \"science\":30, \n",
    "           \"art\":18, \n",
    "           \"history\":20}\n",
    "\n",
    "def my_update_dict_fn(my_dict, my_key, my_value):\n",
    "    #### START CODE HERE ####\n",
    "    #### Ideally 5 line ####\n",
    "    newDict = my_dict.copy()\n",
    "    if my_key in newDict:\n",
    "        newDict[my_key] = my_value\n",
    "    return newDict\n",
    "    #### END CODE HERE ####"
   ]
  },
  {
   "cell_type": "code",
   "execution_count": 84,
   "id": "d528565e",
   "metadata": {},
   "outputs": [
    {
     "name": "stdout",
     "output_type": "stream",
     "text": [
      "original dict: {'math': 20, 'science': 30, 'art': 18, 'history': 20}\n",
      "update 1: {'math': 20, 'science': 30, 'art': 30, 'history': 20}\n",
      "update 2: {'math': 20, 'science': 30, 'art': 30, 'history': 20}\n"
     ]
    }
   ],
   "source": [
    "# Don't change this code!\n",
    "print(\"original dict:\", my_dict)\n",
    "my_dict = my_update_dict_fn(my_dict, \"art\", 30)\n",
    "print(\"update 1:\", my_dict)\n",
    "my_dict = my_update_dict_fn(my_dict, \"english\", 22)\n",
    "print(\"update 2:\", my_dict)"
   ]
  },
  {
   "cell_type": "markdown",
   "id": "4e880199",
   "metadata": {},
   "source": [
    "#### Expected output\n",
    "```original dict: {'math': 20, 'science': 30, 'art': 30, 'history': 20}``` <br>\n",
    "```update 1: {'math': 20, 'science': 30, 'art': 30, 'history': 20}``` <br>\n",
    "```The key english is not in the dictionary```<br>\n",
    "```update 2: {'math': 20, 'science': 30, 'art': 30, 'history': 20}```"
   ]
  },
  {
   "cell_type": "markdown",
   "id": "21881909",
   "metadata": {},
   "source": [
    "<a id='10'></a>\n",
    "## 10. For Loops\n",
    "A **for loop** is used for **iterating over a sequence** (i.e., either a list, a tuple, a dictionary, a set, or a string).\n",
    "You can find more about python for loops <a href=\"https://www.w3schools.com/python/python_for_loops.asp\" >here</a>."
   ]
  },
  {
   "cell_type": "markdown",
   "id": "3e100951",
   "metadata": {},
   "source": [
    "### Exercise 10.1\n",
    "Define a loop from `0` to `x` (both included) that prints `\"{i}: greater or equal than 2\"` if the index of the loop is greater or equal than 2. `\"{i}: less than 2\"` if the index of the loop is less than 2. The value of the index of the loop `i` should substitute `{i}` in the printed outputs.\n",
    "<details>    \n",
    "<summary>\n",
    "    <font size=\"3\" color=\"darkgreen\"><b>Hints</b></font>\n",
    "</summary>\n",
    "<p>\n",
    "<ul>\n",
    "    <li> You should find useful how to loop through the index numbers and the <strong>range</strong> function <a href=\"https://www.w3schools.com/python/python_lists_loop.asp\" > link </a></li>\n",
    "    <li>You can learn more about string formatting <a href=\"https://www.w3schools.com/python/python_string_formatting.asp\" > here </a></li>\n",
    "</ul>\n",
    "</p>"
   ]
  },
  {
   "cell_type": "code",
   "execution_count": 87,
   "id": "46067dab",
   "metadata": {},
   "outputs": [
    {
     "name": "stdout",
     "output_type": "stream",
     "text": [
      "0 : less than\n",
      "1 : less than\n",
      "2 : greater or equal than 2\n",
      "3 : greater or equal than 2\n",
      "4 : greater or equal than 2\n"
     ]
    }
   ],
   "source": [
    "x = 5\n",
    "#### START CODE HERE ####\n",
    "#### Ideally 5/6 lines ####\n",
    "for i in range(0, x):\n",
    "    if i >= 2:\n",
    "        print(i, \": greater or equal than 2\")\n",
    "    else:\n",
    "        print(i, \": less than\")\n",
    "#### END CODE HERE ####\n"
   ]
  },
  {
   "cell_type": "markdown",
   "id": "41b2f26f",
   "metadata": {},
   "source": [
    "#### Expected output\n",
    "```0: less than 2```<br>\n",
    "```1: less than 2```<br>\n",
    "```2: greater or equal than 2```<br>\n",
    "```3: greater or equal than 2```<br>\n",
    "```4: greater or equal than 2```<br>\n",
    "```5: greater or equal than 2```"
   ]
  },
  {
   "cell_type": "markdown",
   "id": "52b592ee",
   "metadata": {},
   "source": [
    "### Exercise 10.2\n",
    "Define a loop that iterates `my_list` and multiplies each element of the list by `2`. Save the elements multiplied by 2 in the same list `my_list`."
   ]
  },
  {
   "cell_type": "code",
   "execution_count": 91,
   "id": "a75ebd08",
   "metadata": {},
   "outputs": [
    {
     "name": "stdout",
     "output_type": "stream",
     "text": [
      "original list: [1, 2, 3, 4, 5]\n",
      "modified list: [2, 4, 6, 8, 10]\n"
     ]
    }
   ],
   "source": [
    "my_list = [1, 2, 3, 4, 5]\n",
    "print(\"original list: {}\".format(my_list))\n",
    "#### START CODE HERE ####\n",
    "#### Ideally 2 lines ####\n",
    "for i in range(0, len(my_list)):\n",
    "    my_list[i] = my_list[i] *2\n",
    "    \n",
    "#### END CODE HERE ####\n",
    "\n",
    "# Don't change this code!\n",
    "print(\"modified list: {}\".format(my_list))"
   ]
  },
  {
   "cell_type": "markdown",
   "id": "9a72af49",
   "metadata": {},
   "source": [
    "#### Expected output\n",
    "```original list: [1, 2, 3, 4, 5]```<br>\n",
    "```modified list: [2, 4, 6, 8, 10]```"
   ]
  },
  {
   "cell_type": "markdown",
   "id": "a25bad0a",
   "metadata": {},
   "source": [
    "### Exercise 10.3\n",
    "Define a function that prints numbers from `0` to `n` (both included). It takes as input `n` and prints all the numbers from `0` to `n` (both included).\n",
    "<details>    \n",
    "<summary>\n",
    "    <font size=\"3\" color=\"darkgreen\"><b>Hints</b></font>\n",
    "</summary>\n",
    "<p>\n",
    "<ul>\n",
    "    <li> You should find useful how to loop through the index numbers and the <strong>range</strong> function <a href=\"https://www.w3schools.com/python/python_lists_loop.asp\" > link </a></li>\n",
    "</p>"
   ]
  },
  {
   "cell_type": "code",
   "execution_count": 92,
   "id": "6101d072",
   "metadata": {},
   "outputs": [
    {
     "name": "stdout",
     "output_type": "stream",
     "text": [
      "0\n",
      "\n",
      "\n",
      "0\n",
      "1\n",
      "2\n",
      "3\n"
     ]
    }
   ],
   "source": [
    "def my_print_n_fn(n):\n",
    "#### START CODE HERE ####\n",
    "#### Ideally 2 lines ####\n",
    "    for i in range(0, n + 1):\n",
    "        print(i)\n",
    "#### END CODE HERE ####\n",
    "    return\n",
    "\n",
    "# Don't change this code!\n",
    "my_print_n_fn(0)\n",
    "print(\"\\n\")\n",
    "my_print_n_fn(3)"
   ]
  },
  {
   "cell_type": "markdown",
   "id": "951c8280",
   "metadata": {},
   "source": [
    "#### Expected output\n",
    "```0```<br><br>\n",
    "```0```<br>\n",
    "```1```<br>\n",
    "```2```<br>\n",
    "```3```"
   ]
  },
  {
   "cell_type": "markdown",
   "id": "7bfd452e",
   "metadata": {},
   "source": [
    "### Exercise 10.4\n",
    "The dictionary `my_dict` contains **subjects** as **keys** and **marks** as **values**. Define a loop that iterates the dictionary `my_dict`. For each key-value pair, print `\"key: {key}, value: {value}\"`. Replace `{key}` and `{value}` with the current key and value at each iteration.\n",
    "<details>    \n",
    "<summary>\n",
    "    <font size=\"3\" color=\"darkgreen\"><b>Hints</b></font>\n",
    "</summary>\n",
    "<p>\n",
    "<ul>\n",
    "    <li> You should find useful how to loop through  dictionaries<a href=\"https://www.w3schools.com/python/python_dictionaries_loop.asp\" > link </a></li>\n",
    "    <li>You can learn more about string formatting <a href=\"https://www.w3schools.com/python/python_string_formatting.asp\" > here </a></li>\n",
    "</ul>\n",
    "</p>"
   ]
  },
  {
   "cell_type": "code",
   "execution_count": 101,
   "id": "4d231333",
   "metadata": {},
   "outputs": [
    {
     "name": "stdout",
     "output_type": "stream",
     "text": [
      "key:  math ,value:  30\n",
      "key:  history ,value:  27\n",
      "key:  art ,value:  24\n",
      "key:  computer science ,value:  28\n"
     ]
    }
   ],
   "source": [
    "my_dict = {\"math\": 30, \"history\": 27, \"art\":24, \"computer science\": 28}\n",
    "#### START CODE HERE ####\n",
    "#### Ideally 2 lines ####\n",
    "for key, value in my_dict.items():\n",
    "    print(\"key: \", key,\",value: \", value)\n",
    "#### END CODE HERE ####"
   ]
  },
  {
   "cell_type": "markdown",
   "id": "854c22fc",
   "metadata": {},
   "source": [
    "#### Expected output\n",
    "```key: math, value: 30```<br>\n",
    "```key: history, value: 27```<br>\n",
    "```key: art, value: 24```<br>\n",
    "```key: computer science, value: 28```"
   ]
  },
  {
   "cell_type": "markdown",
   "id": "c936ade7",
   "metadata": {},
   "source": [
    "### Exercise 10.5\n",
    "The dictionary `my_dict` contains **subjects** as **keys** and **marks** as **values**. Define a loop that iterates the dictionary `my_dict` and saves in the list `tirty_marks` all the **subjects** with a mark equal to 30 (i.e., all the keys whose value is equal to 30). Count the number of elements with a mark equal to 30 (i.e., values equal to 30) in a variable `count_30`.\n",
    "\n",
    "<details>    \n",
    "<summary>\n",
    "    <font size=\"3\" color=\"darkgreen\"><b>Hints</b></font>\n",
    "</summary>\n",
    "<p>\n",
    "<ul>\n",
    "        <li> You should find useful how to loop through  dictionaries<a href=\"https://www.w3schools.com/python/python_dictionaries_loop.asp\" > link </a></li>\n",
    "</ul>\n",
    "</p>"
   ]
  },
  {
   "cell_type": "code",
   "execution_count": 102,
   "id": "e316d84e",
   "metadata": {},
   "outputs": [
    {
     "name": "stdout",
     "output_type": "stream",
     "text": [
      "Number of exams with a mark of 30: 2\n",
      "Exams subjects with a mark of 30: ['math', 'science']\n"
     ]
    }
   ],
   "source": [
    "count_30 = 0\n",
    "my_dict = {\"math\": 30, \"history\": 27, \"art\":24, \"computer science\": 28, \"science\":30}\n",
    "tirty_marks = []\n",
    "#### START CODE HERE ####\n",
    "#### Ideally 4 lines ####\n",
    "for key, value in my_dict.items():\n",
    "    if value == 30:\n",
    "        tirty_marks.append(key)\n",
    "        count_30 = count_30 + 1\n",
    "        \n",
    "#### END CODE HERE ####\n",
    "\n",
    "# Don't change this code!\n",
    "print(\"Number of exams with a mark of 30:\", count_30)\n",
    "print(\"Exams subjects with a mark of 30:\", tirty_marks)"
   ]
  },
  {
   "cell_type": "markdown",
   "id": "bca976a4",
   "metadata": {},
   "source": [
    "#### Expected output\n",
    "```Number of exams with a mark of 30: 2```<br>\n",
    "```Exams subjects with a mark of 30: ['math', 'science']```"
   ]
  },
  {
   "cell_type": "markdown",
   "id": "839f97c8",
   "metadata": {},
   "source": [
    "### Exercise 10.6\n",
    "Define a loop that iterates the dictionary `my_dict` and **sums** the values **only if they are positive**. Put the **sum** in a variable called `marks_sum`."
   ]
  },
  {
   "cell_type": "code",
   "execution_count": 103,
   "id": "e09d23b5",
   "metadata": {},
   "outputs": [
    {
     "name": "stdout",
     "output_type": "stream",
     "text": [
      "Sum of positive marks 84\n"
     ]
    }
   ],
   "source": [
    "my_dict = {\"math\": 30, \"history\": -1, \"art\":24, \"computer science\": -1, \"science\":30}\n",
    "marks_sum = 0\n",
    "#### START CODE HERE ####\n",
    "#### Ideally 4 lines ####\n",
    "for key, value in my_dict.items():\n",
    "    if value > 0:\n",
    "        marks_sum += value\n",
    "#### END CODE HERE ####\n",
    "\n",
    "# Don't change this code!\n",
    "print(\"Sum of positive marks\", marks_sum)"
   ]
  },
  {
   "cell_type": "markdown",
   "id": "92770bab",
   "metadata": {},
   "source": [
    "#### Expected output\n",
    "```Sum of positive marks 84```"
   ]
  }
 ],
 "metadata": {
  "kernelspec": {
   "display_name": "Python 3",
   "language": "python",
   "name": "python3"
  },
  "language_info": {
   "codemirror_mode": {
    "name": "ipython",
    "version": 3
   },
   "file_extension": ".py",
   "mimetype": "text/x-python",
   "name": "python",
   "nbconvert_exporter": "python",
   "pygments_lexer": "ipython3",
   "version": "3.10.11"
  }
 },
 "nbformat": 4,
 "nbformat_minor": 5
}
