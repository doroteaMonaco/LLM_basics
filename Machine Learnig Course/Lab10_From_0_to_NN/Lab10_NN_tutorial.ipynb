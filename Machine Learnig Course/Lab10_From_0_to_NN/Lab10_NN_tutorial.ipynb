{
 "cells": [
  {
   "cell_type": "markdown",
   "id": "3bc60d50-e3fc-4b7d-9603-c7702f01de68",
   "metadata": {},
   "source": [
    "<center><b><font size=6>Machine Learning for Networking <b><center>\n",
    "<center><b><font size=6>Lab 10 <b><center>\n",
    "<center><b><font size=6>   Neural networks <b><center>"
   ]
  },
  {
   "cell_type": "markdown",
   "id": "466098fa",
   "metadata": {},
   "source": [
    "\n",
    "**Pytorch** is one of the most popular Python library for deep learning tasks and it is highly configurable. In this lab, you will learn how to define a feedforward neural network for supervised problems.\n",
    "\n",
    "Useful link: <a href=\"https://pytorch.org/docs/stable/index.html\">documentation</a>, <a href=\"https://pytorch.org/tutorials/beginner/basics/intro.html\">basics</a>, <a href=\"https://pytorch.org/tutorials/beginner/pytorch_with_examples.html\">examples</a>."
   ]
  },
  {
   "cell_type": "code",
   "execution_count": 79,
   "id": "ac57514c-8374-456d-bb54-d8b6d9e99a95",
   "metadata": {},
   "outputs": [
    {
     "name": "stdout",
     "output_type": "stream",
     "text": [
      "Requirement already satisfied: torch in /opt/homebrew/Caskroom/miniconda/base/envs/ML4Engineering/lib/python3.13/site-packages (2.7.1)\n",
      "Requirement already satisfied: filelock in /opt/homebrew/Caskroom/miniconda/base/envs/ML4Engineering/lib/python3.13/site-packages (from torch) (3.18.0)\n",
      "Requirement already satisfied: typing-extensions>=4.10.0 in /opt/homebrew/Caskroom/miniconda/base/envs/ML4Engineering/lib/python3.13/site-packages (from torch) (4.13.0)\n",
      "Requirement already satisfied: setuptools in /opt/homebrew/Caskroom/miniconda/base/envs/ML4Engineering/lib/python3.13/site-packages (from torch) (80.9.0)\n",
      "Requirement already satisfied: sympy>=1.13.3 in /opt/homebrew/Caskroom/miniconda/base/envs/ML4Engineering/lib/python3.13/site-packages (from torch) (1.14.0)\n",
      "Requirement already satisfied: networkx in /opt/homebrew/Caskroom/miniconda/base/envs/ML4Engineering/lib/python3.13/site-packages (from torch) (3.5)\n",
      "Requirement already satisfied: jinja2 in /opt/homebrew/Caskroom/miniconda/base/envs/ML4Engineering/lib/python3.13/site-packages (from torch) (3.1.6)\n",
      "Requirement already satisfied: fsspec in /opt/homebrew/Caskroom/miniconda/base/envs/ML4Engineering/lib/python3.13/site-packages (from torch) (2025.5.1)\n",
      "Requirement already satisfied: mpmath<1.4,>=1.1.0 in /opt/homebrew/Caskroom/miniconda/base/envs/ML4Engineering/lib/python3.13/site-packages (from sympy>=1.13.3->torch) (1.3.0)\n",
      "Requirement already satisfied: MarkupSafe>=2.0 in /opt/homebrew/Caskroom/miniconda/base/envs/ML4Engineering/lib/python3.13/site-packages (from jinja2->torch) (3.0.2)\n",
      "Requirement already satisfied: torchvision in /opt/homebrew/Caskroom/miniconda/base/envs/ML4Engineering/lib/python3.13/site-packages (0.22.1)\n",
      "Requirement already satisfied: numpy in /opt/homebrew/Caskroom/miniconda/base/envs/ML4Engineering/lib/python3.13/site-packages (from torchvision) (2.2.4)\n",
      "Requirement already satisfied: torch==2.7.1 in /opt/homebrew/Caskroom/miniconda/base/envs/ML4Engineering/lib/python3.13/site-packages (from torchvision) (2.7.1)\n",
      "Requirement already satisfied: pillow!=8.3.*,>=5.3.0 in /opt/homebrew/Caskroom/miniconda/base/envs/ML4Engineering/lib/python3.13/site-packages (from torchvision) (11.1.0)\n",
      "Requirement already satisfied: filelock in /opt/homebrew/Caskroom/miniconda/base/envs/ML4Engineering/lib/python3.13/site-packages (from torch==2.7.1->torchvision) (3.18.0)\n",
      "Requirement already satisfied: typing-extensions>=4.10.0 in /opt/homebrew/Caskroom/miniconda/base/envs/ML4Engineering/lib/python3.13/site-packages (from torch==2.7.1->torchvision) (4.13.0)\n",
      "Requirement already satisfied: setuptools in /opt/homebrew/Caskroom/miniconda/base/envs/ML4Engineering/lib/python3.13/site-packages (from torch==2.7.1->torchvision) (80.9.0)\n",
      "Requirement already satisfied: sympy>=1.13.3 in /opt/homebrew/Caskroom/miniconda/base/envs/ML4Engineering/lib/python3.13/site-packages (from torch==2.7.1->torchvision) (1.14.0)\n",
      "Requirement already satisfied: networkx in /opt/homebrew/Caskroom/miniconda/base/envs/ML4Engineering/lib/python3.13/site-packages (from torch==2.7.1->torchvision) (3.5)\n",
      "Requirement already satisfied: jinja2 in /opt/homebrew/Caskroom/miniconda/base/envs/ML4Engineering/lib/python3.13/site-packages (from torch==2.7.1->torchvision) (3.1.6)\n",
      "Requirement already satisfied: fsspec in /opt/homebrew/Caskroom/miniconda/base/envs/ML4Engineering/lib/python3.13/site-packages (from torch==2.7.1->torchvision) (2025.5.1)\n",
      "Requirement already satisfied: mpmath<1.4,>=1.1.0 in /opt/homebrew/Caskroom/miniconda/base/envs/ML4Engineering/lib/python3.13/site-packages (from sympy>=1.13.3->torch==2.7.1->torchvision) (1.3.0)\n",
      "Requirement already satisfied: MarkupSafe>=2.0 in /opt/homebrew/Caskroom/miniconda/base/envs/ML4Engineering/lib/python3.13/site-packages (from jinja2->torch==2.7.1->torchvision) (3.0.2)\n"
     ]
    }
   ],
   "source": [
    "# To install pytorch. Then restart kernel. \n",
    "# WARNING: it takes around 5 minutes\n",
    "\n",
    "!python -m pip install torch\n",
    "!python -m pip install torchvision"
   ]
  },
  {
   "cell_type": "code",
   "execution_count": 80,
   "id": "41a46e0f",
   "metadata": {},
   "outputs": [
    {
     "name": "stdout",
     "output_type": "stream",
     "text": [
      "2.7.1\n"
     ]
    }
   ],
   "source": [
    "import torch\n",
    "print(torch.__version__)"
   ]
  },
  {
   "cell_type": "markdown",
   "id": "55c806a5",
   "metadata": {},
   "source": [
    "# **PyTorch Basics Tutorial**"
   ]
  },
  {
   "cell_type": "markdown",
   "id": "00c9316e",
   "metadata": {},
   "source": [
    "## 1. Tensors\n",
    "Tensors are similar to NumPy’s ndarrays, with the addition being that Tensors can also be used on a GPU to accelerate computing.\n",
    "\n",
    "### 1.1 Creating Tensors from data\n",
    "Tensors can be created from Python lists with the `torch.Tensor()` function."
   ]
  },
  {
   "cell_type": "code",
   "execution_count": 81,
   "id": "05f3fff7",
   "metadata": {},
   "outputs": [
    {
     "name": "stdout",
     "output_type": "stream",
     "text": [
      "Example with 1-D data\n",
      "tensor([1., 2., 3.])\n",
      "torch.Size([3])\n",
      "\n",
      "Example with 2-D data\n",
      "tensor([[1., 2., 3.],\n",
      "        [4., 5., 6.]])\n",
      "torch.Size([2, 3])\n",
      "\n",
      "Example with 3-D data\n",
      "tensor([[[1., 2.],\n",
      "         [3., 4.]],\n",
      "\n",
      "        [[5., 6.],\n",
      "         [7., 8.]]])\n",
      "torch.Size([2, 2, 2])\n"
     ]
    }
   ],
   "source": [
    "# Example with 1-D data\n",
    "data = [1.0, 2.0, 3.0]\n",
    "tensor = torch.Tensor(data)\n",
    "print(\"Example with 1-D data\")\n",
    "print(tensor)\n",
    "print(tensor.shape)\n",
    "\n",
    "\n",
    "# Example with 2-D data\n",
    "data = [[1., 2., 3.], [4., 5., 6]]\n",
    "tensor = torch.Tensor(data)\n",
    "print(\"\\nExample with 2-D data\")\n",
    "print(tensor)\n",
    "print(tensor.shape)\n",
    "\n",
    "\n",
    "# Example with 3-D data\n",
    "data = [[[1.,2.], [3.,4.]],\n",
    "        [[5.,6.], [7.,8.]]]\n",
    "tensor = torch.Tensor(data)\n",
    "print(\"\\nExample with 3-D data\")\n",
    "print(tensor)\n",
    "print(tensor.shape)\n"
   ]
  },
  {
   "cell_type": "markdown",
   "id": "9a15eb51",
   "metadata": {},
   "source": [
    "### 1.2 Initializing an empty Tensor\n",
    "An uninitialized matrix is declared, but does not contain definite known values before it is used. When an uninitialized matrix is created, whatever values were in the allocated memory at the time will appear as the initial values.\n"
   ]
  },
  {
   "cell_type": "code",
   "execution_count": 82,
   "id": "9b5d0f08",
   "metadata": {},
   "outputs": [
    {
     "name": "stdout",
     "output_type": "stream",
     "text": [
      "tensor([[0., 0., 0.],\n",
      "        [0., 0., 0.]])\n",
      "torch.Size([2, 3])\n"
     ]
    }
   ],
   "source": [
    "# Construct a 2x3 matrix, uninitialized\n",
    "x = torch.empty(2, 3)\n",
    "print(x)\n",
    "print(x.shape)\n"
   ]
  },
  {
   "cell_type": "markdown",
   "id": "b15e9f0c",
   "metadata": {},
   "source": [
    "### 1.3 Randomly initialized Tensor\n",
    "\n"
   ]
  },
  {
   "cell_type": "code",
   "execution_count": 83,
   "id": "55b239b4",
   "metadata": {},
   "outputs": [
    {
     "name": "stdout",
     "output_type": "stream",
     "text": [
      "tensor([[0.6447, 0.2513, 0.5361],\n",
      "        [0.3692, 0.5092, 0.3553]])\n"
     ]
    }
   ],
   "source": [
    "x = torch.rand(2, 3)\n",
    "print(x)"
   ]
  },
  {
   "cell_type": "markdown",
   "id": "4df934d8",
   "metadata": {},
   "source": [
    "### 1.4 Tensor with zeros or ones"
   ]
  },
  {
   "cell_type": "code",
   "execution_count": 84,
   "id": "600a86ee",
   "metadata": {},
   "outputs": [
    {
     "name": "stdout",
     "output_type": "stream",
     "text": [
      "Matrix of zeros\n",
      "tensor([[0., 0., 0.],\n",
      "        [0., 0., 0.]])\n",
      "\n",
      "Matrix of zeros typecasted to long\n",
      "tensor([[0, 0, 0],\n",
      "        [0, 0, 0]])\n",
      "\n",
      "Matrix of ones typecasted to long\n",
      "tensor([[1, 1, 1],\n",
      "        [1, 1, 1]])\n"
     ]
    }
   ],
   "source": [
    "# Create a matrix of all zeros\n",
    "x = torch.zeros(2, 3)\n",
    "print(\"Matrix of zeros\")\n",
    "print(x)\n",
    "\n",
    "# Create a matrix of all zeros and explicitly set data type to be long int\n",
    "x = torch.zeros(2, 3, dtype=torch.long)\n",
    "print(\"\\nMatrix of zeros typecasted to long\")\n",
    "print(x)\n",
    "\n",
    "x = torch.ones(2, 3, dtype=torch.long)\n",
    "print(\"\\nMatrix of ones typecasted to long\")\n",
    "print(x)\n"
   ]
  },
  {
   "cell_type": "markdown",
   "id": "7a1ef2dc",
   "metadata": {},
   "source": [
    "### 1.5 Create Tensor based on existing Tensor"
   ]
  },
  {
   "cell_type": "code",
   "execution_count": 85,
   "id": "72c31c26",
   "metadata": {},
   "outputs": [
    {
     "name": "stdout",
     "output_type": "stream",
     "text": [
      "tensor([[1, 1, 1],\n",
      "        [1, 1, 1]])\n",
      "tensor([[1., 1., 1.],\n",
      "        [1., 1., 1.]], dtype=torch.float64)\n",
      "tensor([[-0.1560,  1.3835,  0.1100],\n",
      "        [ 0.5011, -1.2929, -0.2509]])\n"
     ]
    }
   ],
   "source": [
    "x = torch.ones(2, 3, dtype=torch.long)\n",
    "print(x)\n",
    "\n",
    "x = x.new_ones(2,3, dtype=torch.double)      # new_* methods take in sizes\n",
    "print(x)\n",
    "\n",
    "x = torch.randn_like(x, dtype=torch.float)    # override dtype!\n",
    "print(x)                                      # result has the same size"
   ]
  },
  {
   "cell_type": "markdown",
   "id": "fc28057f",
   "metadata": {},
   "source": [
    "### 1.6 Operations with Tensors\n",
    "Most operations are very similar to NumPy."
   ]
  },
  {
   "cell_type": "code",
   "execution_count": 86,
   "id": "3e48a2cc",
   "metadata": {},
   "outputs": [
    {
     "name": "stdout",
     "output_type": "stream",
     "text": [
      "tensor([5., 7., 9.])\n",
      "tensor([5., 7., 9.])\n",
      "tensor([5., 7., 9.])\n"
     ]
    },
    {
     "name": "stderr",
     "output_type": "stream",
     "text": [
      "/var/folders/yf/khhcc0jx1pg909227gmwfjk00000gn/T/ipykernel_91253/1344850032.py:14: UserWarning: An output with one or more elements was resized since it had shape [2, 3], which does not match the required output shape [3]. This behavior is deprecated, and in a future PyTorch release outputs will not be resized unless they have zero elements. You can explicitly reuse an out tensor t by resizing it, inplace, to zero elements with t.resize_(0). (Triggered internally at /Users/runner/work/pytorch/pytorch/pytorch/aten/src/ATen/native/Resize.cpp:37.)\n",
      "  torch.add(x, y, out=output)\n"
     ]
    }
   ],
   "source": [
    "# Addition\n",
    "x = torch.Tensor([ 1., 2., 3. ])\n",
    "y = torch.Tensor([ 4., 5., 6. ])\n",
    "\n",
    "# using arithmetic operation\n",
    "z = x + y\n",
    "print(z)\n",
    "\n",
    "# using method\n",
    "print(torch.add(x, y))\n",
    "\n",
    "# using method and providing an output tensor as argument\n",
    "output = torch.empty(2, 3)\n",
    "torch.add(x, y, out=output)\n",
    "print(output)"
   ]
  },
  {
   "cell_type": "code",
   "execution_count": 87,
   "id": "801f89ed",
   "metadata": {},
   "outputs": [
    {
     "name": "stdout",
     "output_type": "stream",
     "text": [
      "tensor([5., 7., 9.])\n"
     ]
    }
   ],
   "source": [
    "# In-place addition\n",
    "\n",
    "x = torch.Tensor([ 1., 2., 3. ])\n",
    "y = torch.Tensor([ 4., 5., 6. ])\n",
    "\n",
    "y.add_(x)\n",
    "print(y)"
   ]
  },
  {
   "cell_type": "markdown",
   "id": "48db0056",
   "metadata": {},
   "source": [
    "Any operation that mutates a tensor in-place is post-fixed with an underscore `_`. For example: `x.copy_(y)`, `x.t_()`, will change `x`.\n",
    "\n",
    "See [the PyTorch official documentation](http://pytorch.org/docs/torch.html) for a complete list of the massive number of operations available to you.  They expand beyond just mathematical operations.\n"
   ]
  },
  {
   "cell_type": "code",
   "execution_count": 88,
   "id": "0e2e6325",
   "metadata": {},
   "outputs": [
    {
     "name": "stdout",
     "output_type": "stream",
     "text": [
      "tensor([2., 5.])\n"
     ]
    }
   ],
   "source": [
    "# Indexing\n",
    "\n",
    "x = torch.Tensor([[1., 2., 3.], [4., 5., 6]])\n",
    "print(x[:, 1]) # Gets column with index 1"
   ]
  },
  {
   "cell_type": "markdown",
   "id": "04d33cd2",
   "metadata": {},
   "source": [
    "### 1.7 Reshaping Tensors"
   ]
  },
  {
   "cell_type": "code",
   "execution_count": 89,
   "id": "43364c23",
   "metadata": {},
   "outputs": [
    {
     "name": "stdout",
     "output_type": "stream",
     "text": [
      "torch.Size([4, 4])\n",
      "tensor([[-0.5403,  0.5017, -0.8261,  2.0749],\n",
      "        [ 2.1834, -0.3676,  0.2247, -0.7759],\n",
      "        [-0.7257, -0.9951,  1.0797,  0.7874],\n",
      "        [ 0.4504, -0.8960,  0.8085, -1.6091]])\n",
      "torch.Size([16])\n",
      "tensor([-0.5403,  0.5017, -0.8261,  2.0749,  2.1834, -0.3676,  0.2247, -0.7759,\n",
      "        -0.7257, -0.9951,  1.0797,  0.7874,  0.4504, -0.8960,  0.8085, -1.6091])\n",
      "torch.Size([2, 8])\n",
      "tensor([[-0.5403,  0.5017, -0.8261,  2.0749,  2.1834, -0.3676,  0.2247, -0.7759],\n",
      "        [-0.7257, -0.9951,  1.0797,  0.7874,  0.4504, -0.8960,  0.8085, -1.6091]])\n"
     ]
    }
   ],
   "source": [
    "x = torch.randn(4, 4)\n",
    "print(x.size())\n",
    "print(x)\n",
    "y = x.view(16)\n",
    "print(y.size())\n",
    "print(y)\n",
    "z = x.view(-1, 8)  # the size -1 is inferred from other dimensions\n",
    "print(z.size())\n",
    "print(z)"
   ]
  },
  {
   "cell_type": "code",
   "execution_count": 90,
   "id": "b26e203f",
   "metadata": {},
   "outputs": [
    {
     "name": "stdout",
     "output_type": "stream",
     "text": [
      "tensor([0.0094])\n",
      "0.00939965806901455\n"
     ]
    }
   ],
   "source": [
    "x = torch.randn(1)\n",
    "print(x)\n",
    "print(x.item())"
   ]
  },
  {
   "cell_type": "markdown",
   "id": "bd51d7a6",
   "metadata": {},
   "source": [
    "### 1.9 Converting to and from NumPy\n",
    "Converting a Torch Tensor to a NumPy array and vice versa is a breeze.\n",
    "\n",
    "The Torch Tensor and NumPy array will **share their underlying memory locations** (if the Torch Tensor is on CPU), and **changing one will change the other**.\n",
    "\n"
   ]
  },
  {
   "cell_type": "code",
   "execution_count": 91,
   "id": "8bc5e0b0",
   "metadata": {},
   "outputs": [
    {
     "name": "stdout",
     "output_type": "stream",
     "text": [
      "Original a: tensor([1., 1., 1., 1., 1.])\n",
      "Original b: [1. 1. 1. 1. 1.]\n",
      "New a: tensor([2., 2., 2., 2., 2.])\n",
      "New b: [2. 2. 2. 2. 2.]\n"
     ]
    }
   ],
   "source": [
    "a = torch.ones(5)\n",
    "print(\"Original a:\", a)\n",
    "\n",
    "b = a.numpy()\n",
    "print(\"Original b:\", b)\n",
    "\n",
    "a.add_(1)\n",
    "print(\"New a:\", a)\n",
    "print(\"New b:\", b)"
   ]
  },
  {
   "cell_type": "code",
   "execution_count": 92,
   "id": "24b55077",
   "metadata": {},
   "outputs": [
    {
     "name": "stdout",
     "output_type": "stream",
     "text": [
      "[2. 2. 2. 2. 2.]\n",
      "tensor([2., 2., 2., 2., 2.], dtype=torch.float64)\n"
     ]
    }
   ],
   "source": [
    "import numpy as np\n",
    "a = np.ones(5)\n",
    "b = torch.from_numpy(a)\n",
    "np.add(a, 1, out=a)\n",
    "print(a)\n",
    "print(b)"
   ]
  },
  {
   "cell_type": "markdown",
   "id": "c0e68b8b",
   "metadata": {},
   "source": [
    "### 1.10. CUDA Tensors\n",
    "\n",
    "Tensors can be moved onto any device using the `.to` method.\n"
   ]
  },
  {
   "cell_type": "code",
   "execution_count": 93,
   "id": "8bdcb7b9",
   "metadata": {},
   "outputs": [
    {
     "name": "stdout",
     "output_type": "stream",
     "text": [
      "CUDA available? False\n"
     ]
    }
   ],
   "source": [
    "# Try to run this cell with both GPU support and without\n",
    "import torch\n",
    "print(\"CUDA available?\", torch.cuda.is_available())\n",
    "\n",
    "# We will use ``torch.device`` objects to move tensors in and out of GPU\n",
    "if torch.cuda.is_available():\n",
    "    device = torch.device(\"cuda\")          # a CUDA device object\n",
    "    x = torch.Tensor([1.0, 2.0, 3.0])\n",
    "    y = torch.ones_like(x, device=device)  # directly create a tensor on GPU\n",
    "    x = x.to(device)                       # or just use strings ``.to(\"cuda\")``\n",
    "    z = x + y\n",
    "    print(z)\n",
    "    print(z.to(\"cpu\", torch.double))       # ``.to`` can also change dtype together!"
   ]
  },
  {
   "cell_type": "markdown",
   "id": "90d6d5a5",
   "metadata": {},
   "source": [
    "## 2. Autograd: Automatic Differentiation\n",
    "\n",
    "The autograd package provides automatic differentiation for all operations on Tensors. It is a define-by-run framework, which means that your backprop is defined by how your code is run, and that every single iteration can be different.\n",
    "\n",
    "``torch.Tensor`` is the central class of the package. If you set its attribute\n",
    "``.requires_grad`` as ``True``, it **starts to track all operations on it**. When\n",
    "you finish your computation you can call ``.backward()`` and have **all the\n",
    "gradients computed automatically**. The gradient for this tensor will be\n",
    "accumulated into ``.grad`` attribute."
   ]
  },
  {
   "cell_type": "markdown",
   "id": "619eaab0",
   "metadata": {},
   "source": [
    "To **stop a tensor from tracking history**, you can call ``.detach()`` to detach\n",
    "it from the computation history, and to prevent future computation from being\n",
    "tracked."
   ]
  },
  {
   "cell_type": "markdown",
   "id": "502f635a",
   "metadata": {},
   "source": [
    "To **prevent tracking history (and using memory)**, you can also wrap the code block\n",
    "in ``with torch.no_grad():``. This can be particularly helpful when evaluating a\n",
    "model because the model may have trainable parameters with `requires_grad=True`,\n",
    "but for which we don't need the gradients."
   ]
  },
  {
   "cell_type": "code",
   "execution_count": 94,
   "id": "cc4e02ca",
   "metadata": {},
   "outputs": [
    {
     "name": "stdout",
     "output_type": "stream",
     "text": [
      "tensor([[1., 1.],\n",
      "        [1., 1.]], requires_grad=True)\n"
     ]
    }
   ],
   "source": [
    "import torch\n",
    "x = torch.ones(2, 2, requires_grad=True)\n",
    "print(x)"
   ]
  },
  {
   "cell_type": "code",
   "execution_count": 95,
   "id": "33ad6bec",
   "metadata": {},
   "outputs": [
    {
     "name": "stdout",
     "output_type": "stream",
     "text": [
      "tensor([[3., 3.],\n",
      "        [3., 3.]], grad_fn=<AddBackward0>)\n"
     ]
    }
   ],
   "source": [
    "y = x + 2\n",
    "print(y)\n",
    "\n",
    "# y was created as a result of an operation, so it has a grad_fn."
   ]
  },
  {
   "cell_type": "code",
   "execution_count": 96,
   "id": "adbeafef",
   "metadata": {},
   "outputs": [
    {
     "name": "stdout",
     "output_type": "stream",
     "text": [
      "tensor([[27., 27.],\n",
      "        [27., 27.]], grad_fn=<MulBackward0>) tensor(27., grad_fn=<MeanBackward0>)\n"
     ]
    }
   ],
   "source": [
    "z = y * y * 3\n",
    "out = z.mean()\n",
    "\n",
    "print(z, out)"
   ]
  },
  {
   "cell_type": "markdown",
   "id": "a73a5d8d",
   "metadata": {},
   "source": [
    "``.requires_grad_( ... )`` changes an existing Tensor's ``requires_grad``\n",
    "flag in-place. The input flag defaults to ``False`` if not given.\n",
    "\n"
   ]
  },
  {
   "cell_type": "code",
   "execution_count": 97,
   "id": "fbc1a6d2",
   "metadata": {},
   "outputs": [
    {
     "name": "stdout",
     "output_type": "stream",
     "text": [
      "False\n",
      "True\n",
      "True\n",
      "<SumBackward0 object at 0x16c0e73d0>\n"
     ]
    }
   ],
   "source": [
    "a = torch.randn(2, 2)\n",
    "a = ((a * 3) / (a - 1))\n",
    "print(a.requires_grad)\n",
    "a.requires_grad_(True)\n",
    "print(a.requires_grad)\n",
    "b = (a * a).sum() # 'b' has automatic differentiation enabled beacuse 'a' does\n",
    "print(b.requires_grad)\n",
    "print(b.grad_fn)"
   ]
  },
  {
   "cell_type": "markdown",
   "id": "20254fe2",
   "metadata": {},
   "source": [
    "Let us consider a complete example now.\n",
    "\n",
    "Let $out = \\frac{1}{4}\\sum_i z_i$,  \n",
    "$z_i = 3(x_i+2)^2$  \n",
    "and $z_i\\bigr\\rvert_{x_i=1} = 27$.  \n",
    "Therefore,  \n",
    "$\\frac{\\partial out}{\\partial x_i} = \\frac{1}{4}\\frac{\\partial z_i}{\\partial x_i} = \\frac{1}{4}.3.2(x_i+2) = \\frac{3}{2}(x_i+2)$,  \n",
    " hence  \n",
    "$\\frac{\\partial out}{\\partial x_i}\\bigr\\rvert_{x_i=1} = \\frac{9}{2} = 4.5$.\n",
    "\n"
   ]
  },
  {
   "cell_type": "code",
   "execution_count": 98,
   "id": "1be1837e",
   "metadata": {},
   "outputs": [
    {
     "name": "stdout",
     "output_type": "stream",
     "text": [
      "tensor([[4.5000, 4.5000],\n",
      "        [4.5000, 4.5000]])\n"
     ]
    }
   ],
   "source": [
    "x = torch.ones(2, 2, requires_grad=True)\n",
    "y = x + 2\n",
    "z = y * y * 3\n",
    "out = z.mean()\n",
    "\n",
    "out.backward()\n",
    "print(x.grad)\n"
   ]
  },
  {
   "cell_type": "markdown",
   "id": "aeaa3098",
   "metadata": {},
   "source": [
    "You can also stop autograd from tracking history on Tensors with `.requires_grad=True` either by wrapping the code block in with `torch.no_grad()`:"
   ]
  },
  {
   "cell_type": "code",
   "execution_count": 99,
   "id": "0539e917",
   "metadata": {},
   "outputs": [
    {
     "name": "stdout",
     "output_type": "stream",
     "text": [
      "True\n",
      "True\n",
      "False\n"
     ]
    }
   ],
   "source": [
    "print(x.requires_grad)\n",
    "print((x ** 2).requires_grad)\n",
    "\n",
    "with torch.no_grad():\n",
    "    print((x ** 2).requires_grad)"
   ]
  },
  {
   "cell_type": "markdown",
   "id": "4805a3ae",
   "metadata": {},
   "source": [
    "Every time a variable is back propogated through, the gradient will be accumulated instead of being replaced. Calling `tensor.grad_zero()` would reset the gradients that have accumulated to 0.\n"
   ]
  },
  {
   "cell_type": "markdown",
   "id": "c478461e-f007-4342-a199-e3562f6ca992",
   "metadata": {
    "tags": []
   },
   "source": [
    "## LAB objective: define and train neural network models using Pytorch"
   ]
  },
  {
   "cell_type": "code",
   "execution_count": 100,
   "id": "efbbbbbe-293d-4070-9447-5e9fcdfb0cd4",
   "metadata": {},
   "outputs": [],
   "source": [
    "# import needed python libraries\n",
    "import matplotlib.pyplot as plt\n",
    "import seaborn as sns\n",
    "import pandas as pd\n",
    "import numpy as np\n",
    "import random \n",
    "from sklearn.preprocessing import StandardScaler\n",
    "from sklearn.model_selection import train_test_split\n",
    "\n",
    "import torch\n",
    "from torch import nn\n",
    "import torch.nn.functional as F\n",
    "from torchvision.datasets import MNIST\n",
    "from torchvision import transforms"
   ]
  },
  {
   "cell_type": "markdown",
   "id": "c2ffcb2f-69a6-4afa-b1e5-3531d603312e",
   "metadata": {
    "tags": []
   },
   "source": [
    "## 1. Tutorial - Neural networks for classifying hand-written digits\n",
    "We will use the MNIST dataset, which is a well-known image dataset for studying neural networks.\n",
    "It contains 70000 images (28x28 greyscale) of hand-written digit numbers from 0 to 9, and you need to define and train a neural network hypothesis to classify the image to the corresponding number."
   ]
  },
  {
   "cell_type": "code",
   "execution_count": 101,
   "id": "faf04635-6da2-4c0a-83dc-a6aed91756c1",
   "metadata": {},
   "outputs": [
    {
     "data": {
      "text/plain": [
       "(50000, 10000, 10000)"
      ]
     },
     "execution_count": 101,
     "metadata": {},
     "output_type": "execute_result"
    }
   ],
   "source": [
    "# load data and split into train, validation and test\n",
    "# the snippet here is customized for MNIST dataset, you don't have to know how it works exactly\n",
    "\n",
    "transform = transforms.Compose([\n",
    "    transforms.ToTensor(),\n",
    "    transforms.Normalize((0.1307,), (0.3081,)) # mean and stardard deviation, already computed for MNIST dataset\n",
    "])\n",
    "\n",
    "dataset = MNIST('data_lab10/train', train=True, download=True, transform=transform)\n",
    "dataset_test = MNIST('data_lab10/test', train=False, download=True, transform=transform)\n",
    "\n",
    "# Further split intro training and validation set\n",
    "dataset_train, dataset_val = torch.utils.data.random_split(dataset, [int(len(dataset)*5/6), int(len(dataset)/6)])\n",
    "\n",
    "len(dataset_train), len(dataset_val), len(dataset_test)"
   ]
  },
  {
   "cell_type": "markdown",
   "id": "2dae6a29-7924-4f92-89b7-464a924a0955",
   "metadata": {},
   "source": [
    " We can visualize a random sample of the dataset. Run the cell multiple times to see different samples."
   ]
  },
  {
   "cell_type": "code",
   "execution_count": 102,
   "id": "02802a15-09cf-4da4-b053-702ec6993b04",
   "metadata": {},
   "outputs": [
    {
     "data": {
      "image/png": "[encoded data removed]",
      "text/plain": [
       "<Figure size 640x480 with 1 Axes>"
      ]
     },
     "metadata": {},
     "output_type": "display_data"
    }
   ],
   "source": [
    "plt.figure()\n",
    "n = random.randint(0, len(dataset_train)) #a random index\n",
    "plt.imshow(dataset_train[n][0][0, :], cmap='Greys') # this is a 28x28 image. We represent it as grayscale (it is not RGB image)\n",
    "plt.title(f'The number is {dataset_train[n][1]}')\n",
    "plt.show()"
   ]
  },
  {
   "cell_type": "markdown",
   "id": "b16cc772-2b90-412f-aaf6-b96ca2bbbbe5",
   "metadata": {},
   "source": [
    " We define a function to compute accuracy and plot confusion matrix. We will use them multiple times later."
   ]
  },
  {
   "cell_type": "code",
   "execution_count": 103,
   "id": "a6e73e32-8c73-4b1a-835a-0af1676f6ef0",
   "metadata": {},
   "outputs": [],
   "source": [
    "# define the function that calculate the accuracy\n",
    "def accuracy_fn(y_true, y_pred):\n",
    "    correct = torch.eq(y_true, y_pred).sum().item()\n",
    "    acc = (correct / len(y_pred))\n",
    "    return acc\n",
    "\n",
    "# function to compute and plot the confusion matrix\n",
    "def confusion_matrix(y_true, y_pred):\n",
    "    df = pd.DataFrame([x for x in zip([x.item() for x in y_true], [x.item() for x in y_pred])], columns=['y_true', 'y_pred'])\n",
    "    df[['samples']] = 1\n",
    "    confusion = pd.pivot_table(df, index='y_true', columns='y_pred', values='samples', aggfunc=sum)\n",
    "    plt.figure()\n",
    "    sns.heatmap(confusion, cmap='Blues', annot=True, cbar_kws={'label':'Occurrences'}, fmt='g')\n",
    "    plt.xlabel('Prediction')\n",
    "    plt.ylabel('True')    \n",
    "    plt.title('Confusion matrix')\n",
    "    plt.show()"
   ]
  },
  {
   "cell_type": "markdown",
   "id": "a3f70f8b-819e-440a-a731-c81c52376798",
   "metadata": {},
   "source": [
    " Transform data into tensors and generate features and labels for train, validation and test."
   ]
  },
  {
   "cell_type": "code",
   "execution_count": 104,
   "id": "3d2e54e0-ee7c-46fc-bbf5-83ba13bbbd2d",
   "metadata": {},
   "outputs": [],
   "source": [
    "#transform data into tensor X and tensor y\n",
    "def get_data_label(dataset):\n",
    "    # Initialize lists to store training data and labels\n",
    "    data = []\n",
    "    labels = []\n",
    "    \n",
    "    # Iterate through the dataset to extract data and labels\n",
    "    for datum, label in dataset:\n",
    "        data.append(datum)\n",
    "        labels.append(torch.tensor([label]))\n",
    "    \n",
    "    # Concatenate the data and labels lists into tensors\n",
    "    data = torch.cat(data, dim=0)\n",
    "    labels = torch.cat(labels)\n",
    "    \n",
    "    return data, labels"
   ]
  },
  {
   "cell_type": "code",
   "execution_count": 105,
   "id": "e1580d03-c512-4a09-85cb-6d68ec9c0dfa",
   "metadata": {},
   "outputs": [
    {
     "name": "stdout",
     "output_type": "stream",
     "text": [
      "Training data shape: torch.Size([50000, 28, 28]), Training labels shape: torch.Size([50000])\n"
     ]
    }
   ],
   "source": [
    "X_train, y_train = get_data_label(dataset_train)\n",
    "print(f\"Training data shape: {X_train.shape}, Training labels shape: {y_train.shape}\")\n",
    "X_val, y_val = get_data_label(dataset_val)\n",
    "X_test, y_test = get_data_label(dataset_test)"
   ]
  },
  {
   "cell_type": "markdown",
   "id": "f0b7292a-618a-4bde-9bc2-8a244a75aac5",
   "metadata": {},
   "source": [
    " The model architecture we are defining is a feed-forward neural network. It takes the input, feeds it through two hidden layers one after the other, and then finally gives the output. The input layer has many neurons as the pixels of the images, i.e., 28x28=784 neurons. The first hidden layer has 784 neurons and uses a tanh activation function. The second layer has 392 neurons and uses a tanh activation function. The output layer has 10 neurons, with softmax activation function.\n",
    "\n",
    "![](basic_NN.png)"
   ]
  },
  {
   "cell_type": "markdown",
   "id": "fe37aa02-9916-4927-86fb-7621629b511a",
   "metadata": {},
   "source": [
    "#### A typical training procedure for a neural network is as follows:\n",
    "1. Define the neural network, the loss function and the optimizer\n",
    "2. Iterate over a dataset of training inputs (training epochs)\n",
    "3. Forward step: process input through the network\n",
    "4. Compute the loss (empirical risk) \n",
    "5. Backward step (backpropagation): Compute and propagate gradients back into the network’s parameters\n",
    "6. Update the weights of the network, typically using a variation of gradient descent step: $weight = weight - learning \\ rate \\times gradient$"
   ]
  },
  {
   "cell_type": "code",
   "execution_count": 106,
   "id": "321d657f-8450-4624-a4a6-34ed98aecd46",
   "metadata": {},
   "outputs": [],
   "source": [
    "# Define the neural network in the picture\n",
    "\n",
    "class Model_classification(nn.Module): # a class that inherits from the module of pytorch neural network \n",
    "    def __init__(\n",
    "        self, \n",
    "        in_features, # number of input features\n",
    "        out_features, # number of output features\n",
    "        hidden_1, # number of neurons in the 1st hidden layer\n",
    "        hidden_2 # number of neurons in the 2nd hidden layer\n",
    "    ):\n",
    "        super().__init__()\n",
    "        self.layer_1 = nn.Linear(in_features=in_features, out_features=hidden_1) # 1st linear layer\n",
    "        self.layer_2 = nn.Linear(in_features=hidden_1, out_features=hidden_2) # 2nd linear layer\n",
    "        self.layer_output = nn.Linear(in_features=hidden_2, out_features=out_features) # output layer\n",
    "        self.activation_1 = nn.Tanh() # activation function\n",
    "        self.activation_2 = nn.Softmax() # activation function\n",
    "\n",
    "    # define feedforward process\n",
    "    def forward(self, x):\n",
    "        x = x.flatten(start_dim=1) #to go from 28x28 image tensor to 784 input tensor\n",
    "        out = self.activation_1(self.layer_1(x)) #output of 1st hidden layer\n",
    "        out = self.activation_1(self.layer_2(out)) #output of 2nd hidden layer\n",
    "        out = self.activation_2(self.layer_output(out)) #output of the nn\n",
    "        return out"
   ]
  },
  {
   "cell_type": "markdown",
   "id": "b3437e49-1fcb-4ac0-bd1c-cf20537ea89d",
   "metadata": {},
   "source": [
    "- For loss function, we are going to use the cross entropy loss\n",
    "- For optimizer, the ADAM optimizer (a variant of classic gradient descent  https://en.wikipedia.org/wiki/Stochastic_gradient_descent#Adam)"
   ]
  },
  {
   "cell_type": "code",
   "execution_count": 107,
   "id": "e7bc5edd-0345-475b-b8a9-dfe9380bf0c8",
   "metadata": {},
   "outputs": [],
   "source": [
    "# set a random seed \n",
    "torch.manual_seed(8)\n",
    "\n",
    "# initialize the model with the correspoding parameters\n",
    "dim_features = len(dataset_train[0][0].flatten())\n",
    "model = Model_classification(\n",
    "    in_features = dim_features, \n",
    "    out_features = 10, \n",
    "    hidden_1 = dim_features, \n",
    "    hidden_2 = int(dim_features / 2)\n",
    ")\n",
    "\n",
    "# define the loss function\n",
    "loss_fn = nn.CrossEntropyLoss()\n",
    "\n",
    "# define the optimizer (pass the parameters (model) that you want to optimize, and the learning rate)\n",
    "optimizer = torch.optim.Adam(params=model.parameters(), lr=1e-3) "
   ]
  },
  {
   "cell_type": "markdown",
   "id": "17e7003a-17bd-4126-aac4-633d74865715",
   "metadata": {},
   "source": [
    "Let's train the network for 10 epochs and keep track of the loss and accuracy on the training and validation after each epoch.\n",
    "\n",
    "**Note** : if you run the following cell multiple times, the weights will not be re-initialized. Hence, you will continue the previous training each time. If you want to re-initialize the weights, re-define the model (i.e., run the previous cell)"
   ]
  },
  {
   "cell_type": "code",
   "execution_count": 108,
   "id": "075fa316-6f96-420b-89c4-3e61122aa517",
   "metadata": {},
   "outputs": [
    {
     "name": "stdout",
     "output_type": "stream",
     "text": [
      "Epoch: 0 | Train Loss: 2.30380, Val Loss: 2.20155, Train Acc: 0.62, Val Acc: 0.62\n",
      "Epoch: 1 | Train Loss: 2.20207, Val Loss: 2.07428, Train Acc: 0.60, Val Acc: 0.60\n",
      "Epoch: 2 | Train Loss: 2.07652, Val Loss: 1.96530, Train Acc: 0.66, Val Acc: 0.67\n",
      "Epoch: 3 | Train Loss: 1.96727, Val Loss: 1.87528, Train Acc: 0.74, Val Acc: 0.74\n",
      "Epoch: 4 | Train Loss: 1.87714, Val Loss: 1.81259, Train Acc: 0.77, Val Acc: 0.77\n",
      "Epoch: 5 | Train Loss: 1.81481, Val Loss: 1.76950, Train Acc: 0.79, Val Acc: 0.79\n",
      "Epoch: 6 | Train Loss: 1.77182, Val Loss: 1.73050, Train Acc: 0.81, Val Acc: 0.81\n",
      "Epoch: 7 | Train Loss: 1.73276, Val Loss: 1.70051, Train Acc: 0.83, Val Acc: 0.83\n",
      "Epoch: 8 | Train Loss: 1.70286, Val Loss: 1.67712, Train Acc: 0.84, Val Acc: 0.85\n",
      "Epoch: 9 | Train Loss: 1.67936, Val Loss: 1.65734, Train Acc: 0.86, Val Acc: 0.86\n",
      "Epoch: 10 | Train Loss: 1.65921, Val Loss: 1.64157, Train Acc: 0.87, Val Acc: 0.87\n",
      "Epoch: 11 | Train Loss: 1.64315, Val Loss: 1.62834, Train Acc: 0.87, Val Acc: 0.87\n",
      "Epoch: 12 | Train Loss: 1.62974, Val Loss: 1.61710, Train Acc: 0.88, Val Acc: 0.88\n",
      "Epoch: 13 | Train Loss: 1.61822, Val Loss: 1.60776, Train Acc: 0.88, Val Acc: 0.88\n",
      "Epoch: 14 | Train Loss: 1.60852, Val Loss: 1.60010, Train Acc: 0.89, Val Acc: 0.89\n",
      "Epoch: 15 | Train Loss: 1.60057, Val Loss: 1.59413, Train Acc: 0.89, Val Acc: 0.89\n",
      "Epoch: 16 | Train Loss: 1.59440, Val Loss: 1.58935, Train Acc: 0.89, Val Acc: 0.89\n",
      "Epoch: 17 | Train Loss: 1.58939, Val Loss: 1.58499, Train Acc: 0.89, Val Acc: 0.89\n",
      "Epoch: 18 | Train Loss: 1.58468, Val Loss: 1.58100, Train Acc: 0.90, Val Acc: 0.90\n",
      "Epoch: 19 | Train Loss: 1.58026, Val Loss: 1.57775, Train Acc: 0.90, Val Acc: 0.90\n",
      "Epoch: 20 | Train Loss: 1.57655, Val Loss: 1.57503, Train Acc: 0.90, Val Acc: 0.90\n",
      "Epoch: 21 | Train Loss: 1.57346, Val Loss: 1.57218, Train Acc: 0.90, Val Acc: 0.90\n",
      "Epoch: 22 | Train Loss: 1.57043, Val Loss: 1.56919, Train Acc: 0.91, Val Acc: 0.90\n",
      "Epoch: 23 | Train Loss: 1.56742, Val Loss: 1.56649, Train Acc: 0.91, Val Acc: 0.91\n",
      "Epoch: 24 | Train Loss: 1.56480, Val Loss: 1.56409, Train Acc: 0.91, Val Acc: 0.91\n",
      "Epoch: 25 | Train Loss: 1.56248, Val Loss: 1.56180, Train Acc: 0.91, Val Acc: 0.91\n",
      "Epoch: 26 | Train Loss: 1.56019, Val Loss: 1.55970, Train Acc: 0.91, Val Acc: 0.91\n",
      "Epoch: 27 | Train Loss: 1.55798, Val Loss: 1.55794, Train Acc: 0.91, Val Acc: 0.91\n",
      "Epoch: 28 | Train Loss: 1.55605, Val Loss: 1.55637, Train Acc: 0.92, Val Acc: 0.91\n",
      "Epoch: 29 | Train Loss: 1.55432, Val Loss: 1.55475, Train Acc: 0.92, Val Acc: 0.92\n",
      "Epoch: 30 | Train Loss: 1.55255, Val Loss: 1.55309, Train Acc: 0.92, Val Acc: 0.92\n",
      "Epoch: 31 | Train Loss: 1.55078, Val Loss: 1.55154, Train Acc: 0.92, Val Acc: 0.92\n",
      "Epoch: 32 | Train Loss: 1.54912, Val Loss: 1.55012, Train Acc: 0.92, Val Acc: 0.92\n",
      "Epoch: 33 | Train Loss: 1.54753, Val Loss: 1.54884, Train Acc: 0.92, Val Acc: 0.92\n",
      "Epoch: 34 | Train Loss: 1.54600, Val Loss: 1.54772, Train Acc: 0.93, Val Acc: 0.92\n",
      "Epoch: 35 | Train Loss: 1.54458, Val Loss: 1.54667, Train Acc: 0.93, Val Acc: 0.92\n",
      "Epoch: 36 | Train Loss: 1.54326, Val Loss: 1.54559, Train Acc: 0.93, Val Acc: 0.92\n",
      "Epoch: 37 | Train Loss: 1.54196, Val Loss: 1.54445, Train Acc: 0.93, Val Acc: 0.92\n",
      "Epoch: 38 | Train Loss: 1.54067, Val Loss: 1.54332, Train Acc: 0.93, Val Acc: 0.93\n",
      "Epoch: 39 | Train Loss: 1.53945, Val Loss: 1.54223, Train Acc: 0.93, Val Acc: 0.93\n",
      "Epoch: 40 | Train Loss: 1.53826, Val Loss: 1.54117, Train Acc: 0.93, Val Acc: 0.93\n",
      "Epoch: 41 | Train Loss: 1.53709, Val Loss: 1.54018, Train Acc: 0.93, Val Acc: 0.93\n",
      "Epoch: 42 | Train Loss: 1.53596, Val Loss: 1.53928, Train Acc: 0.93, Val Acc: 0.93\n",
      "Epoch: 43 | Train Loss: 1.53487, Val Loss: 1.53842, Train Acc: 0.94, Val Acc: 0.93\n",
      "Epoch: 44 | Train Loss: 1.53382, Val Loss: 1.53758, Train Acc: 0.94, Val Acc: 0.93\n",
      "Epoch: 45 | Train Loss: 1.53279, Val Loss: 1.53675, Train Acc: 0.94, Val Acc: 0.93\n",
      "Epoch: 46 | Train Loss: 1.53179, Val Loss: 1.53593, Train Acc: 0.94, Val Acc: 0.93\n",
      "Epoch: 47 | Train Loss: 1.53082, Val Loss: 1.53512, Train Acc: 0.94, Val Acc: 0.93\n",
      "Epoch: 48 | Train Loss: 1.52987, Val Loss: 1.53435, Train Acc: 0.94, Val Acc: 0.93\n",
      "Epoch: 49 | Train Loss: 1.52895, Val Loss: 1.53361, Train Acc: 0.94, Val Acc: 0.93\n"
     ]
    }
   ],
   "source": [
    "# training process\n",
    "\n",
    "loss_train_all = []\n",
    "loss_val_all = []\n",
    "acc_train_all = []\n",
    "acc_val_all = []\n",
    "epochs = 50\n",
    "\n",
    "# Iterate over a dataset of inputs (training epochs)\n",
    "for epoch in range(epochs):\n",
    "\n",
    "    # model training phase\n",
    "    model.train() #initialize training phase \n",
    "    y_prob = model(X_train).squeeze() #  Process input through the network. Get the output probability of predictions. We are using all the data and not in batches\n",
    "    loss = loss_fn(y_prob, y_train) # calculate the empirical risk (average of the losses) \n",
    "    optimizer.zero_grad() # reset the gradients of model parameters\n",
    "    loss.backward() # backpropagate the empirical risk (prediction loss)\n",
    "    optimizer.step() # adjust the parameters by the gradients \n",
    "\n",
    "    # model evaluation phase\n",
    "    model.eval() #initialize evaluation phase \n",
    "    \n",
    "    # training set\n",
    "    y_prob = model(X_train).squeeze() #  Process input through the network. Get the output probability of predictions. We are using all the data and not in batches\n",
    "    y_pred = torch.argmax(y_prob, dim=1) # get the label --> multiclass, select the max of the softmax output\n",
    "    acc_train = accuracy_fn(y_true=y_train, y_pred=y_pred)\n",
    "\n",
    "    # validation set\n",
    "    y_prob = model(X_val).squeeze() \n",
    "    loss_val = loss_fn(y_prob, y_val) \n",
    "    y_pred = torch.argmax(y_prob, dim=1)\n",
    "    acc_val = accuracy_fn(y_true=y_val, y_pred=y_pred)\n",
    "\n",
    "    # collect results\n",
    "    loss_train_all.append(loss.item())\n",
    "    loss_val_all.append(loss_val.item())\n",
    "    acc_train_all.append(acc_train)\n",
    "    acc_val_all.append(acc_val)\n",
    "    \n",
    "    print(f'Epoch: {epoch} | Train Loss: {loss:.5f}, Val Loss: {loss_val:.5f}, Train Acc: {acc_train:.2f}, Val Acc: {acc_val:.2f}') "
   ]
  },
  {
   "cell_type": "code",
   "execution_count": 109,
   "id": "4d306b4d-49ac-4a55-9b55-1d94053201b8",
   "metadata": {},
   "outputs": [
    {
     "data": {
      "image/png": "[encoded data removed]",
      "text/plain": [
       "<Figure size 1000x300 with 2 Axes>"
      ]
     },
     "metadata": {},
     "output_type": "display_data"
    }
   ],
   "source": [
    "# visualize the evolution of losses and accuracies\n",
    "\n",
    "fig, (ax1, ax2) = plt.subplots(1,2, figsize=(10,3))\n",
    "\n",
    "ax1.set_title('Loss')\n",
    "ax1.set_xlabel('Epoch')\n",
    "ax1.plot(loss_train_all, label='Train', color='blue')\n",
    "ax1.plot(loss_val_all, label='Val', color='red')\n",
    "ax1.legend()\n",
    "\n",
    "ax2.set_title('Accuracy')\n",
    "ax2.set_xlabel('Epoch')\n",
    "ax2.plot(acc_train_all, label='Train', color='blue')\n",
    "ax2.plot(acc_val_all, label='Val', color='red')\n",
    "ax2.legend()\n",
    "\n",
    "plt.show()"
   ]
  },
  {
   "cell_type": "code",
   "execution_count": 110,
   "id": "d0945265-6b84-4711-b497-86d15b546a8e",
   "metadata": {},
   "outputs": [
    {
     "name": "stdout",
     "output_type": "stream",
     "text": [
      "The accuracy is: 0.9349\n"
     ]
    },
    {
     "name": "stderr",
     "output_type": "stream",
     "text": [
      "/var/folders/yf/khhcc0jx1pg909227gmwfjk00000gn/T/ipykernel_91253/3612716615.py:11: FutureWarning: The provided callable <built-in function sum> is currently using DataFrameGroupBy.sum. In a future version of pandas, the provided callable will be used directly. To keep current behavior pass the string \"sum\" instead.\n",
      "  confusion = pd.pivot_table(df, index='y_true', columns='y_pred', values='samples', aggfunc=sum)\n"
     ]
    },
    {
     "data": {
      "image/png": "[encoded data removed]",
      "text/plain": [
       "<Figure size 640x480 with 2 Axes>"
      ]
     },
     "metadata": {},
     "output_type": "display_data"
    }
   ],
   "source": [
    "# visualize (final) confusion matrix on validation set\n",
    "\n",
    "y_prob = model(X_val).squeeze() \n",
    "y_pred = torch.argmax(y_prob, dim=1)\n",
    "acc_val = accuracy_fn(y_true=y_val, y_pred=y_pred)\n",
    "print('The accuracy is:', acc_val)\n",
    "confusion_matrix(y_val, y_pred)"
   ]
  },
  {
   "cell_type": "markdown",
   "id": "2747b000-1b99-480d-bad8-c25fa84c1dfe",
   "metadata": {},
   "source": [
    "#### Now you can try to repeat the process by changing some of the hyper-parameters of the neural network:\n",
    "- number of layers\n",
    "- number of neurons per layer\n",
    "- activation functions\n",
    "\n",
    "#### And some of the hyper-parameters of the training procedure:\n",
    "- number of epochs\n",
    "- learning rate\n",
    "- version of the optimizer            "
   ]
  },
  {
   "cell_type": "markdown",
   "id": "0a689240-d91c-4552-9064-b4c78bc9dd4c",
   "metadata": {},
   "source": [
    "Finally, apply the chosen hypothesis on test data and measure the performance"
   ]
  },
  {
   "cell_type": "code",
   "execution_count": 111,
   "id": "a55b4e39-647e-4916-9981-d7d83f78baa6",
   "metadata": {},
   "outputs": [
    {
     "name": "stdout",
     "output_type": "stream",
     "text": [
      "The accuracy of test set is: 0.937\n"
     ]
    },
    {
     "name": "stderr",
     "output_type": "stream",
     "text": [
      "/opt/homebrew/Caskroom/miniconda/base/envs/ML4Engineering/lib/python3.13/site-packages/torch/nn/modules/module.py:1751: UserWarning: Implicit dimension choice for softmax has been deprecated. Change the call to include dim=X as an argument.\n",
      "  return self._call_impl(*args, **kwargs)\n",
      "/var/folders/yf/khhcc0jx1pg909227gmwfjk00000gn/T/ipykernel_91253/3612716615.py:11: FutureWarning: The provided callable <built-in function sum> is currently using DataFrameGroupBy.sum. In a future version of pandas, the provided callable will be used directly. To keep current behavior pass the string \"sum\" instead.\n",
      "  confusion = pd.pivot_table(df, index='y_true', columns='y_pred', values='samples', aggfunc=sum)\n"
     ]
    },
    {
     "data": {
      "image/png": "[encoded data removed]",
      "text/plain": [
       "<Figure size 640x480 with 2 Axes>"
      ]
     },
     "metadata": {},
     "output_type": "display_data"
    }
   ],
   "source": [
    "#Apply the model to test dataset\n",
    "\n",
    "model.eval()\n",
    "y_prob = model(X_test).squeeze()\n",
    "y_pred = torch.argmax(y_prob, dim=1)\n",
    "acc = accuracy_fn(y_true=y_test, y_pred=y_pred)\n",
    "print('The accuracy of test set is:', acc)\n",
    "confusion_matrix(y_test, y_pred)"
   ]
  },
  {
   "cell_type": "markdown",
   "id": "f556fa46-b2c2-4c46-aca3-a7fc07762067",
   "metadata": {},
   "source": [
    "Let's see some examples of sample with their prediction"
   ]
  },
  {
   "cell_type": "code",
   "execution_count": 112,
   "id": "bc3ea93b-4260-4b13-bc76-4705e2bf149b",
   "metadata": {},
   "outputs": [
    {
     "name": "stderr",
     "output_type": "stream",
     "text": [
      "/opt/homebrew/Caskroom/miniconda/base/envs/ML4Engineering/lib/python3.13/site-packages/torch/nn/modules/module.py:1751: UserWarning: Implicit dimension choice for softmax has been deprecated. Change the call to include dim=X as an argument.\n",
      "  return self._call_impl(*args, **kwargs)\n"
     ]
    },
    {
     "data": {
      "image/png": "[encoded data removed]",
      "text/plain": [
       "<Figure size 640x480 with 1 Axes>"
      ]
     },
     "metadata": {},
     "output_type": "display_data"
    }
   ],
   "source": [
    "plt.figure()\n",
    "n = random.randint(0, len(dataset_test))\n",
    "model.eval()\n",
    "y_prob = model(dataset_test[n][0]).squeeze()\n",
    "y_pred = torch.argmax(y_prob)\n",
    "plt.imshow(dataset_test[n][0][0, :], cmap='Greys') \n",
    "plt.title(f'The prediction is {y_pred}')\n",
    "plt.show()"
   ]
  },
  {
   "cell_type": "markdown",
   "id": "112f811e-c76e-4861-808f-86a32c1a33af",
   "metadata": {},
   "source": [
    "Now let's see and example of misclassified sample"
   ]
  },
  {
   "cell_type": "code",
   "execution_count": 113,
   "id": "e36cedc1-3685-420f-b9ff-d66b85365c77",
   "metadata": {},
   "outputs": [
    {
     "data": {
      "image/png": "[encoded data removed]",
      "text/plain": [
       "<Figure size 640x480 with 1 Axes>"
      ]
     },
     "metadata": {},
     "output_type": "display_data"
    }
   ],
   "source": [
    "for n in range(len(dataset_test)):\n",
    "    model.eval()\n",
    "    y_prob = model(dataset_test[n][0]).squeeze()\n",
    "    y_pred = torch.argmax(y_prob)\n",
    "    true = dataset_test[n][1]\n",
    "    if y_pred != true:\n",
    "        plt.figure()\n",
    "        plt.imshow(dataset_test[n][0][0, :], cmap='Greys')\n",
    "        plt.title(f'The Truth is {true}\\nThe prediction is {y_pred}')\n",
    "        plt.show()\n",
    "        break"
   ]
  },
  {
   "cell_type": "markdown",
   "id": "71a40bf8-f142-4f8d-93ac-d5b4f999f061",
   "metadata": {},
   "source": [
    "### Deal with numpy data\n",
    "\n",
    "For MNIST, pytorch handled the data transformation automatically, which is often not the case in reality. **Importantly, pytorch only works with torch tensor.** Therefore, for pandas or numpy data, the first thing you need to do after data processing and before feeding the data to the torch model is to convert your data into tensors!"
   ]
  },
  {
   "cell_type": "code",
   "execution_count": 114,
   "id": "5cd2b692-f939-48d9-89b2-83c93373c98f",
   "metadata": {},
   "outputs": [
    {
     "data": {
      "text/plain": [
       "array([[0.77873726, 0.24977136, 0.42184617],\n",
       "       [0.8329513 , 0.14217844, 0.75275874],\n",
       "       [0.17228413, 0.38652326, 0.12025443],\n",
       "       [0.58453733, 0.74642545, 0.14613563],\n",
       "       [0.76563184, 0.902741  , 0.07243004]])"
      ]
     },
     "execution_count": 114,
     "metadata": {},
     "output_type": "execute_result"
    }
   ],
   "source": [
    "# a 5x3 matrix (numpy multidimensional ndarray)\n",
    "x = np.random.rand(5, 3)\n",
    "x"
   ]
  },
  {
   "cell_type": "code",
   "execution_count": 115,
   "id": "ea250c3c-4304-43a6-800d-41e6c29a2f58",
   "metadata": {},
   "outputs": [
    {
     "data": {
      "text/plain": [
       "tensor([[0.7787, 0.2498, 0.4218],\n",
       "        [0.8330, 0.1422, 0.7528],\n",
       "        [0.1723, 0.3865, 0.1203],\n",
       "        [0.5845, 0.7464, 0.1461],\n",
       "        [0.7656, 0.9027, 0.0724]], requires_grad=True)"
      ]
     },
     "execution_count": 115,
     "metadata": {},
     "output_type": "execute_result"
    }
   ],
   "source": [
    "#transforming the numpy multidimensional ndarray into a pytorch tensor\n",
    "x_t = torch.tensor(x, dtype=torch.float, requires_grad=True) # Is True if gradients need to be computed for this Tensor\n",
    "x_t"
   ]
  },
  {
   "cell_type": "markdown",
   "id": "ef9289e2-9a90-45b6-9106-db184550069a",
   "metadata": {},
   "source": [
    "### Some remarks\n",
    "1. For almost every function that you need to implement, like data loading, accuracy computation, batches and early stopping, you can find an implementation in pytorch or other libraries. In this lab, you can try to explore them on your own or implement the functions from scratch. \n",
    "2. It is easy to make errors regarding the dimension of tensors. Hint: use ``.shape`` to check out the shape of a tensor, and then check again the shape after performing certain operations."
   ]
  }
 ],
 "metadata": {
  "kernelspec": {
   "display_name": "ML4Engineering",
   "language": "python",
   "name": "python3"
  },
  "language_info": {
   "codemirror_mode": {
    "name": "ipython",
    "version": 3
   },
   "file_extension": ".py",
   "mimetype": "text/x-python",
   "name": "python",
   "nbconvert_exporter": "python",
   "pygments_lexer": "ipython3",
   "version": "3.13.2"
  }
 },
 "nbformat": 4,
 "nbformat_minor": 5
}
