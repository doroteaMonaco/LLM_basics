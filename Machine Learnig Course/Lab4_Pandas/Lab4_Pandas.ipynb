{
 "cells": [
  {
   "cell_type": "markdown",
   "metadata": {
    "collapsed": true,
    "pycharm": {
     "name": "#%% md\n"
    }
   },
   "source": [
    "# Lab 4: Pandas\n",
    "\n",
    "The objective of this notebook is to learn about the **Pandas** library (<a href=\"https://pandas.pydata.org/docs/reference/index.html#api\" >official documentation</a>). You can find a good guide at this <a href=\"https://www.w3schools.com/python/pandas/default.asp\" >link</a>."
   ]
  },
  {
   "cell_type": "markdown",
   "metadata": {},
   "source": [
    "## Outline\n",
    "\n",
    "- [1. Pandas Series](#1)\n",
    "- [2. Pandas DataFrames](#2)\n",
    "- [3. Computation with Pandas](#3)"
   ]
  },
  {
   "cell_type": "markdown",
   "metadata": {},
   "source": [
    "First, run the following cell to import some useful libraries to complete this Lab. If not already done, you must install them in your virtual environment"
   ]
  },
  {
   "cell_type": "code",
   "execution_count": 2,
   "metadata": {},
   "outputs": [],
   "source": [
    "import pandas as pd\n",
    "import numpy as np\n",
    "import random"
   ]
  },
  {
   "cell_type": "markdown",
   "metadata": {},
   "source": [
    "If the previous cell outputs one the following error: `ModuleNotFoundError: No module named 'pandas'`, then, you have to install the Pandas package. If you don't remember how to install a Python package, please retrieve the guide on Anaconda-Navigator.\n",
    "\n",
    "To install **pandas** you can use one of the following commands from the terminal of your virtual environment: <br>\n",
    "`conda install pandas` <br>\n",
    "`pip install pandas`"
   ]
  },
  {
   "cell_type": "markdown",
   "metadata": {},
   "source": [
    "<a id='1'></a>\n",
    "## 1. Pandas Series"
   ]
  },
  {
   "cell_type": "markdown",
   "metadata": {},
   "source": [
    "### Exercise 1.1\n",
    "Create a **Pandas Series** from the following list `[1.0, 5.0, 0.5, 4.1]` and **index** `[\"person 1\", \"person 2\", \"person 3\", \"person 4\"]`. Then, print the **Series**."
   ]
  },
  {
   "cell_type": "code",
   "execution_count": 3,
   "metadata": {},
   "outputs": [
    {
     "name": "stdout",
     "output_type": "stream",
     "text": [
      "person 1    1.0\n",
      "person 2    5.0\n",
      "person 3    0.5\n",
      "person 4    4.1\n",
      "dtype: float64\n"
     ]
    }
   ],
   "source": [
    "#### START CODE HERE (~2 lines) ####\n",
    "my_series = pd.Series([1.0, 5.0, 0.5, 4.1], index = [\"person 1\", \"person 2\", \"person 3\", \"person 4\"])\n",
    "print(my_series)\n",
    "\n",
    "#### END CODE HERE ####"
   ]
  },
  {
   "cell_type": "markdown",
   "metadata": {},
   "source": [
    "#### Expected output\n",
    "```person 1    1.0``` <br>\n",
    "```person 2    5.0```<br>\n",
    "```person 3    0.5```<br>\n",
    "```person 4    4.1```<br>\n",
    "```dtype: float64```"
   ]
  },
  {
   "cell_type": "markdown",
   "metadata": {},
   "source": [
    "### Exercise 1.2\n",
    "Create a **Pandas Series** from the following dictionary `{\"person 1\": 1.0, \"person 2\": 5.0, \"person 3\": 0.5, \"person 4\": 4.1}`. Then, print the **Series**."
   ]
  },
  {
   "cell_type": "code",
   "execution_count": 5,
   "metadata": {},
   "outputs": [
    {
     "name": "stdout",
     "output_type": "stream",
     "text": [
      "person 1    1.0\n",
      "person 2    5.0\n",
      "person 3    0.5\n",
      "person 4    4.1\n",
      "dtype: float64\n"
     ]
    }
   ],
   "source": [
    "#### START CODE HERE (~2 lines) ####\n",
    "\n",
    "my_series = pd.Series({\"person 1\": 1.0, \"person 2\": 5.0, \"person 3\": 0.5, \"person 4\": 4.1})\n",
    "print(my_series)\n",
    "#### END CODE HERE ####"
   ]
  },
  {
   "cell_type": "markdown",
   "metadata": {},
   "source": [
    "#### Expected output\n",
    "```person 1    1.0``` <br>\n",
    "```person 2    5.0```<br>\n",
    "```person 3    0.5```<br>\n",
    "```person 4    4.1```<br>\n",
    "```dtype: float64```"
   ]
  },
  {
   "cell_type": "markdown",
   "metadata": {},
   "source": [
    "You can see that the two methods of creating the Series are **equivalent** and produce the same output."
   ]
  },
  {
   "cell_type": "markdown",
   "metadata": {},
   "source": [
    "### Exercise 1.3\n",
    "Put **all the elements** of the Series `s1` into a variable `s1_values`. Then print the **value** of `s1_values` and its **type**."
   ]
  },
  {
   "cell_type": "code",
   "execution_count": 7,
   "metadata": {},
   "outputs": [
    {
     "name": "stdout",
     "output_type": "stream",
     "text": [
      "[1.  5.  0.5 4.1]\n",
      "<class 'numpy.ndarray'>\n"
     ]
    }
   ],
   "source": [
    "s1 = pd.Series([1.0, 5.0, 0.5, 4.1])\n",
    "\n",
    "#### START CODE HERE (~3 lines) ####\n",
    "s1_values = s1.values\n",
    "print(s1_values)\n",
    "print(type(s1_values))\n",
    "\n",
    "#### END CODE HERE ####"
   ]
  },
  {
   "cell_type": "markdown",
   "metadata": {},
   "source": [
    "#### Expected output\n",
    "```[1.  5.  0.5 4.1]``` <br>\n",
    "```<class 'numpy.ndarray'>```"
   ]
  },
  {
   "cell_type": "markdown",
   "metadata": {},
   "source": [
    "You can see that the **values** attribute of a Series returns a **Numpy array**."
   ]
  },
  {
   "cell_type": "markdown",
   "metadata": {},
   "source": [
    "### Exercise 1.4\n",
    "Access the value of the Series `s1` with the **index in position 1** (i.e., the second element) and print its **value**.\n",
    "<details>    \n",
    "<summary>\n",
    "    <font size=\"3\" color=\"darkgreen\"><b>Hints</b></font>\n",
    "</summary>\n",
    "<p>\n",
    "<ul>\n",
    "    <li>To access an element of the Series by the index position (implicit index), you should use the <strong>.iloc()</strong> method and specify the index position as a parameter.</li>\n",
    "</ul>\n",
    "</p>"
   ]
  },
  {
   "cell_type": "code",
   "execution_count": 10,
   "metadata": {},
   "outputs": [
    {
     "name": "stdout",
     "output_type": "stream",
     "text": [
      "5.0\n"
     ]
    }
   ],
   "source": [
    "s1 = pd.Series({\"person 1\": 1.0, \"person 2\": 5.0, \"person 3\": 0.5, \"person 4\": 4.1})\n",
    "\n",
    "#### START CODE HERE (~1 line) ####\n",
    "print(s1.iloc[1])\n",
    "#### END CODE HERE ####"
   ]
  },
  {
   "cell_type": "markdown",
   "metadata": {},
   "source": [
    "#### Expected output\n",
    "```5.0``` "
   ]
  },
  {
   "cell_type": "markdown",
   "metadata": {},
   "source": [
    "### Exercise 1.5\n",
    "Access the value of the Series `s1` with the **explicit index** equal to `\"person 3\"` and print its **value**.\n",
    "<details>    \n",
    "<summary>\n",
    "    <font size=\"3\" color=\"darkgreen\"><b>Hints</b></font>\n",
    "</summary>\n",
    "<p>\n",
    "<ul>\n",
    "    <li>To access an element of the Series by the explicit index, you should use the <strong>.loc()</strong> method and specify the index value as a parameter.</li>\n",
    "</ul>\n",
    "</p>"
   ]
  },
  {
   "cell_type": "code",
   "execution_count": 12,
   "metadata": {},
   "outputs": [
    {
     "name": "stdout",
     "output_type": "stream",
     "text": [
      "0.5\n"
     ]
    }
   ],
   "source": [
    "s1 = pd.Series({\"person 1\": 1.0, \"person 2\": 5.0, \"person 3\": 0.5, \"person 4\": 4.1})\n",
    "\n",
    "#### START CODE HERE (~1 line) ####\n",
    "print(s1.loc[\"person 3\"])\n",
    "\n",
    "#### END CODE HERE ####"
   ]
  },
  {
   "cell_type": "markdown",
   "metadata": {},
   "source": [
    "#### Expected output\n",
    "```0.5``` "
   ]
  },
  {
   "cell_type": "markdown",
   "metadata": {},
   "source": [
    "### Exercise 1.6\n",
    "**Access** and **print** the **slice** of the Series `s1` from the **second** element until the **fourth**, both included.\n",
    "<details>    \n",
    "<summary>\n",
    "    <font size=\"3\" color=\"darkgreen\"><b>Hints</b></font>\n",
    "</summary>\n",
    "<p>\n",
    "<ul>\n",
    "<li>To access a slice of the Series by the implicit index, you can use specify the slice as a parameter of the  <strong>.iloc()</strong> method.</li>\n",
    "    <li>With the <strong>.iloc()</strong> method, the start index is included, and the stop index is excluded.</li>\n",
    "</ul>\n",
    "</p>"
   ]
  },
  {
   "cell_type": "code",
   "execution_count": 14,
   "metadata": {},
   "outputs": [
    {
     "name": "stdout",
     "output_type": "stream",
     "text": [
      "person 2    5.0\n",
      "person 3    0.5\n",
      "person 4    4.1\n",
      "dtype: float64\n"
     ]
    }
   ],
   "source": [
    "s1 = pd.Series({\"person 1\": 1.0, \"person 2\": 5.0, \"person 3\": 0.5, \"person 4\": 4.1})\n",
    "\n",
    "#### START CODE HERE (~1 line) ####\n",
    "print(s1.iloc[1:4])\n",
    "\n",
    "#### END CODE HERE ####"
   ]
  },
  {
   "cell_type": "markdown",
   "metadata": {},
   "source": [
    "#### Expected output\n",
    "```person 2    5.0```<br>\n",
    "```person 3    0.5```<br>\n",
    "```person 4    4.1```<br>\n",
    "```dtype: float64```"
   ]
  },
  {
   "cell_type": "markdown",
   "metadata": {},
   "source": [
    "### Exercise 1.7\n",
    "**Access** and **print** the **slice** of the Series `s1` from index `\"person 2\"` to `\"person 4\"`, both included.\n",
    "<details>    \n",
    "<summary>\n",
    "    <font size=\"3\" color=\"darkgreen\"><b>Hints</b></font>\n",
    "</summary>\n",
    "<p>\n",
    "<ul>\n",
    "    <li>To access a slice of the Series by the explicit index, you can use specify the slice as a parameter of the  <strong>.loc()</strong> method (both index are included).</li>\n",
    "</ul>\n",
    "</p>"
   ]
  },
  {
   "cell_type": "code",
   "execution_count": 15,
   "metadata": {},
   "outputs": [
    {
     "name": "stdout",
     "output_type": "stream",
     "text": [
      "person 2    5.0\n",
      "person 3    0.5\n",
      "person 4    4.1\n",
      "dtype: float64\n"
     ]
    }
   ],
   "source": [
    "s1 = pd.Series({\"person 1\": 1.0, \"person 2\": 5.0, \"person 3\": 0.5, \"person 4\": 4.1})\n",
    "\n",
    "#### START CODE HERE (~1 line) ####\n",
    "print(s1.loc[\"person 2\":\"person 4\"])\n",
    "\n",
    "#### END CODE HERE ####"
   ]
  },
  {
   "cell_type": "markdown",
   "metadata": {},
   "source": [
    "#### Expected output\n",
    "```person 2    5.0```<br>\n",
    "```person 3    0.5```<br>\n",
    "```person 4    4.1```<br>\n",
    "```dtype: float64```"
   ]
  },
  {
   "cell_type": "markdown",
   "metadata": {},
   "source": [
    "### Exercise 1.8\n",
    "Define a **mask** into a variable `my_mask` starting from the Series `s1` with `True` for the elements that are **strictly greater than 1**, `False` otherwise. Then, **print** the **mask** and the **elements of the Series where the mask is** `True`.\n",
    "<details>    \n",
    "<summary>\n",
    "    <font size=\"3\" color=\"darkgreen\"><b>Hints</b></font>\n",
    "</summary>\n",
    "<p>\n",
    "<ul>\n",
    "    <li>Masking works in the same way as for Numpy arrays.</li>\n",
    "    <li>When using masking, you can avoid loc() and iloc().</li>\n",
    "</ul>\n",
    "</p>"
   ]
  },
  {
   "cell_type": "code",
   "execution_count": 17,
   "metadata": {},
   "outputs": [
    {
     "name": "stdout",
     "output_type": "stream",
     "text": [
      "person 1    False\n",
      "person 2     True\n",
      "person 3    False\n",
      "person 4     True\n",
      "dtype: bool\n",
      "person 2    5.0\n",
      "person 4    4.1\n",
      "dtype: float64\n"
     ]
    }
   ],
   "source": [
    "s1 = pd.Series({\"person 1\": 1.0, \"person 2\": 5.0, \"person 3\": 0.5, \"person 4\": 4.1})\n",
    "\n",
    "#### START CODE HERE (~3 lines) ####\n",
    "my_mask = s1 > 1\n",
    "print(my_mask)\n",
    "print(s1[my_mask])\n",
    "#### END CODE HERE ####"
   ]
  },
  {
   "cell_type": "markdown",
   "metadata": {},
   "source": [
    "#### Expected output\n",
    "```person 1    False```<br>\n",
    "```person 2    True```<br>\n",
    "```person 3    False```<br>\n",
    "```person 4    True```<br>\n",
    "```dtype: float64``` <br>\n",
    "```person 2    5.0```<br>\n",
    "```person 4    4.1```<br>\n",
    "```dtype: float64``` <br>"
   ]
  },
  {
   "cell_type": "markdown",
   "metadata": {},
   "source": [
    "### Exercise 1.9\n",
    "Use **Fancy Indexing** with **Explicit Indexing** to access and print the values of the Series `s1` with Index `\"person 2\"` and `\"person 4\"`\n",
    "<details>    \n",
    "<summary>\n",
    "    <font size=\"3\" color=\"darkgreen\"><b>Hints</b></font>\n",
    "</summary>\n",
    "<p>\n",
    "<ul>\n",
    "    <li>To access with explicit indexing you can use the .loc() method.</li>\n",
    "    <li>To use fancy indexing you can specify each individual index between square brackets. E.g., to access columns 'b' and 'c' you can use s1.loc[['b', 'c']] .</li>\n",
    "</ul>\n",
    "</p>"
   ]
  },
  {
   "cell_type": "code",
   "execution_count": 19,
   "metadata": {},
   "outputs": [
    {
     "name": "stdout",
     "output_type": "stream",
     "text": [
      "person 2    5.0\n",
      "person 4    4.1\n",
      "dtype: float64\n"
     ]
    }
   ],
   "source": [
    "s1 = pd.Series({\"person 1\": 1.0, \"person 2\": 5.0, \"person 3\": 0.5, \"person 4\": 4.1})\n",
    "\n",
    "#### START CODE HERE (~1 line) ####\n",
    "print(s1.loc[[\"person 2\", \"person 4\"]])\n",
    "#### END CODE HERE ####"
   ]
  },
  {
   "cell_type": "markdown",
   "metadata": {},
   "source": [
    "#### Expected output\n",
    "```person 2    5.0```<br>\n",
    "```person 4    4.1```<br>\n",
    "```dtype: float64```"
   ]
  },
  {
   "cell_type": "markdown",
   "metadata": {},
   "source": [
    "<a id='2'></a>\n",
    "## 2. Pandas DataFrames"
   ]
  },
  {
   "cell_type": "markdown",
   "metadata": {},
   "source": [
    "### Exercise 2.1\n",
    "Create a **Pandas DataFrames** into a variable `df` from the series `age_s`, `gender_s`, and `country_s`, with column names `\"age\"`, `\"gender\"`, and `\"country\"`, respectively. Then **print** the DataFrame `df`.\n"
   ]
  },
  {
   "cell_type": "code",
   "execution_count": 24,
   "metadata": {},
   "outputs": [],
   "source": [
    "age_s = pd.Series({\"person 1\": 21, \"person 2\": 25, \"person 3\": 34, \"person 4\": 27})\n",
    "gender_s = pd.Series({\"person 1\": \"M\", \"person 2\": \"F\", \"person 3\": \"M\", \"person 4\": \"F\"})\n",
    "country_s = pd.Series({\"person 1\": \"Italy\", \"person 2\": \"United Kingdom\", \"person 3\": \"France\", \"person 4\": \"Spain\"})\n",
    "\n",
    "#### START CODE HERE (~2 lines) ####\n",
    "df = pd.DataFrame({\"age\": age_s, \"gender\":gender_s, \"country\": country_s})\n",
    "#### END CODE HERE ####"
   ]
  },
  {
   "cell_type": "code",
   "execution_count": 25,
   "metadata": {},
   "outputs": [
    {
     "name": "stdout",
     "output_type": "stream",
     "text": [
      "          age gender         country\n",
      "person 1   21      M           Italy\n",
      "person 2   25      F  United Kingdom\n",
      "person 3   34      M          France\n",
      "person 4   27      F           Spain\n"
     ]
    }
   ],
   "source": [
    "print(df)"
   ]
  },
  {
   "cell_type": "code",
   "execution_count": 26,
   "metadata": {},
   "outputs": [
    {
     "data": {
      "text/html": [
       "<div>\n",
       "<style scoped>\n",
       "    .dataframe tbody tr th:only-of-type {\n",
       "        vertical-align: middle;\n",
       "    }\n",
       "\n",
       "    .dataframe tbody tr th {\n",
       "        vertical-align: top;\n",
       "    }\n",
       "\n",
       "    .dataframe thead th {\n",
       "        text-align: right;\n",
       "    }\n",
       "</style>\n",
       "<table border=\"1\" class=\"dataframe\">\n",
       "  <thead>\n",
       "    <tr style=\"text-align: right;\">\n",
       "      <th></th>\n",
       "      <th>age</th>\n",
       "      <th>gender</th>\n",
       "      <th>country</th>\n",
       "    </tr>\n",
       "  </thead>\n",
       "  <tbody>\n",
       "    <tr>\n",
       "      <th>person 2</th>\n",
       "      <td>25</td>\n",
       "      <td>F</td>\n",
       "      <td>United Kingdom</td>\n",
       "    </tr>\n",
       "    <tr>\n",
       "      <th>person 3</th>\n",
       "      <td>34</td>\n",
       "      <td>M</td>\n",
       "      <td>France</td>\n",
       "    </tr>\n",
       "    <tr>\n",
       "      <th>person 4</th>\n",
       "      <td>27</td>\n",
       "      <td>F</td>\n",
       "      <td>Spain</td>\n",
       "    </tr>\n",
       "  </tbody>\n",
       "</table>\n",
       "</div>"
      ],
      "text/plain": [
       "          age gender         country\n",
       "person 2   25      F  United Kingdom\n",
       "person 3   34      M          France\n",
       "person 4   27      F           Spain"
      ]
     },
     "execution_count": 26,
     "metadata": {},
     "output_type": "execute_result"
    }
   ],
   "source": [
    "df.tail(3)"
   ]
  },
  {
   "cell_type": "markdown",
   "metadata": {},
   "source": [
    "#### Expected output\n",
    "```          age gender         country```<br>\n",
    "```person 1   21      M           Italy```<br>\n",
    "```person 2   25      F  United Kingdom```<br>\n",
    "```person 3   34      M          France```<br>\n",
    "```person 4   27      F           Spain```"
   ]
  },
  {
   "cell_type": "markdown",
   "metadata": {},
   "source": [
    "### Exercise 2.2\n",
    "Create a **Pandas DataFrames** into a variable `df` from the lists `age_list`, `gender_list`, and `country_list`, with column names `\"age\"`, `\"gender\"`, and `\"country\"`, respectively. The Index is specified in `index_list`. Then **print** the DataFrame `df`.\n"
   ]
  },
  {
   "cell_type": "code",
   "execution_count": 28,
   "metadata": {},
   "outputs": [
    {
     "name": "stdout",
     "output_type": "stream",
     "text": [
      "          age gender         country\n",
      "person 1   21      M           Italy\n",
      "person 2   25      F  United Kingdom\n",
      "person 3   34      M          France\n",
      "person 4   27      F           Spain\n"
     ]
    }
   ],
   "source": [
    "age_list = [21, 25, 34, 27]\n",
    "gender_list = [\"M\", \"F\", \"M\", \"F\"]\n",
    "country_list = [\"Italy\", \"United Kingdom\", \"France\", \"Spain\"]\n",
    "index_list = [\"person 1\", \"person 2\", \"person 3\", \"person 4\"]\n",
    "\n",
    "#### START CODE HERE (~2 lines) ####\n",
    "df = pd.DataFrame({\"age\": age_list, \"gender\": gender_list, \"country\": country_list}, index=index_list)\n",
    "print(df)\n",
    "#### END CODE HERE ####"
   ]
  },
  {
   "cell_type": "markdown",
   "metadata": {},
   "source": [
    "#### Expected output\n",
    "```          age gender         country```<br>\n",
    "```person 1   21      M           Italy```<br>\n",
    "```person 2   25      F  United Kingdom```<br>\n",
    "```person 3   34      M          France```<br>\n",
    "```person 4   27      F           Spain```"
   ]
  },
  {
   "cell_type": "markdown",
   "metadata": {},
   "source": [
    "You can see that the two methods of creating the DataFrames are **equivalent** and produce the same output.\n",
    "Another equivalent method is the following:"
   ]
  },
  {
   "cell_type": "code",
   "execution_count": 29,
   "metadata": {},
   "outputs": [
    {
     "name": "stdout",
     "output_type": "stream",
     "text": [
      "          age gender         country\n",
      "person 1   21      M           Italy\n",
      "person 2   25      F  United Kingdom\n",
      "person 3   34      M          France\n",
      "person 4   27      F           Spain\n"
     ]
    }
   ],
   "source": [
    "data_list = [{\"age\": 21, \"gender\": \"M\", \"country\": \"Italy\"}, \n",
    "             {\"age\": 25, \"gender\": \"F\", \"country\": \"United Kingdom\"},\n",
    "             {\"age\": 34, \"gender\": \"M\", \"country\": \"France\"},\n",
    "             {\"age\": 27, \"gender\": \"F\", \"country\": \"Spain\"}]\n",
    "\n",
    "index_list = [\"person 1\", \"person 2\", \"person 3\", \"person 4\"]\n",
    "\n",
    "\n",
    "df = pd.DataFrame(data_list, index=index_list) \n",
    "print(df)"
   ]
  },
  {
   "cell_type": "markdown",
   "metadata": {},
   "source": [
    "### Exercise 2.3\n",
    "**Access** and **print** the **column** `\"country\"` of the DataFrame `df`."
   ]
  },
  {
   "cell_type": "code",
   "execution_count": 42,
   "metadata": {},
   "outputs": [
    {
     "name": "stdout",
     "output_type": "stream",
     "text": [
      "person 1             Italy\n",
      "person 2    United Kingdom\n",
      "person 3            France\n",
      "person 4             Spain\n",
      "Name: country, dtype: object\n"
     ]
    }
   ],
   "source": [
    "data_list = [{\"age\": 21, \"gender\": \"M\", \"country\": \"Italy\"}, \n",
    "             {\"age\": 25, \"gender\": \"F\", \"country\": \"United Kingdom\"},\n",
    "             {\"age\": 34, \"gender\": \"M\", \"country\": \"France\"},\n",
    "             {\"age\": 27, \"gender\": \"F\", \"country\": \"Spain\"}]\n",
    "\n",
    "index_list = [\"person 1\", \"person 2\", \"person 3\", \"person 4\"]\n",
    "\n",
    "df = pd.DataFrame(data_list, index=index_list) \n",
    "\n",
    "#### START CODE HERE (~1 line) ####\n",
    "print(df[\"country\"])\n",
    "#### END CODE HERE ####"
   ]
  },
  {
   "cell_type": "markdown",
   "metadata": {},
   "source": [
    "#### Expected output\n",
    "```person 1             Italy```<br>\n",
    "```person 2    United Kingdom```<br>\n",
    "```person 3            France```<br>\n",
    "```person 4             Spain```<br>\n",
    "```Name: country, dtype: object```\n"
   ]
  },
  {
   "cell_type": "markdown",
   "metadata": {},
   "source": [
    "When you access a single column, you can see that a Series is returned."
   ]
  },
  {
   "cell_type": "markdown",
   "metadata": {},
   "source": [
    "### Exercise 2.4\n",
    "**Access** and **print** the **row** corresponding to the **index** `\"person 2\"` of the DataFrame `df` (with **explicit indexing**).\n",
    "<details>    \n",
    "<summary>\n",
    "    <font size=\"3\" color=\"darkgreen\"><b>Hints</b></font>\n",
    "</summary>\n",
    "<p>\n",
    "<ul>\n",
    "    <li>To access with explicit indexing, you can use the .loc() method.</li>\n",
    "</ul>\n",
    "</p>"
   ]
  },
  {
   "cell_type": "code",
   "execution_count": 44,
   "metadata": {},
   "outputs": [
    {
     "name": "stdout",
     "output_type": "stream",
     "text": [
      "age                    25\n",
      "gender                  F\n",
      "country    United Kingdom\n",
      "Name: person 2, dtype: object\n"
     ]
    }
   ],
   "source": [
    "data_list = [{\"age\": 21, \"gender\": \"M\", \"country\": \"Italy\"}, \n",
    "             {\"age\": 25, \"gender\": \"F\", \"country\": \"United Kingdom\"},\n",
    "             {\"age\": 34, \"gender\": \"M\", \"country\": \"France\"},\n",
    "             {\"age\": 27, \"gender\": \"F\", \"country\": \"Spain\"}]\n",
    "\n",
    "index_list = [\"person 1\", \"person 2\", \"person 3\", \"person 4\"]\n",
    "\n",
    "df = pd.DataFrame(data_list, index=index_list) \n",
    "\n",
    "#### START CODE HERE (~1 line) ####\n",
    "print(df.loc[\"person 2\"])\n",
    "#### END CODE HERE ####"
   ]
  },
  {
   "cell_type": "markdown",
   "metadata": {},
   "source": [
    "#### Expected output\n",
    "```age                    25```<br>\n",
    "```gender                  F```<br>\n",
    "```country    United Kingdom```<br>\n",
    "```Name: person 2, dtype: object```<br>"
   ]
  },
  {
   "cell_type": "markdown",
   "metadata": {},
   "source": [
    "You can see that this time, the is returned a Series where the **index is replaced with the name of the columns**."
   ]
  },
  {
   "cell_type": "markdown",
   "metadata": {},
   "source": [
    "### Exercise 2.5\n",
    "**Access** the **slice of rows** from **index 1 until the end** of the DataFrame `df` (both included) and print those rows (with **implicit indexing**).\n",
    "<details>    \n",
    "<summary>\n",
    "    <font size=\"3\" color=\"darkgreen\"><b>Hints</b></font>\n",
    "</summary>\n",
    "<p>\n",
    "<ul>\n",
    "    <li>To access with implicit indexing, you can use the .iloc() method.</li>\n",
    "    <li>You can omit the end index to access until the end.</li>\n",
    "</ul>\n",
    "</p>"
   ]
  },
  {
   "cell_type": "code",
   "execution_count": 45,
   "metadata": {},
   "outputs": [
    {
     "name": "stdout",
     "output_type": "stream",
     "text": [
      "          age gender         country\n",
      "person 2   25      F  United Kingdom\n",
      "person 3   34      M          France\n",
      "person 4   27      F           Spain\n"
     ]
    }
   ],
   "source": [
    "data_list = [{\"age\": 21, \"gender\": \"M\", \"country\": \"Italy\"}, \n",
    "             {\"age\": 25, \"gender\": \"F\", \"country\": \"United Kingdom\"},\n",
    "             {\"age\": 34, \"gender\": \"M\", \"country\": \"France\"},\n",
    "             {\"age\": 27, \"gender\": \"F\", \"country\": \"Spain\"}]\n",
    "\n",
    "index_list = [\"person 1\", \"person 2\", \"person 3\", \"person 4\"]\n",
    "\n",
    "df = pd.DataFrame(data_list, index=index_list) \n",
    "\n",
    "#### START CODE HERE (~1 line) ####\n",
    "print(df.iloc[1:])\n",
    "#### END CODE HERE ####"
   ]
  },
  {
   "cell_type": "markdown",
   "metadata": {},
   "source": [
    "#### Expected output\n",
    "```          age gender         country```<br>\n",
    "```person 2   25      F  United Kingdom```<br>\n",
    "```person 3   34      M          France```<br>\n",
    "```person 4   27      F           Spain```<br>"
   ]
  },
  {
   "cell_type": "markdown",
   "metadata": {},
   "source": [
    "You can see that this time, it is returned a DataFrame."
   ]
  },
  {
   "cell_type": "markdown",
   "metadata": {},
   "source": [
    "### Exercise 2.6\n",
    "**Access** the **slice** of the DataFrame `df` (with **explicit indexing**) containing rows from `person 2` to `person 4` (both included), and columns from `gender` to `country` (both included), and **print the slice**.\n",
    "<details>    \n",
    "<summary>\n",
    "    <font size=\"3\" color=\"darkgreen\"><b>Hints</b></font>\n",
    "</summary>\n",
    "<p>\n",
    "<ul>\n",
    "    <li>To access with explicit indexing, you can use the .loc() method.</li>\n",
    "</ul>\n",
    "</p>"
   ]
  },
  {
   "cell_type": "code",
   "execution_count": 48,
   "metadata": {},
   "outputs": [
    {
     "name": "stdout",
     "output_type": "stream",
     "text": [
      "         gender         country\n",
      "person 2      F  United Kingdom\n",
      "person 3      M          France\n",
      "person 4      F           Spain\n"
     ]
    }
   ],
   "source": [
    "data_list = [{\"age\": 21, \"gender\": \"M\", \"country\": \"Italy\"}, \n",
    "             {\"age\": 25, \"gender\": \"F\", \"country\": \"United Kingdom\"},\n",
    "             {\"age\": 34, \"gender\": \"M\", \"country\": \"France\"},\n",
    "             {\"age\": 27, \"gender\": \"F\", \"country\": \"Spain\"}]\n",
    "\n",
    "index_list = [\"person 1\", \"person 2\", \"person 3\", \"person 4\"]\n",
    "\n",
    "df = pd.DataFrame(data_list, index=index_list) \n",
    "\n",
    "#### START CODE HERE (~1 line) ####\n",
    "print(df.loc[\"person 2\":\"person 4\", \"gender\":\"country\"])\n",
    "#### END CODE HERE ####"
   ]
  },
  {
   "cell_type": "markdown",
   "metadata": {},
   "source": [
    "#### Expected output\n",
    "```         gender         country```<br>\n",
    "```person 2      F  United Kingdom```<br>\n",
    "```person 3      M          France```<br>\n",
    "```person 4      F           Spain```<br>"
   ]
  },
  {
   "cell_type": "markdown",
   "metadata": {},
   "source": [
    "### Exercise 2.7\n",
    "\n",
    "**Access** and **print** the **columns** `gender` and `country` of the DataFrame `df` for **all the rows** with **gender equal to** `F`.\n",
    "<details>    \n",
    "<summary>\n",
    "    <font size=\"3\" color=\"darkgreen\"><b>Hints</b></font>\n",
    "</summary>\n",
    "<p>\n",
    "<ul>\n",
    "    <li>You can exploit masking and slicing with the .loc() method. E.g., df.loc[mask, 'column 1':] </li>\n",
    "    <li>You can also access and masking in one line. <br>E.g., df.loc[df['column 1'] == 0, ['column 1', 'column 2']] (Masking + Fancy Indexing)<br> E.g., df.loc[df['column 1'] == 0, 'column 1' : 'column 2'] (Masking + Slicing)\n",
    "</ul>\n",
    "</p>"
   ]
  },
  {
   "cell_type": "code",
   "execution_count": 50,
   "metadata": {},
   "outputs": [
    {
     "name": "stdout",
     "output_type": "stream",
     "text": [
      "         gender         country\n",
      "person 2      F  United Kingdom\n",
      "person 4      F           Spain\n"
     ]
    }
   ],
   "source": [
    "data_list = [{\"age\": 21, \"gender\": \"M\", \"country\": \"Italy\"}, \n",
    "             {\"age\": 25, \"gender\": \"F\", \"country\": \"United Kingdom\"},\n",
    "             {\"age\": 34, \"gender\": \"M\", \"country\": \"France\"},\n",
    "             {\"age\": 27, \"gender\": \"F\", \"country\": \"Spain\"}]\n",
    "\n",
    "index_list = [\"person 1\", \"person 2\", \"person 3\", \"person 4\"]\n",
    "\n",
    "df = pd.DataFrame(data_list, index=index_list) \n",
    "\n",
    "#### START CODE HERE (~1 line) ####\n",
    "print(df.loc[df[\"gender\"] == \"F\", \"gender\":\"country\"])\n",
    "#### END CODE HERE ####"
   ]
  },
  {
   "cell_type": "markdown",
   "metadata": {},
   "source": [
    "#### Expected output\n",
    "```         gender         country```<br>\n",
    "```person 2      F  United Kingdom```<br>\n",
    "```person 4      F           Spain```<br>"
   ]
  },
  {
   "cell_type": "markdown",
   "metadata": {},
   "source": [
    "### Exercise 2.8\n",
    "\n",
    "**Add a new column** `working hours` with the values in the following list `['part time', 'full time', 'full time', 'full time']`."
   ]
  },
  {
   "cell_type": "code",
   "execution_count": 52,
   "metadata": {},
   "outputs": [
    {
     "name": "stdout",
     "output_type": "stream",
     "text": [
      "          age gender         country working hours\n",
      "person 1   21      M           Italy     part time\n",
      "person 2   25      F  United Kingdom     full time\n",
      "person 3   34      M          France     full time\n",
      "person 4   27      F           Spain     full time\n"
     ]
    }
   ],
   "source": [
    "data_list = [{\"age\": 21, \"gender\": \"M\", \"country\": \"Italy\"}, \n",
    "             {\"age\": 25, \"gender\": \"F\", \"country\": \"United Kingdom\"},\n",
    "             {\"age\": 34, \"gender\": \"M\", \"country\": \"France\"},\n",
    "             {\"age\": 27, \"gender\": \"F\", \"country\": \"Spain\"}]\n",
    "\n",
    "index_list = [\"person 1\", \"person 2\", \"person 3\", \"person 4\"]\n",
    "\n",
    "df = pd.DataFrame(data_list, index=index_list) \n",
    "\n",
    "#### START CODE HERE (~1 line) ####\n",
    "\n",
    "#### END CODE HERE ####\n",
    "df[\"working hours\"] = [\"part time\", \"full time\", \"full time\", \"full time\"]\n",
    "print(df)"
   ]
  },
  {
   "cell_type": "markdown",
   "metadata": {},
   "source": [
    "#### Expected output\n",
    "```          age gender         country working hours```<br>\n",
    "```person 1   21      M           Italy     part time```<br>\n",
    "```person 2   25      F  United Kingdom     full time```<br>\n",
    "```person 3   34      M          France     full time```<br>\n",
    "```person 4   27      F           Spain     full time```<br>\n"
   ]
  },
  {
   "cell_type": "markdown",
   "metadata": {},
   "source": [
    "<a id='3'></a>\n",
    "## 3. Computation with Pandas"
   ]
  },
  {
   "cell_type": "markdown",
   "metadata": {},
   "source": [
    "### Exercise 3.1\n",
    "\n",
    "Compute the **mean** in a variable `mean_series` and the **standard deviation** in a variable `std_series` of the columns of the dataframe `df`. The mean and the standard deviation should be computed for each column **separately**. The dataframe `df` contains a column `size` containing the size of the houses, and another column `n_rooms` containing the number of rooms of the houses. Therefore, computing the mean and the standard deviation for each column separately, you will compute the mean and the standard deviation of the size of the houses and of the number of rooms (separately)."
   ]
  },
  {
   "cell_type": "code",
   "execution_count": 63,
   "metadata": {},
   "outputs": [],
   "source": [
    "n_houses = 100\n",
    "\n",
    "size_houses = np.random.normal(500, 50, (n_houses,))\n",
    "\n",
    "n_rooms = np.random.normal(3, 2, (n_houses,)) # Generate n_samples samples for the number of rooms with the specified mean and std dev\n",
    "n_rooms = n_rooms.astype(int) # convert the number of rooms to an array containing only integers numbers\n",
    "n_rooms = n_rooms+np.min(n_rooms)*-1+1 # move the samples with a minumum number of rooms of 1 (this will change the mean)\n",
    "\n",
    "index_list = [f\"House {i}\" for i in range(n_houses)]\n",
    "\n",
    "df = pd.DataFrame({\"size\":size_houses, \"n_rooms\":n_rooms}, index=index_list) \n",
    "\n",
    "\n",
    "#### START CODE HERE (~2 lines) ####\n",
    "mean_series = df.mean()\n",
    "std_series = df.std()\n",
    "#### END CODE HERE ####"
   ]
  },
  {
   "cell_type": "code",
   "execution_count": 64,
   "metadata": {},
   "outputs": [
    {
     "name": "stdout",
     "output_type": "stream",
     "text": [
      "Mean of the columns\n",
      "size       498.997824\n",
      "n_rooms      4.490000\n",
      "dtype: float64\n",
      "\n",
      "Standard deviation of the columns\n",
      "size       53.522418\n",
      "n_rooms     1.684720\n",
      "dtype: float64\n"
     ]
    }
   ],
   "source": [
    "print(\"Mean of the columns\")\n",
    "print(mean_series)\n",
    "print(\"\\nStandard deviation of the columns\")\n",
    "print(std_series)"
   ]
  },
  {
   "cell_type": "markdown",
   "metadata": {},
   "source": [
    "#### Expected output\n",
    "```Mean of the columns```<br>\n",
    "```size       497.440337```<br>\n",
    "```n_rooms      5.210000```<br>\n",
    "```dtype: float64```<br><br>\n",
    "```Standard deviation of the columns```<br>\n",
    "```size       49.829333```<br>\n",
    "```n_rooms     1.945183```<br>\n",
    "```dtype: float64```<br>"
   ]
  },
  {
   "cell_type": "markdown",
   "metadata": {},
   "source": [
    "### Exercise 3.2\n",
    "\n",
    "Implement the **Min-Max normalization** with Pandas of the DataFrame `df` for **each column separately**. After the normalization, **all the columns must be in the range** `[0, 1]`.\n",
    "\n",
    "Remember that the formula for the **Min-Max normalization** is the following:\n",
    "\n",
    "$$ X\\_norm = \\frac{(x - x_{min})}{(x_{max} - x_{min})} $$\n",
    "\n",
    "Firstly, run the next cell to create the DataFrame."
   ]
  },
  {
   "cell_type": "code",
   "execution_count": 65,
   "metadata": {},
   "outputs": [
    {
     "name": "stdout",
     "output_type": "stream",
     "text": [
      "First 10 lines of the dataframe\n",
      "               size  n_rooms\n",
      "House 0  452.774066        4\n",
      "House 1  373.536838        2\n",
      "House 2  472.987782        3\n",
      "House 3  526.644428        5\n",
      "House 4  491.075250        2\n",
      "House 5  513.198383        1\n",
      "House 6  534.726502        3\n",
      "House 7  474.713136        4\n",
      "House 8  478.882992        2\n",
      "House 9  507.859263        8\n"
     ]
    }
   ],
   "source": [
    "n_houses = 100\n",
    "\n",
    "size_houses = np.random.normal(500, 50, (n_houses,))\n",
    "\n",
    "n_rooms = np.random.normal(3, 2, (n_houses,)) # Generate n_samples samples for the number of rooms with the specified mean and std dev\n",
    "n_rooms = n_rooms.astype(int) # convert the number of rooms to an array containing only integers numbers\n",
    "n_rooms = n_rooms+np.min(n_rooms)*-1+1 # move the samples with a minumum number of rooms of 1 (this will change the mean)\n",
    "\n",
    "index_list = [f\"House {i}\" for i in range(n_houses)]\n",
    "\n",
    "df = pd.DataFrame({\"size\":size_houses, \"n_rooms\":n_rooms}, index=index_list) \n",
    "\n",
    "print(\"First 10 lines of the dataframe\")\n",
    "print(df.head(10))"
   ]
  },
  {
   "cell_type": "markdown",
   "metadata": {},
   "source": [
    "Now, perform the **Min-Max normalization** of the DataFrame `df` and put the result into a new variable `df_norm`.\n",
    "\n",
    "<br>\n",
    "<details>    \n",
    "<summary>\n",
    "    <font size=\"3\" color=\"darkgreen\"><b>Hints</b></font>\n",
    "</summary>\n",
    "<p>\n",
    "<ul>\n",
    "   <li>You should exploit <strong>broadcasting</strong>.</li>\n",
    "<li>The mean and std operations return each a new series with the mean and the standard deviation for each column.\n",
    "</ul>\n",
    "</p>"
   ]
  },
  {
   "cell_type": "code",
   "execution_count": 66,
   "metadata": {},
   "outputs": [],
   "source": [
    "#### START CODE HERE (~1 line) ####\n",
    "df_norm = (df - df.min())/(df.max() - df.min())\n",
    "#### END CODE HERE ####"
   ]
  },
  {
   "cell_type": "code",
   "execution_count": 67,
   "metadata": {},
   "outputs": [
    {
     "name": "stdout",
     "output_type": "stream",
     "text": [
      "Minimum values after normalization\n",
      "size       0.0\n",
      "n_rooms    0.0\n",
      "dtype: float64\n",
      "\n",
      "Maximum values after normalization\n",
      "size       1.0\n",
      "n_rooms    1.0\n",
      "dtype: float64\n"
     ]
    }
   ],
   "source": [
    "print(\"Minimum values after normalization\")\n",
    "print(df_norm.min())\n",
    "print(\"\\nMaximum values after normalization\")\n",
    "print(df_norm.max())"
   ]
  },
  {
   "cell_type": "markdown",
   "metadata": {},
   "source": [
    "#### Expected output\n",
    "```Minimum values after normalization```<br>\n",
    "```size       0.0```<br>\n",
    "```n_rooms    0.0```<br>\n",
    "```dtype: float64```<br><br>\n",
    "```Maximum values after normalization```<br>\n",
    "```size       1.0```<br>\n",
    "```n_rooms    1.0```<br>\n",
    "```dtype: float64```<br>"
   ]
  },
  {
   "cell_type": "markdown",
   "metadata": {},
   "source": [
    "### Exercise 3.3\n",
    "\n",
    "Compute the **mean** of **all the columns** for the groups obtained by aggregating the column `size`.\n",
    "\n",
    "Firstly, run the next cell to create the DataFrame."
   ]
  },
  {
   "cell_type": "code",
   "execution_count": 71,
   "metadata": {},
   "outputs": [
    {
     "name": "stdout",
     "output_type": "stream",
     "text": [
      "first 10 rows:\n"
     ]
    },
    {
     "data": {
      "text/html": [
       "<div>\n",
       "<style scoped>\n",
       "    .dataframe tbody tr th:only-of-type {\n",
       "        vertical-align: middle;\n",
       "    }\n",
       "\n",
       "    .dataframe tbody tr th {\n",
       "        vertical-align: top;\n",
       "    }\n",
       "\n",
       "    .dataframe thead th {\n",
       "        text-align: right;\n",
       "    }\n",
       "</style>\n",
       "<table border=\"1\" class=\"dataframe\">\n",
       "  <thead>\n",
       "    <tr style=\"text-align: right;\">\n",
       "      <th></th>\n",
       "      <th>size</th>\n",
       "      <th>n_rooms</th>\n",
       "      <th>zone</th>\n",
       "    </tr>\n",
       "  </thead>\n",
       "  <tbody>\n",
       "    <tr>\n",
       "      <th>House 0</th>\n",
       "      <td>489.913142</td>\n",
       "      <td>5</td>\n",
       "      <td>vanchiglia</td>\n",
       "    </tr>\n",
       "    <tr>\n",
       "      <th>House 1</th>\n",
       "      <td>567.109419</td>\n",
       "      <td>1</td>\n",
       "      <td>centro</td>\n",
       "    </tr>\n",
       "    <tr>\n",
       "      <th>House 2</th>\n",
       "      <td>502.168702</td>\n",
       "      <td>8</td>\n",
       "      <td>crocetta</td>\n",
       "    </tr>\n",
       "    <tr>\n",
       "      <th>House 3</th>\n",
       "      <td>525.539677</td>\n",
       "      <td>4</td>\n",
       "      <td>santa rita</td>\n",
       "    </tr>\n",
       "    <tr>\n",
       "      <th>House 4</th>\n",
       "      <td>423.049425</td>\n",
       "      <td>5</td>\n",
       "      <td>vanchiglia</td>\n",
       "    </tr>\n",
       "    <tr>\n",
       "      <th>House 5</th>\n",
       "      <td>502.999869</td>\n",
       "      <td>6</td>\n",
       "      <td>crocetta</td>\n",
       "    </tr>\n",
       "    <tr>\n",
       "      <th>House 6</th>\n",
       "      <td>521.041738</td>\n",
       "      <td>8</td>\n",
       "      <td>santa rita</td>\n",
       "    </tr>\n",
       "    <tr>\n",
       "      <th>House 7</th>\n",
       "      <td>571.890747</td>\n",
       "      <td>4</td>\n",
       "      <td>centro</td>\n",
       "    </tr>\n",
       "    <tr>\n",
       "      <th>House 8</th>\n",
       "      <td>475.908401</td>\n",
       "      <td>3</td>\n",
       "      <td>vanchiglia</td>\n",
       "    </tr>\n",
       "    <tr>\n",
       "      <th>House 9</th>\n",
       "      <td>480.575793</td>\n",
       "      <td>8</td>\n",
       "      <td>san paolo</td>\n",
       "    </tr>\n",
       "  </tbody>\n",
       "</table>\n",
       "</div>"
      ],
      "text/plain": [
       "               size  n_rooms        zone\n",
       "House 0  489.913142        5  vanchiglia\n",
       "House 1  567.109419        1      centro\n",
       "House 2  502.168702        8    crocetta\n",
       "House 3  525.539677        4  santa rita\n",
       "House 4  423.049425        5  vanchiglia\n",
       "House 5  502.999869        6    crocetta\n",
       "House 6  521.041738        8  santa rita\n",
       "House 7  571.890747        4      centro\n",
       "House 8  475.908401        3  vanchiglia\n",
       "House 9  480.575793        8   san paolo"
      ]
     },
     "execution_count": 71,
     "metadata": {},
     "output_type": "execute_result"
    }
   ],
   "source": [
    "city_zones = [\"crocetta\", \"santa rita\", \"centro\", \"vanchiglia\", \"san paolo\"]\n",
    "\n",
    "n_houses = 100\n",
    "\n",
    "size_houses = np.random.normal(500, 50, (n_houses,))\n",
    "\n",
    "n_rooms = np.random.normal(3, 2, (n_houses,)) # Generate n_samples samples for the number of rooms with the specified mean and std dev\n",
    "n_rooms = n_rooms.astype(int) # convert the number of rooms to an array containing only integers numbers\n",
    "n_rooms = n_rooms+np.min(n_rooms)*-1+1 # move the samples with a minumum number of rooms of 1 (this will change the mean)\n",
    "\n",
    "zones = [city_zones[random.randint(0, len(city_zones)-1)] for i in range(n_houses)]\n",
    "\n",
    "index_list = [f\"House {i}\" for i in range(n_houses)]\n",
    "\n",
    "df = pd.DataFrame({\"size\":size_houses, \"n_rooms\":n_rooms, \"zone\":zones}, index=index_list) \n",
    "\n",
    "print(\"first 10 rows:\")\n",
    "df.head(10)"
   ]
  },
  {
   "cell_type": "markdown",
   "metadata": {},
   "source": [
    "Now, compute and print the mean of the `size` and `n_rooms` columns of the groups obtained by aggregating the `zone` column. After the group operation, you should put `.reset_index()` to **reset the multi-level index**."
   ]
  },
  {
   "cell_type": "code",
   "execution_count": 78,
   "metadata": {},
   "outputs": [
    {
     "data": {
      "text/html": [
       "<div>\n",
       "<style scoped>\n",
       "    .dataframe tbody tr th:only-of-type {\n",
       "        vertical-align: middle;\n",
       "    }\n",
       "\n",
       "    .dataframe tbody tr th {\n",
       "        vertical-align: top;\n",
       "    }\n",
       "\n",
       "    .dataframe thead th {\n",
       "        text-align: right;\n",
       "    }\n",
       "</style>\n",
       "<table border=\"1\" class=\"dataframe\">\n",
       "  <thead>\n",
       "    <tr style=\"text-align: right;\">\n",
       "      <th></th>\n",
       "      <th>zone</th>\n",
       "      <th>size</th>\n",
       "      <th>n_rooms</th>\n",
       "    </tr>\n",
       "  </thead>\n",
       "  <tbody>\n",
       "    <tr>\n",
       "      <th>0</th>\n",
       "      <td>centro</td>\n",
       "      <td>505.235436</td>\n",
       "      <td>4.055556</td>\n",
       "    </tr>\n",
       "    <tr>\n",
       "      <th>1</th>\n",
       "      <td>crocetta</td>\n",
       "      <td>513.355198</td>\n",
       "      <td>4.222222</td>\n",
       "    </tr>\n",
       "    <tr>\n",
       "      <th>2</th>\n",
       "      <td>san paolo</td>\n",
       "      <td>498.060250</td>\n",
       "      <td>3.500000</td>\n",
       "    </tr>\n",
       "    <tr>\n",
       "      <th>3</th>\n",
       "      <td>santa rita</td>\n",
       "      <td>504.155284</td>\n",
       "      <td>3.407407</td>\n",
       "    </tr>\n",
       "    <tr>\n",
       "      <th>4</th>\n",
       "      <td>vanchiglia</td>\n",
       "      <td>487.981721</td>\n",
       "      <td>3.411765</td>\n",
       "    </tr>\n",
       "  </tbody>\n",
       "</table>\n",
       "</div>"
      ],
      "text/plain": [
       "         zone        size   n_rooms\n",
       "0      centro  505.235436  4.055556\n",
       "1    crocetta  513.355198  4.222222\n",
       "2   san paolo  498.060250  3.500000\n",
       "3  santa rita  504.155284  3.407407\n",
       "4  vanchiglia  487.981721  3.411765"
      ]
     },
     "execution_count": 78,
     "metadata": {},
     "output_type": "execute_result"
    }
   ],
   "source": [
    "#### START CODE HERE (~1 line) ####\n",
    "df.groupby([\"zone\"]).mean().reset_index()\n",
    "#### END CODE HERE ####"
   ]
  },
  {
   "cell_type": "markdown",
   "metadata": {},
   "source": [
    "#### Expected output\n",
    "```__         zone        size   n_rooms```<br>\n",
    "```0\t    centro  511.350284  5.411765```<br>\n",
    "```1\t  crocetta\t499.389683\t5.583333```<br>\n",
    "```2\t san paolo\t490.504449\t5.214286```<br>\n",
    "```3\tsanta rita\t501.955531\t5.300000```<br>\n",
    "```4\tvanchiglia\t505.539748\t5.960000```<br>"
   ]
  },
  {
   "cell_type": "markdown",
   "metadata": {},
   "source": [
    "### Exercise 3.4\n",
    "\n",
    "Compute the **maximum value** of the column `size` for the **groups obtained by aggregating** the column `zone` (i.e., in each row you should obtain the maximum size for each zone). After the group operation, you should put `.reset_index()` to **reset the multi-level index**."
   ]
  },
  {
   "cell_type": "code",
   "execution_count": 83,
   "metadata": {},
   "outputs": [
    {
     "data": {
      "text/html": [
       "<div>\n",
       "<style scoped>\n",
       "    .dataframe tbody tr th:only-of-type {\n",
       "        vertical-align: middle;\n",
       "    }\n",
       "\n",
       "    .dataframe tbody tr th {\n",
       "        vertical-align: top;\n",
       "    }\n",
       "\n",
       "    .dataframe thead th {\n",
       "        text-align: right;\n",
       "    }\n",
       "</style>\n",
       "<table border=\"1\" class=\"dataframe\">\n",
       "  <thead>\n",
       "    <tr style=\"text-align: right;\">\n",
       "      <th></th>\n",
       "      <th>zone</th>\n",
       "      <th>size</th>\n",
       "    </tr>\n",
       "  </thead>\n",
       "  <tbody>\n",
       "    <tr>\n",
       "      <th>0</th>\n",
       "      <td>centro</td>\n",
       "      <td>571.890747</td>\n",
       "    </tr>\n",
       "    <tr>\n",
       "      <th>1</th>\n",
       "      <td>crocetta</td>\n",
       "      <td>585.719228</td>\n",
       "    </tr>\n",
       "    <tr>\n",
       "      <th>2</th>\n",
       "      <td>san paolo</td>\n",
       "      <td>576.025651</td>\n",
       "    </tr>\n",
       "    <tr>\n",
       "      <th>3</th>\n",
       "      <td>santa rita</td>\n",
       "      <td>588.171320</td>\n",
       "    </tr>\n",
       "    <tr>\n",
       "      <th>4</th>\n",
       "      <td>vanchiglia</td>\n",
       "      <td>612.632418</td>\n",
       "    </tr>\n",
       "  </tbody>\n",
       "</table>\n",
       "</div>"
      ],
      "text/plain": [
       "         zone        size\n",
       "0      centro  571.890747\n",
       "1    crocetta  585.719228\n",
       "2   san paolo  576.025651\n",
       "3  santa rita  588.171320\n",
       "4  vanchiglia  612.632418"
      ]
     },
     "execution_count": 83,
     "metadata": {},
     "output_type": "execute_result"
    }
   ],
   "source": [
    "#### START CODE HERE (~1 line) ####\n",
    "df.groupby([\"zone\"])[\"size\"].max().reset_index()\n",
    "#### END CODE HERE ####"
   ]
  },
  {
   "cell_type": "markdown",
   "metadata": {},
   "source": [
    "#### Expected output\n",
    "```__         zone        size```<br>\n",
    "```0\t    centro    608.947503```<br>\n",
    "```1\t  crocetta\t565.018991```<br>\n",
    "```2\t san paolo\t596.072535```<br>\n",
    "```3\tsanta rita\t569.898028```<br>\n",
    "```4\tvanchiglia\t579.317779```<br>"
   ]
  },
  {
   "cell_type": "code",
   "execution_count": null,
   "metadata": {},
   "outputs": [],
   "source": []
  }
 ],
 "metadata": {
  "kernelspec": {
   "display_name": "Python 3",
   "language": "python",
   "name": "python3"
  },
  "language_info": {
   "codemirror_mode": {
    "name": "ipython",
    "version": 3
   },
   "file_extension": ".py",
   "mimetype": "text/x-python",
   "name": "python",
   "nbconvert_exporter": "python",
   "pygments_lexer": "ipython3",
   "version": "3.10.11"
  }
 },
 "nbformat": 4,
 "nbformat_minor": 1
}
